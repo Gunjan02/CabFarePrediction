{
 "cells": [
  {
   "cell_type": "code",
   "execution_count": 1,
   "metadata": {},
   "outputs": [
    {
     "data": {
      "text/plain": [
       "'Problem statement :  Design a system that predicts the fare amount for a cab ride in the city.\\nAccording to CRISP DM Process this problem statement lies in the category of forecasting which deals with\\npredicting continuous value for future(in our case the continuous value is the fare amount of the cab ride.)'"
      ]
     },
     "execution_count": 1,
     "metadata": {},
     "output_type": "execute_result"
    }
   ],
   "source": [
    "'''Problem statement :  Design a system that predicts the fare amount for a cab ride in the city.\n",
    "According to CRISP DM Process this problem statement lies in the category of forecasting which deals with\n",
    "predicting continuous value for future(in our case the continuous value is the fare amount of the cab ride.)'''"
   ]
  },
  {
   "cell_type": "code",
   "execution_count": 2,
   "metadata": {},
   "outputs": [
    {
     "name": "stderr",
     "output_type": "stream",
     "text": [
      "Using TensorFlow backend.\n"
     ]
    }
   ],
   "source": [
    "import pandas as pd\n",
    "import numpy as np\n",
    "import matplotlib.pyplot as plt\n",
    "import seaborn as sns\n",
    "from fancyimpute import KNN\n",
    "import datetime\n",
    "import itertools\n",
    "from sklearn.model_selection import train_test_split\n",
    "import statsmodels.api as sm\n",
    "from sklearn.tree import DecisionTreeRegressor\n",
    "from sklearn.preprocessing import StandardScaler\n",
    "from sklearn.preprocessing import MinMaxScaler\n",
    "from sklearn.ensemble import RandomForestRegressor\n",
    "from sklearn import metrics\n",
    "from math import sqrt\n",
    "from sklearn import neighbors\n",
    "from sklearn.metrics import mean_squared_error \n",
    "from IPython import get_ipython"
   ]
  },
  {
   "cell_type": "code",
   "execution_count": 3,
   "metadata": {},
   "outputs": [
    {
     "data": {
      "text/html": [
       "<div>\n",
       "<style scoped>\n",
       "    .dataframe tbody tr th:only-of-type {\n",
       "        vertical-align: middle;\n",
       "    }\n",
       "\n",
       "    .dataframe tbody tr th {\n",
       "        vertical-align: top;\n",
       "    }\n",
       "\n",
       "    .dataframe thead th {\n",
       "        text-align: right;\n",
       "    }\n",
       "</style>\n",
       "<table border=\"1\" class=\"dataframe\">\n",
       "  <thead>\n",
       "    <tr style=\"text-align: right;\">\n",
       "      <th></th>\n",
       "      <th>fare_amount</th>\n",
       "      <th>pickup_datetime</th>\n",
       "      <th>pickup_longitude</th>\n",
       "      <th>pickup_latitude</th>\n",
       "      <th>dropoff_longitude</th>\n",
       "      <th>dropoff_latitude</th>\n",
       "      <th>passenger_count</th>\n",
       "    </tr>\n",
       "  </thead>\n",
       "  <tbody>\n",
       "    <tr>\n",
       "      <th>0</th>\n",
       "      <td>4.5</td>\n",
       "      <td>2009-06-15 17:26:21 UTC</td>\n",
       "      <td>-73.844311</td>\n",
       "      <td>40.721319</td>\n",
       "      <td>-73.841610</td>\n",
       "      <td>40.712278</td>\n",
       "      <td>1.0</td>\n",
       "    </tr>\n",
       "    <tr>\n",
       "      <th>1</th>\n",
       "      <td>16.9</td>\n",
       "      <td>2010-01-05 16:52:16 UTC</td>\n",
       "      <td>-74.016048</td>\n",
       "      <td>40.711303</td>\n",
       "      <td>-73.979268</td>\n",
       "      <td>40.782004</td>\n",
       "      <td>1.0</td>\n",
       "    </tr>\n",
       "    <tr>\n",
       "      <th>2</th>\n",
       "      <td>5.7</td>\n",
       "      <td>2011-08-18 00:35:00 UTC</td>\n",
       "      <td>-73.982738</td>\n",
       "      <td>40.761270</td>\n",
       "      <td>-73.991242</td>\n",
       "      <td>40.750562</td>\n",
       "      <td>2.0</td>\n",
       "    </tr>\n",
       "    <tr>\n",
       "      <th>3</th>\n",
       "      <td>7.7</td>\n",
       "      <td>2012-04-21 04:30:42 UTC</td>\n",
       "      <td>-73.987130</td>\n",
       "      <td>40.733143</td>\n",
       "      <td>-73.991567</td>\n",
       "      <td>40.758092</td>\n",
       "      <td>1.0</td>\n",
       "    </tr>\n",
       "    <tr>\n",
       "      <th>4</th>\n",
       "      <td>5.3</td>\n",
       "      <td>2010-03-09 07:51:00 UTC</td>\n",
       "      <td>-73.968095</td>\n",
       "      <td>40.768008</td>\n",
       "      <td>-73.956655</td>\n",
       "      <td>40.783762</td>\n",
       "      <td>1.0</td>\n",
       "    </tr>\n",
       "  </tbody>\n",
       "</table>\n",
       "</div>"
      ],
      "text/plain": [
       "  fare_amount          pickup_datetime  pickup_longitude  pickup_latitude  \\\n",
       "0         4.5  2009-06-15 17:26:21 UTC        -73.844311        40.721319   \n",
       "1        16.9  2010-01-05 16:52:16 UTC        -74.016048        40.711303   \n",
       "2         5.7  2011-08-18 00:35:00 UTC        -73.982738        40.761270   \n",
       "3         7.7  2012-04-21 04:30:42 UTC        -73.987130        40.733143   \n",
       "4         5.3  2010-03-09 07:51:00 UTC        -73.968095        40.768008   \n",
       "\n",
       "   dropoff_longitude  dropoff_latitude  passenger_count  \n",
       "0         -73.841610         40.712278              1.0  \n",
       "1         -73.979268         40.782004              1.0  \n",
       "2         -73.991242         40.750562              2.0  \n",
       "3         -73.991567         40.758092              1.0  \n",
       "4         -73.956655         40.783762              1.0  "
      ]
     },
     "execution_count": 3,
     "metadata": {},
     "output_type": "execute_result"
    }
   ],
   "source": [
    "cab_df=pd.read_csv(\"train_cab.csv\")\n",
    "cab_df.head()"
   ]
  },
  {
   "cell_type": "code",
   "execution_count": 4,
   "metadata": {},
   "outputs": [
    {
     "name": "stdout",
     "output_type": "stream",
     "text": [
      "<class 'pandas.core.frame.DataFrame'>\n",
      "RangeIndex: 16067 entries, 0 to 16066\n",
      "Data columns (total 7 columns):\n",
      "fare_amount          16043 non-null object\n",
      "pickup_datetime      16067 non-null object\n",
      "pickup_longitude     16067 non-null float64\n",
      "pickup_latitude      16067 non-null float64\n",
      "dropoff_longitude    16067 non-null float64\n",
      "dropoff_latitude     16067 non-null float64\n",
      "passenger_count      16012 non-null float64\n",
      "dtypes: float64(5), object(2)\n",
      "memory usage: 878.7+ KB\n"
     ]
    }
   ],
   "source": [
    "cab_df.info()"
   ]
  },
  {
   "cell_type": "code",
   "execution_count": 5,
   "metadata": {},
   "outputs": [
    {
     "data": {
      "text/plain": [
       "'Data Type conversion : So that pickup_datetime and fare_amount get converted to proper datatypes.'"
      ]
     },
     "execution_count": 5,
     "metadata": {},
     "output_type": "execute_result"
    }
   ],
   "source": [
    "'''Data Type conversion : So that pickup_datetime and fare_amount get converted to proper datatypes.'''"
   ]
  },
  {
   "cell_type": "code",
   "execution_count": 6,
   "metadata": {},
   "outputs": [],
   "source": [
    "cab_df['fare_amount']=pd.to_numeric(cab_df['fare_amount'],errors='coerce')"
   ]
  },
  {
   "cell_type": "code",
   "execution_count": 7,
   "metadata": {},
   "outputs": [],
   "source": [
    "cab_df['pickup_datetime']=pd.to_datetime(cab_df['pickup_datetime'],errors='coerce')"
   ]
  },
  {
   "cell_type": "code",
   "execution_count": 8,
   "metadata": {},
   "outputs": [
    {
     "data": {
      "text/plain": [
       "fare_amount                      float64\n",
       "pickup_datetime      datetime64[ns, UTC]\n",
       "pickup_longitude                 float64\n",
       "pickup_latitude                  float64\n",
       "dropoff_longitude                float64\n",
       "dropoff_latitude                 float64\n",
       "passenger_count                  float64\n",
       "dtype: object"
      ]
     },
     "execution_count": 8,
     "metadata": {},
     "output_type": "execute_result"
    }
   ],
   "source": [
    "cab_df.dtypes"
   ]
  },
  {
   "cell_type": "code",
   "execution_count": 9,
   "metadata": {},
   "outputs": [
    {
     "data": {
      "text/html": [
       "<div>\n",
       "<style scoped>\n",
       "    .dataframe tbody tr th:only-of-type {\n",
       "        vertical-align: middle;\n",
       "    }\n",
       "\n",
       "    .dataframe tbody tr th {\n",
       "        vertical-align: top;\n",
       "    }\n",
       "\n",
       "    .dataframe thead th {\n",
       "        text-align: right;\n",
       "    }\n",
       "</style>\n",
       "<table border=\"1\" class=\"dataframe\">\n",
       "  <thead>\n",
       "    <tr style=\"text-align: right;\">\n",
       "      <th></th>\n",
       "      <th>fare_amount</th>\n",
       "      <th>pickup_datetime</th>\n",
       "      <th>pickup_longitude</th>\n",
       "      <th>pickup_latitude</th>\n",
       "      <th>dropoff_longitude</th>\n",
       "      <th>dropoff_latitude</th>\n",
       "      <th>passenger_count</th>\n",
       "    </tr>\n",
       "  </thead>\n",
       "  <tbody>\n",
       "    <tr>\n",
       "      <th>1327</th>\n",
       "      <td>11.5</td>\n",
       "      <td>NaT</td>\n",
       "      <td>-73.981947</td>\n",
       "      <td>40.7282</td>\n",
       "      <td>-73.988582</td>\n",
       "      <td>40.759202</td>\n",
       "      <td>1.0</td>\n",
       "    </tr>\n",
       "  </tbody>\n",
       "</table>\n",
       "</div>"
      ],
      "text/plain": [
       "      fare_amount pickup_datetime  pickup_longitude  pickup_latitude  \\\n",
       "1327         11.5             NaT        -73.981947          40.7282   \n",
       "\n",
       "      dropoff_longitude  dropoff_latitude  passenger_count  \n",
       "1327         -73.988582         40.759202              1.0  "
      ]
     },
     "execution_count": 9,
     "metadata": {},
     "output_type": "execute_result"
    }
   ],
   "source": [
    "cab_df[(cab_df['pickup_datetime'].isna()==True)]"
   ]
  },
  {
   "cell_type": "code",
   "execution_count": 10,
   "metadata": {},
   "outputs": [],
   "source": [
    "#As there is only 1 inappropriate format of datetime so deleting it\n",
    "cab_df = cab_df[cab_df.pickup_datetime.notnull()] "
   ]
  },
  {
   "cell_type": "code",
   "execution_count": 11,
   "metadata": {},
   "outputs": [
    {
     "data": {
      "text/html": [
       "<div>\n",
       "<style scoped>\n",
       "    .dataframe tbody tr th:only-of-type {\n",
       "        vertical-align: middle;\n",
       "    }\n",
       "\n",
       "    .dataframe tbody tr th {\n",
       "        vertical-align: top;\n",
       "    }\n",
       "\n",
       "    .dataframe thead th {\n",
       "        text-align: right;\n",
       "    }\n",
       "</style>\n",
       "<table border=\"1\" class=\"dataframe\">\n",
       "  <thead>\n",
       "    <tr style=\"text-align: right;\">\n",
       "      <th></th>\n",
       "      <th>index</th>\n",
       "      <th>0</th>\n",
       "    </tr>\n",
       "  </thead>\n",
       "  <tbody>\n",
       "    <tr>\n",
       "      <th>0</th>\n",
       "      <td>fare_amount</td>\n",
       "      <td>25</td>\n",
       "    </tr>\n",
       "    <tr>\n",
       "      <th>1</th>\n",
       "      <td>pickup_datetime</td>\n",
       "      <td>0</td>\n",
       "    </tr>\n",
       "    <tr>\n",
       "      <th>2</th>\n",
       "      <td>pickup_longitude</td>\n",
       "      <td>0</td>\n",
       "    </tr>\n",
       "    <tr>\n",
       "      <th>3</th>\n",
       "      <td>pickup_latitude</td>\n",
       "      <td>0</td>\n",
       "    </tr>\n",
       "    <tr>\n",
       "      <th>4</th>\n",
       "      <td>dropoff_longitude</td>\n",
       "      <td>0</td>\n",
       "    </tr>\n",
       "    <tr>\n",
       "      <th>5</th>\n",
       "      <td>dropoff_latitude</td>\n",
       "      <td>0</td>\n",
       "    </tr>\n",
       "    <tr>\n",
       "      <th>6</th>\n",
       "      <td>passenger_count</td>\n",
       "      <td>55</td>\n",
       "    </tr>\n",
       "  </tbody>\n",
       "</table>\n",
       "</div>"
      ],
      "text/plain": [
       "               index   0\n",
       "0        fare_amount  25\n",
       "1    pickup_datetime   0\n",
       "2   pickup_longitude   0\n",
       "3    pickup_latitude   0\n",
       "4  dropoff_longitude   0\n",
       "5   dropoff_latitude   0\n",
       "6    passenger_count  55"
      ]
     },
     "execution_count": 11,
     "metadata": {},
     "output_type": "execute_result"
    }
   ],
   "source": [
    "missing_val=pd.DataFrame(cab_df.isnull().sum())\n",
    "missing_val=missing_val.reset_index()\n",
    "missing_val"
   ]
  },
  {
   "cell_type": "code",
   "execution_count": 12,
   "metadata": {},
   "outputs": [
    {
     "data": {
      "text/html": [
       "<div>\n",
       "<style scoped>\n",
       "    .dataframe tbody tr th:only-of-type {\n",
       "        vertical-align: middle;\n",
       "    }\n",
       "\n",
       "    .dataframe tbody tr th {\n",
       "        vertical-align: top;\n",
       "    }\n",
       "\n",
       "    .dataframe thead th {\n",
       "        text-align: right;\n",
       "    }\n",
       "</style>\n",
       "<table border=\"1\" class=\"dataframe\">\n",
       "  <thead>\n",
       "    <tr style=\"text-align: right;\">\n",
       "      <th></th>\n",
       "      <th>variables</th>\n",
       "      <th>missing_percentage</th>\n",
       "    </tr>\n",
       "  </thead>\n",
       "  <tbody>\n",
       "    <tr>\n",
       "      <th>0</th>\n",
       "      <td>passenger_count</td>\n",
       "      <td>0.342338</td>\n",
       "    </tr>\n",
       "    <tr>\n",
       "      <th>1</th>\n",
       "      <td>fare_amount</td>\n",
       "      <td>0.155608</td>\n",
       "    </tr>\n",
       "    <tr>\n",
       "      <th>2</th>\n",
       "      <td>pickup_datetime</td>\n",
       "      <td>0.000000</td>\n",
       "    </tr>\n",
       "    <tr>\n",
       "      <th>3</th>\n",
       "      <td>pickup_longitude</td>\n",
       "      <td>0.000000</td>\n",
       "    </tr>\n",
       "    <tr>\n",
       "      <th>4</th>\n",
       "      <td>pickup_latitude</td>\n",
       "      <td>0.000000</td>\n",
       "    </tr>\n",
       "    <tr>\n",
       "      <th>5</th>\n",
       "      <td>dropoff_longitude</td>\n",
       "      <td>0.000000</td>\n",
       "    </tr>\n",
       "    <tr>\n",
       "      <th>6</th>\n",
       "      <td>dropoff_latitude</td>\n",
       "      <td>0.000000</td>\n",
       "    </tr>\n",
       "  </tbody>\n",
       "</table>\n",
       "</div>"
      ],
      "text/plain": [
       "           variables  missing_percentage\n",
       "0    passenger_count            0.342338\n",
       "1        fare_amount            0.155608\n",
       "2    pickup_datetime            0.000000\n",
       "3   pickup_longitude            0.000000\n",
       "4    pickup_latitude            0.000000\n",
       "5  dropoff_longitude            0.000000\n",
       "6   dropoff_latitude            0.000000"
      ]
     },
     "execution_count": 12,
     "metadata": {},
     "output_type": "execute_result"
    }
   ],
   "source": [
    "missing_val=missing_val.rename(columns={'index':'variables',0:'missing_percentage'})\n",
    "missing_val['missing_percentage']=(missing_val['missing_percentage']/len(cab_df))*100\n",
    "missing_val=missing_val.sort_values(by='missing_percentage',ascending=False).reset_index(drop=True)\n",
    "missing_val"
   ]
  },
  {
   "cell_type": "code",
   "execution_count": 13,
   "metadata": {},
   "outputs": [
    {
     "data": {
      "text/html": [
       "<div>\n",
       "<style scoped>\n",
       "    .dataframe tbody tr th:only-of-type {\n",
       "        vertical-align: middle;\n",
       "    }\n",
       "\n",
       "    .dataframe tbody tr th {\n",
       "        vertical-align: top;\n",
       "    }\n",
       "\n",
       "    .dataframe thead th {\n",
       "        text-align: right;\n",
       "    }\n",
       "</style>\n",
       "<table border=\"1\" class=\"dataframe\">\n",
       "  <thead>\n",
       "    <tr style=\"text-align: right;\">\n",
       "      <th></th>\n",
       "      <th>fare_amount</th>\n",
       "      <th>pickup_datetime</th>\n",
       "      <th>pickup_longitude</th>\n",
       "      <th>pickup_latitude</th>\n",
       "      <th>dropoff_longitude</th>\n",
       "      <th>dropoff_latitude</th>\n",
       "      <th>passenger_count</th>\n",
       "    </tr>\n",
       "  </thead>\n",
       "  <tbody>\n",
       "    <tr>\n",
       "      <th>8</th>\n",
       "      <td>NaN</td>\n",
       "      <td>2012-12-03 13:10:00+00:00</td>\n",
       "      <td>-74.006462</td>\n",
       "      <td>40.726713</td>\n",
       "      <td>-73.993078</td>\n",
       "      <td>40.731628</td>\n",
       "      <td>1.0</td>\n",
       "    </tr>\n",
       "    <tr>\n",
       "      <th>26</th>\n",
       "      <td>NaN</td>\n",
       "      <td>2011-02-07 20:01:00+00:00</td>\n",
       "      <td>0.000000</td>\n",
       "      <td>0.000000</td>\n",
       "      <td>0.000000</td>\n",
       "      <td>0.000000</td>\n",
       "      <td>1.0</td>\n",
       "    </tr>\n",
       "    <tr>\n",
       "      <th>69</th>\n",
       "      <td>NaN</td>\n",
       "      <td>2015-05-12 23:51:42+00:00</td>\n",
       "      <td>-73.954796</td>\n",
       "      <td>40.779335</td>\n",
       "      <td>-73.944931</td>\n",
       "      <td>40.780087</td>\n",
       "      <td>1.0</td>\n",
       "    </tr>\n",
       "    <tr>\n",
       "      <th>126</th>\n",
       "      <td>NaN</td>\n",
       "      <td>2013-09-17 04:22:00+00:00</td>\n",
       "      <td>-73.987210</td>\n",
       "      <td>40.729325</td>\n",
       "      <td>-73.931985</td>\n",
       "      <td>40.697207</td>\n",
       "      <td>1.0</td>\n",
       "    </tr>\n",
       "    <tr>\n",
       "      <th>168</th>\n",
       "      <td>NaN</td>\n",
       "      <td>2009-01-16 21:10:00+00:00</td>\n",
       "      <td>-73.994143</td>\n",
       "      <td>40.751193</td>\n",
       "      <td>-73.988897</td>\n",
       "      <td>40.759742</td>\n",
       "      <td>1.0</td>\n",
       "    </tr>\n",
       "    <tr>\n",
       "      <th>240</th>\n",
       "      <td>NaN</td>\n",
       "      <td>2009-06-20 19:28:37+00:00</td>\n",
       "      <td>-73.979345</td>\n",
       "      <td>40.776630</td>\n",
       "      <td>-73.973842</td>\n",
       "      <td>40.757074</td>\n",
       "      <td>1.0</td>\n",
       "    </tr>\n",
       "    <tr>\n",
       "      <th>305</th>\n",
       "      <td>NaN</td>\n",
       "      <td>2014-07-11 05:07:00+00:00</td>\n",
       "      <td>-73.951660</td>\n",
       "      <td>40.772657</td>\n",
       "      <td>-74.010583</td>\n",
       "      <td>40.721405</td>\n",
       "      <td>2.0</td>\n",
       "    </tr>\n",
       "    <tr>\n",
       "      <th>350</th>\n",
       "      <td>NaN</td>\n",
       "      <td>2014-09-05 15:23:00+00:00</td>\n",
       "      <td>-73.968260</td>\n",
       "      <td>40.765140</td>\n",
       "      <td>-73.961115</td>\n",
       "      <td>40.774882</td>\n",
       "      <td>6.0</td>\n",
       "    </tr>\n",
       "    <tr>\n",
       "      <th>413</th>\n",
       "      <td>NaN</td>\n",
       "      <td>2013-09-12 11:32:00+00:00</td>\n",
       "      <td>-73.982060</td>\n",
       "      <td>40.772705</td>\n",
       "      <td>-73.956213</td>\n",
       "      <td>40.771777</td>\n",
       "      <td>55.0</td>\n",
       "    </tr>\n",
       "    <tr>\n",
       "      <th>455</th>\n",
       "      <td>NaN</td>\n",
       "      <td>2014-07-03 01:34:00+00:00</td>\n",
       "      <td>-73.968087</td>\n",
       "      <td>40.755140</td>\n",
       "      <td>-73.952622</td>\n",
       "      <td>40.823312</td>\n",
       "      <td>5.0</td>\n",
       "    </tr>\n",
       "    <tr>\n",
       "      <th>498</th>\n",
       "      <td>NaN</td>\n",
       "      <td>2009-03-16 04:47:17+00:00</td>\n",
       "      <td>0.000000</td>\n",
       "      <td>0.000000</td>\n",
       "      <td>0.000000</td>\n",
       "      <td>0.000000</td>\n",
       "      <td>1.0</td>\n",
       "    </tr>\n",
       "    <tr>\n",
       "      <th>667</th>\n",
       "      <td>NaN</td>\n",
       "      <td>2014-06-25 23:08:56+00:00</td>\n",
       "      <td>-73.977865</td>\n",
       "      <td>40.784274</td>\n",
       "      <td>-73.962362</td>\n",
       "      <td>40.767125</td>\n",
       "      <td>2.0</td>\n",
       "    </tr>\n",
       "    <tr>\n",
       "      <th>703</th>\n",
       "      <td>NaN</td>\n",
       "      <td>2012-05-21 11:37:42+00:00</td>\n",
       "      <td>-73.992170</td>\n",
       "      <td>40.764320</td>\n",
       "      <td>-73.966214</td>\n",
       "      <td>40.762562</td>\n",
       "      <td>1.0</td>\n",
       "    </tr>\n",
       "    <tr>\n",
       "      <th>746</th>\n",
       "      <td>NaN</td>\n",
       "      <td>2013-01-31 22:14:00+00:00</td>\n",
       "      <td>-73.985247</td>\n",
       "      <td>40.727532</td>\n",
       "      <td>-73.979572</td>\n",
       "      <td>40.735312</td>\n",
       "      <td>1.0</td>\n",
       "    </tr>\n",
       "    <tr>\n",
       "      <th>836</th>\n",
       "      <td>NaN</td>\n",
       "      <td>2012-03-16 07:52:00+00:00</td>\n",
       "      <td>-73.960797</td>\n",
       "      <td>40.818232</td>\n",
       "      <td>-73.953255</td>\n",
       "      <td>40.810163</td>\n",
       "      <td>1.0</td>\n",
       "    </tr>\n",
       "    <tr>\n",
       "      <th>840</th>\n",
       "      <td>NaN</td>\n",
       "      <td>2014-10-22 08:12:00+00:00</td>\n",
       "      <td>-73.996860</td>\n",
       "      <td>40.723110</td>\n",
       "      <td>-74.005370</td>\n",
       "      <td>40.732350</td>\n",
       "      <td>1.0</td>\n",
       "    </tr>\n",
       "    <tr>\n",
       "      <th>913</th>\n",
       "      <td>NaN</td>\n",
       "      <td>2014-04-08 14:11:00+00:00</td>\n",
       "      <td>-73.966193</td>\n",
       "      <td>40.758177</td>\n",
       "      <td>-73.991642</td>\n",
       "      <td>40.749080</td>\n",
       "      <td>1.0</td>\n",
       "    </tr>\n",
       "    <tr>\n",
       "      <th>1123</th>\n",
       "      <td>NaN</td>\n",
       "      <td>2009-09-22 19:01:01+00:00</td>\n",
       "      <td>-73.979610</td>\n",
       "      <td>40.771326</td>\n",
       "      <td>-73.975764</td>\n",
       "      <td>40.781965</td>\n",
       "      <td>1.0</td>\n",
       "    </tr>\n",
       "    <tr>\n",
       "      <th>1574</th>\n",
       "      <td>NaN</td>\n",
       "      <td>2009-03-30 01:26:23+00:00</td>\n",
       "      <td>-73.975024</td>\n",
       "      <td>40.755583</td>\n",
       "      <td>-73.968572</td>\n",
       "      <td>40.761105</td>\n",
       "      <td>1.0</td>\n",
       "    </tr>\n",
       "    <tr>\n",
       "      <th>1628</th>\n",
       "      <td>NaN</td>\n",
       "      <td>2015-02-18 08:09:48+00:00</td>\n",
       "      <td>-73.960068</td>\n",
       "      <td>40.770470</td>\n",
       "      <td>-73.865639</td>\n",
       "      <td>40.770912</td>\n",
       "      <td>1.0</td>\n",
       "    </tr>\n",
       "    <tr>\n",
       "      <th>1712</th>\n",
       "      <td>NaN</td>\n",
       "      <td>2010-05-01 14:35:52+00:00</td>\n",
       "      <td>-74.012721</td>\n",
       "      <td>40.708011</td>\n",
       "      <td>-74.003275</td>\n",
       "      <td>40.732985</td>\n",
       "      <td>1.0</td>\n",
       "    </tr>\n",
       "    <tr>\n",
       "      <th>2412</th>\n",
       "      <td>NaN</td>\n",
       "      <td>2014-04-30 15:08:11+00:00</td>\n",
       "      <td>-73.973644</td>\n",
       "      <td>40.794729</td>\n",
       "      <td>-73.977351</td>\n",
       "      <td>40.789741</td>\n",
       "      <td>3.0</td>\n",
       "    </tr>\n",
       "    <tr>\n",
       "      <th>2458</th>\n",
       "      <td>NaN</td>\n",
       "      <td>2012-10-14 20:11:00+00:00</td>\n",
       "      <td>-73.978177</td>\n",
       "      <td>40.778080</td>\n",
       "      <td>-73.987883</td>\n",
       "      <td>40.764717</td>\n",
       "      <td>2.0</td>\n",
       "    </tr>\n",
       "    <tr>\n",
       "      <th>8178</th>\n",
       "      <td>NaN</td>\n",
       "      <td>2015-03-10 06:19:43+00:00</td>\n",
       "      <td>-73.979927</td>\n",
       "      <td>40.735802</td>\n",
       "      <td>-74.011360</td>\n",
       "      <td>40.713360</td>\n",
       "      <td>1.0</td>\n",
       "    </tr>\n",
       "    <tr>\n",
       "      <th>8226</th>\n",
       "      <td>NaN</td>\n",
       "      <td>2011-08-13 01:33:02+00:00</td>\n",
       "      <td>-74.007081</td>\n",
       "      <td>40.741155</td>\n",
       "      <td>-73.835494</td>\n",
       "      <td>40.703821</td>\n",
       "      <td>4.0</td>\n",
       "    </tr>\n",
       "  </tbody>\n",
       "</table>\n",
       "</div>"
      ],
      "text/plain": [
       "      fare_amount           pickup_datetime  pickup_longitude  \\\n",
       "8             NaN 2012-12-03 13:10:00+00:00        -74.006462   \n",
       "26            NaN 2011-02-07 20:01:00+00:00          0.000000   \n",
       "69            NaN 2015-05-12 23:51:42+00:00        -73.954796   \n",
       "126           NaN 2013-09-17 04:22:00+00:00        -73.987210   \n",
       "168           NaN 2009-01-16 21:10:00+00:00        -73.994143   \n",
       "240           NaN 2009-06-20 19:28:37+00:00        -73.979345   \n",
       "305           NaN 2014-07-11 05:07:00+00:00        -73.951660   \n",
       "350           NaN 2014-09-05 15:23:00+00:00        -73.968260   \n",
       "413           NaN 2013-09-12 11:32:00+00:00        -73.982060   \n",
       "455           NaN 2014-07-03 01:34:00+00:00        -73.968087   \n",
       "498           NaN 2009-03-16 04:47:17+00:00          0.000000   \n",
       "667           NaN 2014-06-25 23:08:56+00:00        -73.977865   \n",
       "703           NaN 2012-05-21 11:37:42+00:00        -73.992170   \n",
       "746           NaN 2013-01-31 22:14:00+00:00        -73.985247   \n",
       "836           NaN 2012-03-16 07:52:00+00:00        -73.960797   \n",
       "840           NaN 2014-10-22 08:12:00+00:00        -73.996860   \n",
       "913           NaN 2014-04-08 14:11:00+00:00        -73.966193   \n",
       "1123          NaN 2009-09-22 19:01:01+00:00        -73.979610   \n",
       "1574          NaN 2009-03-30 01:26:23+00:00        -73.975024   \n",
       "1628          NaN 2015-02-18 08:09:48+00:00        -73.960068   \n",
       "1712          NaN 2010-05-01 14:35:52+00:00        -74.012721   \n",
       "2412          NaN 2014-04-30 15:08:11+00:00        -73.973644   \n",
       "2458          NaN 2012-10-14 20:11:00+00:00        -73.978177   \n",
       "8178          NaN 2015-03-10 06:19:43+00:00        -73.979927   \n",
       "8226          NaN 2011-08-13 01:33:02+00:00        -74.007081   \n",
       "\n",
       "      pickup_latitude  dropoff_longitude  dropoff_latitude  passenger_count  \n",
       "8           40.726713         -73.993078         40.731628              1.0  \n",
       "26           0.000000           0.000000          0.000000              1.0  \n",
       "69          40.779335         -73.944931         40.780087              1.0  \n",
       "126         40.729325         -73.931985         40.697207              1.0  \n",
       "168         40.751193         -73.988897         40.759742              1.0  \n",
       "240         40.776630         -73.973842         40.757074              1.0  \n",
       "305         40.772657         -74.010583         40.721405              2.0  \n",
       "350         40.765140         -73.961115         40.774882              6.0  \n",
       "413         40.772705         -73.956213         40.771777             55.0  \n",
       "455         40.755140         -73.952622         40.823312              5.0  \n",
       "498          0.000000           0.000000          0.000000              1.0  \n",
       "667         40.784274         -73.962362         40.767125              2.0  \n",
       "703         40.764320         -73.966214         40.762562              1.0  \n",
       "746         40.727532         -73.979572         40.735312              1.0  \n",
       "836         40.818232         -73.953255         40.810163              1.0  \n",
       "840         40.723110         -74.005370         40.732350              1.0  \n",
       "913         40.758177         -73.991642         40.749080              1.0  \n",
       "1123        40.771326         -73.975764         40.781965              1.0  \n",
       "1574        40.755583         -73.968572         40.761105              1.0  \n",
       "1628        40.770470         -73.865639         40.770912              1.0  \n",
       "1712        40.708011         -74.003275         40.732985              1.0  \n",
       "2412        40.794729         -73.977351         40.789741              3.0  \n",
       "2458        40.778080         -73.987883         40.764717              2.0  \n",
       "8178        40.735802         -74.011360         40.713360              1.0  \n",
       "8226        40.741155         -73.835494         40.703821              4.0  "
      ]
     },
     "execution_count": 13,
     "metadata": {},
     "output_type": "execute_result"
    }
   ],
   "source": [
    "cab_df[(cab_df['fare_amount'].isna()==True)]"
   ]
  },
  {
   "cell_type": "code",
   "execution_count": 14,
   "metadata": {},
   "outputs": [],
   "source": [
    "cab_df = cab_df[cab_df.fare_amount.notnull()] "
   ]
  },
  {
   "cell_type": "code",
   "execution_count": 15,
   "metadata": {},
   "outputs": [
    {
     "data": {
      "text/plain": [
       "(16041, 7)"
      ]
     },
     "execution_count": 15,
     "metadata": {},
     "output_type": "execute_result"
    }
   ],
   "source": [
    "cab_df.shape"
   ]
  },
  {
   "cell_type": "code",
   "execution_count": 16,
   "metadata": {},
   "outputs": [
    {
     "data": {
      "text/html": [
       "<div>\n",
       "<style scoped>\n",
       "    .dataframe tbody tr th:only-of-type {\n",
       "        vertical-align: middle;\n",
       "    }\n",
       "\n",
       "    .dataframe tbody tr th {\n",
       "        vertical-align: top;\n",
       "    }\n",
       "\n",
       "    .dataframe thead th {\n",
       "        text-align: right;\n",
       "    }\n",
       "</style>\n",
       "<table border=\"1\" class=\"dataframe\">\n",
       "  <thead>\n",
       "    <tr style=\"text-align: right;\">\n",
       "      <th></th>\n",
       "      <th>0</th>\n",
       "    </tr>\n",
       "  </thead>\n",
       "  <tbody>\n",
       "    <tr>\n",
       "      <th>fare_amount</th>\n",
       "      <td>0</td>\n",
       "    </tr>\n",
       "    <tr>\n",
       "      <th>pickup_datetime</th>\n",
       "      <td>0</td>\n",
       "    </tr>\n",
       "    <tr>\n",
       "      <th>pickup_longitude</th>\n",
       "      <td>0</td>\n",
       "    </tr>\n",
       "    <tr>\n",
       "      <th>pickup_latitude</th>\n",
       "      <td>0</td>\n",
       "    </tr>\n",
       "    <tr>\n",
       "      <th>dropoff_longitude</th>\n",
       "      <td>0</td>\n",
       "    </tr>\n",
       "    <tr>\n",
       "      <th>dropoff_latitude</th>\n",
       "      <td>0</td>\n",
       "    </tr>\n",
       "    <tr>\n",
       "      <th>passenger_count</th>\n",
       "      <td>55</td>\n",
       "    </tr>\n",
       "  </tbody>\n",
       "</table>\n",
       "</div>"
      ],
      "text/plain": [
       "                    0\n",
       "fare_amount         0\n",
       "pickup_datetime     0\n",
       "pickup_longitude    0\n",
       "pickup_latitude     0\n",
       "dropoff_longitude   0\n",
       "dropoff_latitude    0\n",
       "passenger_count    55"
      ]
     },
     "execution_count": 16,
     "metadata": {},
     "output_type": "execute_result"
    }
   ],
   "source": [
    "missing_val=pd.DataFrame(cab_df.isnull().sum())\n",
    "missing_val"
   ]
  },
  {
   "cell_type": "code",
   "execution_count": 17,
   "metadata": {},
   "outputs": [],
   "source": [
    "#Converting pickup_datetime back to numeric as for knn imputation all variables must be of numeric type\n",
    "cab_df['pickup_datetime']=pd.to_numeric(cab_df['pickup_datetime'])"
   ]
  },
  {
   "cell_type": "code",
   "execution_count": 18,
   "metadata": {},
   "outputs": [
    {
     "name": "stderr",
     "output_type": "stream",
     "text": [
      "C:\\Users\\admin\\Anaconda3\\lib\\site-packages\\pandas\\core\\indexing.py:190: SettingWithCopyWarning: \n",
      "A value is trying to be set on a copy of a slice from a DataFrame\n",
      "\n",
      "See the caveats in the documentation: http://pandas.pydata.org/pandas-docs/stable/indexing.html#indexing-view-versus-copy\n",
      "  self._setitem_with_indexer(indexer, value)\n"
     ]
    }
   ],
   "source": [
    "'''passenger_count has missing values< 30% so it needs to be imputed.\n",
    "Actual Value of 70th passenger: 2.0\n",
    "mean value: 2.62\n",
    "median value: 1.0\n",
    "KNN: 2.0\n",
    "Freeze knn for passenger_count''' \n",
    "cab_df['passenger_count'].loc[70] = np.nan"
   ]
  },
  {
   "cell_type": "code",
   "execution_count": 19,
   "metadata": {},
   "outputs": [
    {
     "data": {
      "text/html": [
       "<div>\n",
       "<style scoped>\n",
       "    .dataframe tbody tr th:only-of-type {\n",
       "        vertical-align: middle;\n",
       "    }\n",
       "\n",
       "    .dataframe tbody tr th {\n",
       "        vertical-align: top;\n",
       "    }\n",
       "\n",
       "    .dataframe thead th {\n",
       "        text-align: right;\n",
       "    }\n",
       "</style>\n",
       "<table border=\"1\" class=\"dataframe\">\n",
       "  <thead>\n",
       "    <tr style=\"text-align: right;\">\n",
       "      <th></th>\n",
       "      <th>fare_amount</th>\n",
       "      <th>pickup_datetime</th>\n",
       "      <th>pickup_longitude</th>\n",
       "      <th>pickup_latitude</th>\n",
       "      <th>dropoff_longitude</th>\n",
       "      <th>dropoff_latitude</th>\n",
       "      <th>passenger_count</th>\n",
       "    </tr>\n",
       "  </thead>\n",
       "  <tbody>\n",
       "    <tr>\n",
       "      <th>67</th>\n",
       "      <td>16.50</td>\n",
       "      <td>1398796080000000000</td>\n",
       "      <td>-73.970323</td>\n",
       "      <td>40.750840</td>\n",
       "      <td>-73.998392</td>\n",
       "      <td>40.724862</td>\n",
       "      <td>6.0</td>\n",
       "    </tr>\n",
       "    <tr>\n",
       "      <th>68</th>\n",
       "      <td>11.50</td>\n",
       "      <td>1428833945000000000</td>\n",
       "      <td>-73.979279</td>\n",
       "      <td>40.723438</td>\n",
       "      <td>-74.004608</td>\n",
       "      <td>40.746948</td>\n",
       "      <td>6.0</td>\n",
       "    </tr>\n",
       "    <tr>\n",
       "      <th>70</th>\n",
       "      <td>6.90</td>\n",
       "      <td>1249180451000000000</td>\n",
       "      <td>-73.995781</td>\n",
       "      <td>40.723411</td>\n",
       "      <td>-74.005004</td>\n",
       "      <td>40.718950</td>\n",
       "      <td>NaN</td>\n",
       "    </tr>\n",
       "    <tr>\n",
       "      <th>71</th>\n",
       "      <td>3.70</td>\n",
       "      <td>1264935180000000000</td>\n",
       "      <td>-74.001630</td>\n",
       "      <td>40.730767</td>\n",
       "      <td>-73.997112</td>\n",
       "      <td>40.737533</td>\n",
       "      <td>1.0</td>\n",
       "    </tr>\n",
       "    <tr>\n",
       "      <th>72</th>\n",
       "      <td>6.90</td>\n",
       "      <td>1273824540000000000</td>\n",
       "      <td>-73.955118</td>\n",
       "      <td>40.768942</td>\n",
       "      <td>-73.963495</td>\n",
       "      <td>40.761887</td>\n",
       "      <td>2.0</td>\n",
       "    </tr>\n",
       "    <tr>\n",
       "      <th>73</th>\n",
       "      <td>10.10</td>\n",
       "      <td>1337613600000000000</td>\n",
       "      <td>-73.977788</td>\n",
       "      <td>40.771838</td>\n",
       "      <td>-73.966200</td>\n",
       "      <td>40.778113</td>\n",
       "      <td>2.0</td>\n",
       "    </tr>\n",
       "    <tr>\n",
       "      <th>74</th>\n",
       "      <td>16.50</td>\n",
       "      <td>1418054401000000000</td>\n",
       "      <td>-73.982800</td>\n",
       "      <td>40.745287</td>\n",
       "      <td>-74.014250</td>\n",
       "      <td>40.702935</td>\n",
       "      <td>1.0</td>\n",
       "    </tr>\n",
       "    <tr>\n",
       "      <th>75</th>\n",
       "      <td>15.07</td>\n",
       "      <td>1281922380000000000</td>\n",
       "      <td>-73.961933</td>\n",
       "      <td>40.795585</td>\n",
       "      <td>-73.962253</td>\n",
       "      <td>40.764817</td>\n",
       "      <td>2.0</td>\n",
       "    </tr>\n",
       "    <tr>\n",
       "      <th>76</th>\n",
       "      <td>7.70</td>\n",
       "      <td>1291472773000000000</td>\n",
       "      <td>-73.996601</td>\n",
       "      <td>40.736569</td>\n",
       "      <td>-73.982152</td>\n",
       "      <td>40.744322</td>\n",
       "      <td>1.0</td>\n",
       "    </tr>\n",
       "    <tr>\n",
       "      <th>77</th>\n",
       "      <td>24.90</td>\n",
       "      <td>1313122800000000000</td>\n",
       "      <td>-74.006662</td>\n",
       "      <td>40.731210</td>\n",
       "      <td>-73.925940</td>\n",
       "      <td>40.825588</td>\n",
       "      <td>1.0</td>\n",
       "    </tr>\n",
       "  </tbody>\n",
       "</table>\n",
       "</div>"
      ],
      "text/plain": [
       "    fare_amount      pickup_datetime  pickup_longitude  pickup_latitude  \\\n",
       "67        16.50  1398796080000000000        -73.970323        40.750840   \n",
       "68        11.50  1428833945000000000        -73.979279        40.723438   \n",
       "70         6.90  1249180451000000000        -73.995781        40.723411   \n",
       "71         3.70  1264935180000000000        -74.001630        40.730767   \n",
       "72         6.90  1273824540000000000        -73.955118        40.768942   \n",
       "73        10.10  1337613600000000000        -73.977788        40.771838   \n",
       "74        16.50  1418054401000000000        -73.982800        40.745287   \n",
       "75        15.07  1281922380000000000        -73.961933        40.795585   \n",
       "76         7.70  1291472773000000000        -73.996601        40.736569   \n",
       "77        24.90  1313122800000000000        -74.006662        40.731210   \n",
       "\n",
       "    dropoff_longitude  dropoff_latitude  passenger_count  \n",
       "67         -73.998392         40.724862              6.0  \n",
       "68         -74.004608         40.746948              6.0  \n",
       "70         -74.005004         40.718950              NaN  \n",
       "71         -73.997112         40.737533              1.0  \n",
       "72         -73.963495         40.761887              2.0  \n",
       "73         -73.966200         40.778113              2.0  \n",
       "74         -74.014250         40.702935              1.0  \n",
       "75         -73.962253         40.764817              2.0  \n",
       "76         -73.982152         40.744322              1.0  \n",
       "77         -73.925940         40.825588              1.0  "
      ]
     },
     "execution_count": 19,
     "metadata": {},
     "output_type": "execute_result"
    }
   ],
   "source": [
    "cab_df.iloc[65:75,:]"
   ]
  },
  {
   "cell_type": "code",
   "execution_count": 20,
   "metadata": {},
   "outputs": [],
   "source": [
    "#cab_df['passenger_count']= cab_df['passenger_count'].fillna(cab_df['passenger_count'].mean())\n",
    "#cab_df['passenger_count'].loc[70]"
   ]
  },
  {
   "cell_type": "code",
   "execution_count": 21,
   "metadata": {},
   "outputs": [],
   "source": [
    "#cab_df['passenger_count']= cab_df['passenger_count'].fillna(cab_df['passenger_count'].median())\n",
    "#cab_df['passenger_count'].loc[70]"
   ]
  },
  {
   "cell_type": "code",
   "execution_count": 22,
   "metadata": {},
   "outputs": [
    {
     "name": "stdout",
     "output_type": "stream",
     "text": [
      "Imputing row 1/16041 with 0 missing, elapsed time: 41.220\n",
      "Imputing row 101/16041 with 0 missing, elapsed time: 41.221\n",
      "Imputing row 201/16041 with 0 missing, elapsed time: 41.223\n",
      "Imputing row 301/16041 with 0 missing, elapsed time: 41.223\n",
      "Imputing row 401/16041 with 0 missing, elapsed time: 41.224\n",
      "Imputing row 501/16041 with 0 missing, elapsed time: 41.226\n",
      "Imputing row 601/16041 with 0 missing, elapsed time: 41.227\n",
      "Imputing row 701/16041 with 0 missing, elapsed time: 41.228\n",
      "Imputing row 801/16041 with 0 missing, elapsed time: 41.229\n",
      "Imputing row 901/16041 with 0 missing, elapsed time: 41.230\n",
      "Imputing row 1001/16041 with 0 missing, elapsed time: 41.230\n",
      "Imputing row 1101/16041 with 0 missing, elapsed time: 41.231\n",
      "Imputing row 1201/16041 with 0 missing, elapsed time: 41.231\n",
      "Imputing row 1301/16041 with 0 missing, elapsed time: 41.232\n",
      "Imputing row 1401/16041 with 0 missing, elapsed time: 41.233\n",
      "Imputing row 1501/16041 with 0 missing, elapsed time: 41.233\n",
      "Imputing row 1601/16041 with 0 missing, elapsed time: 41.234\n",
      "Imputing row 1701/16041 with 0 missing, elapsed time: 41.234\n",
      "Imputing row 1801/16041 with 0 missing, elapsed time: 41.235\n",
      "Imputing row 1901/16041 with 0 missing, elapsed time: 41.236\n",
      "Imputing row 2001/16041 with 0 missing, elapsed time: 41.237\n",
      "Imputing row 2101/16041 with 0 missing, elapsed time: 41.238\n",
      "Imputing row 2201/16041 with 0 missing, elapsed time: 41.238\n",
      "Imputing row 2301/16041 with 0 missing, elapsed time: 41.239\n",
      "Imputing row 2401/16041 with 0 missing, elapsed time: 41.239\n",
      "Imputing row 2501/16041 with 0 missing, elapsed time: 41.240\n",
      "Imputing row 2601/16041 with 0 missing, elapsed time: 41.240\n",
      "Imputing row 2701/16041 with 0 missing, elapsed time: 41.241\n",
      "Imputing row 2801/16041 with 0 missing, elapsed time: 41.241\n",
      "Imputing row 2901/16041 with 0 missing, elapsed time: 41.241\n",
      "Imputing row 3001/16041 with 0 missing, elapsed time: 41.242\n",
      "Imputing row 3101/16041 with 0 missing, elapsed time: 41.242\n",
      "Imputing row 3201/16041 with 0 missing, elapsed time: 41.243\n",
      "Imputing row 3301/16041 with 0 missing, elapsed time: 41.244\n",
      "Imputing row 3401/16041 with 0 missing, elapsed time: 41.244\n",
      "Imputing row 3501/16041 with 0 missing, elapsed time: 41.244\n",
      "Imputing row 3601/16041 with 0 missing, elapsed time: 41.245\n",
      "Imputing row 3701/16041 with 0 missing, elapsed time: 41.245\n",
      "Imputing row 3801/16041 with 0 missing, elapsed time: 41.245\n",
      "Imputing row 3901/16041 with 0 missing, elapsed time: 41.246\n",
      "Imputing row 4001/16041 with 0 missing, elapsed time: 41.246\n",
      "Imputing row 4101/16041 with 0 missing, elapsed time: 41.247\n",
      "Imputing row 4201/16041 with 0 missing, elapsed time: 41.247\n",
      "Imputing row 4301/16041 with 0 missing, elapsed time: 41.247\n",
      "Imputing row 4401/16041 with 0 missing, elapsed time: 41.248\n",
      "Imputing row 4501/16041 with 0 missing, elapsed time: 41.248\n",
      "Imputing row 4601/16041 with 0 missing, elapsed time: 41.249\n",
      "Imputing row 4701/16041 with 0 missing, elapsed time: 41.249\n",
      "Imputing row 4801/16041 with 0 missing, elapsed time: 41.249\n",
      "Imputing row 4901/16041 with 0 missing, elapsed time: 41.250\n",
      "Imputing row 5001/16041 with 0 missing, elapsed time: 41.250\n",
      "Imputing row 5101/16041 with 0 missing, elapsed time: 41.251\n",
      "Imputing row 5201/16041 with 0 missing, elapsed time: 41.251\n",
      "Imputing row 5301/16041 with 0 missing, elapsed time: 41.251\n",
      "Imputing row 5401/16041 with 0 missing, elapsed time: 41.252\n",
      "Imputing row 5501/16041 with 0 missing, elapsed time: 41.252\n",
      "Imputing row 5601/16041 with 0 missing, elapsed time: 41.252\n",
      "Imputing row 5701/16041 with 0 missing, elapsed time: 41.253\n",
      "Imputing row 5801/16041 with 0 missing, elapsed time: 41.253\n",
      "Imputing row 5901/16041 with 0 missing, elapsed time: 41.254\n",
      "Imputing row 6001/16041 with 0 missing, elapsed time: 41.254\n",
      "Imputing row 6101/16041 with 0 missing, elapsed time: 41.254\n",
      "Imputing row 6201/16041 with 0 missing, elapsed time: 41.255\n",
      "Imputing row 6301/16041 with 0 missing, elapsed time: 41.255\n",
      "Imputing row 6401/16041 with 0 missing, elapsed time: 41.256\n",
      "Imputing row 6501/16041 with 0 missing, elapsed time: 41.257\n",
      "Imputing row 6601/16041 with 0 missing, elapsed time: 41.258\n",
      "Imputing row 6701/16041 with 0 missing, elapsed time: 41.258\n",
      "Imputing row 6801/16041 with 0 missing, elapsed time: 41.259\n",
      "Imputing row 6901/16041 with 0 missing, elapsed time: 41.259\n",
      "Imputing row 7001/16041 with 0 missing, elapsed time: 41.259\n",
      "Imputing row 7101/16041 with 0 missing, elapsed time: 41.260\n",
      "Imputing row 7201/16041 with 0 missing, elapsed time: 41.260\n",
      "Imputing row 7301/16041 with 0 missing, elapsed time: 41.261\n",
      "Imputing row 7401/16041 with 0 missing, elapsed time: 41.261\n",
      "Imputing row 7501/16041 with 0 missing, elapsed time: 41.261\n",
      "Imputing row 7601/16041 with 0 missing, elapsed time: 41.262\n",
      "Imputing row 7701/16041 with 0 missing, elapsed time: 41.262\n",
      "Imputing row 7801/16041 with 0 missing, elapsed time: 41.266\n",
      "Imputing row 7901/16041 with 0 missing, elapsed time: 41.268\n",
      "Imputing row 8001/16041 with 0 missing, elapsed time: 41.269\n",
      "Imputing row 8101/16041 with 0 missing, elapsed time: 41.270\n",
      "Imputing row 8201/16041 with 0 missing, elapsed time: 41.270\n",
      "Imputing row 8301/16041 with 0 missing, elapsed time: 41.271\n",
      "Imputing row 8401/16041 with 0 missing, elapsed time: 41.272\n",
      "Imputing row 8501/16041 with 0 missing, elapsed time: 41.272\n",
      "Imputing row 8601/16041 with 0 missing, elapsed time: 41.272\n",
      "Imputing row 8701/16041 with 0 missing, elapsed time: 41.273\n",
      "Imputing row 8801/16041 with 0 missing, elapsed time: 41.273\n",
      "Imputing row 8901/16041 with 0 missing, elapsed time: 41.274\n",
      "Imputing row 9001/16041 with 0 missing, elapsed time: 41.274\n",
      "Imputing row 9101/16041 with 0 missing, elapsed time: 41.274\n",
      "Imputing row 9201/16041 with 0 missing, elapsed time: 41.275\n",
      "Imputing row 9301/16041 with 0 missing, elapsed time: 41.275\n",
      "Imputing row 9401/16041 with 0 missing, elapsed time: 41.276\n",
      "Imputing row 9501/16041 with 0 missing, elapsed time: 41.276\n",
      "Imputing row 9601/16041 with 0 missing, elapsed time: 41.276\n",
      "Imputing row 9701/16041 with 0 missing, elapsed time: 41.277\n",
      "Imputing row 9801/16041 with 0 missing, elapsed time: 41.277\n",
      "Imputing row 9901/16041 with 0 missing, elapsed time: 41.278\n",
      "Imputing row 10001/16041 with 0 missing, elapsed time: 41.278\n",
      "Imputing row 10101/16041 with 0 missing, elapsed time: 41.278\n",
      "Imputing row 10201/16041 with 0 missing, elapsed time: 41.279\n",
      "Imputing row 10301/16041 with 0 missing, elapsed time: 41.279\n",
      "Imputing row 10401/16041 with 0 missing, elapsed time: 41.280\n",
      "Imputing row 10501/16041 with 0 missing, elapsed time: 41.280\n",
      "Imputing row 10601/16041 with 0 missing, elapsed time: 41.280\n",
      "Imputing row 10701/16041 with 0 missing, elapsed time: 41.281\n",
      "Imputing row 10801/16041 with 0 missing, elapsed time: 41.281\n",
      "Imputing row 10901/16041 with 0 missing, elapsed time: 41.282\n",
      "Imputing row 11001/16041 with 0 missing, elapsed time: 41.282\n",
      "Imputing row 11101/16041 with 0 missing, elapsed time: 41.282\n",
      "Imputing row 11201/16041 with 0 missing, elapsed time: 41.283\n",
      "Imputing row 11301/16041 with 0 missing, elapsed time: 41.283\n",
      "Imputing row 11401/16041 with 0 missing, elapsed time: 41.284\n",
      "Imputing row 11501/16041 with 0 missing, elapsed time: 41.284\n",
      "Imputing row 11601/16041 with 0 missing, elapsed time: 41.284\n",
      "Imputing row 11701/16041 with 0 missing, elapsed time: 41.285\n",
      "Imputing row 11801/16041 with 0 missing, elapsed time: 41.285\n",
      "Imputing row 11901/16041 with 0 missing, elapsed time: 41.286\n",
      "Imputing row 12001/16041 with 0 missing, elapsed time: 41.286\n",
      "Imputing row 12101/16041 with 0 missing, elapsed time: 41.286\n",
      "Imputing row 12201/16041 with 0 missing, elapsed time: 41.287\n",
      "Imputing row 12301/16041 with 0 missing, elapsed time: 41.287\n",
      "Imputing row 12401/16041 with 0 missing, elapsed time: 41.288\n",
      "Imputing row 12501/16041 with 0 missing, elapsed time: 41.288\n",
      "Imputing row 12601/16041 with 0 missing, elapsed time: 41.288\n",
      "Imputing row 12701/16041 with 0 missing, elapsed time: 41.289\n",
      "Imputing row 12801/16041 with 0 missing, elapsed time: 41.289\n",
      "Imputing row 12901/16041 with 0 missing, elapsed time: 41.289\n",
      "Imputing row 13001/16041 with 0 missing, elapsed time: 41.290\n",
      "Imputing row 13101/16041 with 0 missing, elapsed time: 41.290\n",
      "Imputing row 13201/16041 with 0 missing, elapsed time: 41.291\n",
      "Imputing row 13301/16041 with 0 missing, elapsed time: 41.291\n",
      "Imputing row 13401/16041 with 0 missing, elapsed time: 41.291\n",
      "Imputing row 13501/16041 with 0 missing, elapsed time: 41.292\n",
      "Imputing row 13601/16041 with 0 missing, elapsed time: 41.292\n",
      "Imputing row 13701/16041 with 0 missing, elapsed time: 41.293\n",
      "Imputing row 13801/16041 with 0 missing, elapsed time: 41.293\n",
      "Imputing row 13901/16041 with 0 missing, elapsed time: 41.293\n",
      "Imputing row 14001/16041 with 0 missing, elapsed time: 41.294\n",
      "Imputing row 14101/16041 with 0 missing, elapsed time: 41.294\n",
      "Imputing row 14201/16041 with 0 missing, elapsed time: 41.295\n",
      "Imputing row 14301/16041 with 0 missing, elapsed time: 41.295\n",
      "Imputing row 14401/16041 with 0 missing, elapsed time: 41.295\n",
      "Imputing row 14501/16041 with 0 missing, elapsed time: 41.296\n",
      "Imputing row 14601/16041 with 0 missing, elapsed time: 41.296\n",
      "Imputing row 14701/16041 with 0 missing, elapsed time: 41.296\n",
      "Imputing row 14801/16041 with 0 missing, elapsed time: 41.297\n",
      "Imputing row 14901/16041 with 0 missing, elapsed time: 41.297\n",
      "Imputing row 15001/16041 with 0 missing, elapsed time: 41.298\n",
      "Imputing row 15101/16041 with 0 missing, elapsed time: 41.298\n",
      "Imputing row 15201/16041 with 0 missing, elapsed time: 41.298\n",
      "Imputing row 15301/16041 with 0 missing, elapsed time: 41.299\n",
      "Imputing row 15401/16041 with 0 missing, elapsed time: 41.299\n",
      "Imputing row 15501/16041 with 0 missing, elapsed time: 41.300\n",
      "Imputing row 15601/16041 with 0 missing, elapsed time: 41.300\n",
      "Imputing row 15701/16041 with 0 missing, elapsed time: 41.300\n",
      "Imputing row 15801/16041 with 0 missing, elapsed time: 41.301\n",
      "Imputing row 15901/16041 with 0 missing, elapsed time: 41.301\n",
      "Imputing row 16001/16041 with 0 missing, elapsed time: 41.302\n"
     ]
    },
    {
     "data": {
      "text/plain": [
       "2.0"
      ]
     },
     "execution_count": 22,
     "metadata": {},
     "output_type": "execute_result"
    }
   ],
   "source": [
    "cab_df=pd.DataFrame(KNN(k=3).fit_transform(cab_df),columns=cab_df.columns)\n",
    "cab_df['passenger_count'].loc[70]"
   ]
  },
  {
   "cell_type": "code",
   "execution_count": 23,
   "metadata": {},
   "outputs": [
    {
     "data": {
      "text/plain": [
       "fare_amount          0\n",
       "pickup_datetime      0\n",
       "pickup_longitude     0\n",
       "pickup_latitude      0\n",
       "dropoff_longitude    0\n",
       "dropoff_latitude     0\n",
       "passenger_count      0\n",
       "dtype: int64"
      ]
     },
     "execution_count": 23,
     "metadata": {},
     "output_type": "execute_result"
    }
   ],
   "source": [
    "cab_df.isnull().sum()"
   ]
  },
  {
   "cell_type": "code",
   "execution_count": 24,
   "metadata": {},
   "outputs": [],
   "source": [
    "#Converting datetime back to its original datatype\n",
    "cab_df['pickup_datetime']=pd.to_datetime( pd.to_numeric( pd.to_datetime( cab_df['pickup_datetime'], origin = '1970-01-01' ) ), \n",
    "                                     origin = '1970-01-01')"
   ]
  },
  {
   "cell_type": "code",
   "execution_count": 25,
   "metadata": {},
   "outputs": [
    {
     "data": {
      "text/html": [
       "<div>\n",
       "<style scoped>\n",
       "    .dataframe tbody tr th:only-of-type {\n",
       "        vertical-align: middle;\n",
       "    }\n",
       "\n",
       "    .dataframe tbody tr th {\n",
       "        vertical-align: top;\n",
       "    }\n",
       "\n",
       "    .dataframe thead th {\n",
       "        text-align: right;\n",
       "    }\n",
       "</style>\n",
       "<table border=\"1\" class=\"dataframe\">\n",
       "  <thead>\n",
       "    <tr style=\"text-align: right;\">\n",
       "      <th></th>\n",
       "      <th>fare_amount</th>\n",
       "      <th>pickup_datetime</th>\n",
       "      <th>pickup_longitude</th>\n",
       "      <th>pickup_latitude</th>\n",
       "      <th>dropoff_longitude</th>\n",
       "      <th>dropoff_latitude</th>\n",
       "      <th>passenger_count</th>\n",
       "    </tr>\n",
       "  </thead>\n",
       "  <tbody>\n",
       "    <tr>\n",
       "      <th>0</th>\n",
       "      <td>4.5</td>\n",
       "      <td>2009-06-15 17:26:21</td>\n",
       "      <td>-73.844311</td>\n",
       "      <td>40.721319</td>\n",
       "      <td>-73.841610</td>\n",
       "      <td>40.712278</td>\n",
       "      <td>1.0</td>\n",
       "    </tr>\n",
       "    <tr>\n",
       "      <th>1</th>\n",
       "      <td>16.9</td>\n",
       "      <td>2010-01-05 16:52:16</td>\n",
       "      <td>-74.016048</td>\n",
       "      <td>40.711303</td>\n",
       "      <td>-73.979268</td>\n",
       "      <td>40.782004</td>\n",
       "      <td>1.0</td>\n",
       "    </tr>\n",
       "    <tr>\n",
       "      <th>2</th>\n",
       "      <td>5.7</td>\n",
       "      <td>2011-08-18 00:35:00</td>\n",
       "      <td>-73.982738</td>\n",
       "      <td>40.761270</td>\n",
       "      <td>-73.991242</td>\n",
       "      <td>40.750562</td>\n",
       "      <td>2.0</td>\n",
       "    </tr>\n",
       "    <tr>\n",
       "      <th>3</th>\n",
       "      <td>7.7</td>\n",
       "      <td>2012-04-21 04:30:42</td>\n",
       "      <td>-73.987130</td>\n",
       "      <td>40.733143</td>\n",
       "      <td>-73.991567</td>\n",
       "      <td>40.758092</td>\n",
       "      <td>1.0</td>\n",
       "    </tr>\n",
       "    <tr>\n",
       "      <th>4</th>\n",
       "      <td>5.3</td>\n",
       "      <td>2010-03-09 07:51:00</td>\n",
       "      <td>-73.968095</td>\n",
       "      <td>40.768008</td>\n",
       "      <td>-73.956655</td>\n",
       "      <td>40.783762</td>\n",
       "      <td>1.0</td>\n",
       "    </tr>\n",
       "  </tbody>\n",
       "</table>\n",
       "</div>"
      ],
      "text/plain": [
       "   fare_amount     pickup_datetime  pickup_longitude  pickup_latitude  \\\n",
       "0          4.5 2009-06-15 17:26:21        -73.844311        40.721319   \n",
       "1         16.9 2010-01-05 16:52:16        -74.016048        40.711303   \n",
       "2          5.7 2011-08-18 00:35:00        -73.982738        40.761270   \n",
       "3          7.7 2012-04-21 04:30:42        -73.987130        40.733143   \n",
       "4          5.3 2010-03-09 07:51:00        -73.968095        40.768008   \n",
       "\n",
       "   dropoff_longitude  dropoff_latitude  passenger_count  \n",
       "0         -73.841610         40.712278              1.0  \n",
       "1         -73.979268         40.782004              1.0  \n",
       "2         -73.991242         40.750562              2.0  \n",
       "3         -73.991567         40.758092              1.0  \n",
       "4         -73.956655         40.783762              1.0  "
      ]
     },
     "execution_count": 25,
     "metadata": {},
     "output_type": "execute_result"
    }
   ],
   "source": [
    "cab_df.head()"
   ]
  },
  {
   "cell_type": "code",
   "execution_count": 26,
   "metadata": {},
   "outputs": [
    {
     "data": {
      "text/plain": [
       "<matplotlib.axes._subplots.AxesSubplot at 0x2373c7d8be0>"
      ]
     },
     "execution_count": 26,
     "metadata": {},
     "output_type": "execute_result"
    },
    {
     "data": {
      "image/png": "[encoded data removed]",
      "text/plain": [
       "<Figure size 432x288 with 1 Axes>"
      ]
     },
     "metadata": {
      "needs_background": "light"
     },
     "output_type": "display_data"
    }
   ],
   "source": [
    "sns.distplot(cab_df['pickup_longitude'],kde=True)"
   ]
  },
  {
   "cell_type": "code",
   "execution_count": 27,
   "metadata": {},
   "outputs": [
    {
     "data": {
      "text/plain": [
       "<matplotlib.axes._subplots.AxesSubplot at 0x2373d9e2fd0>"
      ]
     },
     "execution_count": 27,
     "metadata": {},
     "output_type": "execute_result"
    },
    {
     "data": {
      "image/png": "[encoded data removed]",
      "text/plain": [
       "<Figure size 432x288 with 1 Axes>"
      ]
     },
     "metadata": {
      "needs_background": "light"
     },
     "output_type": "display_data"
    }
   ],
   "source": [
    "sns.distplot(cab_df['pickup_latitude'],kde=True)"
   ]
  },
  {
   "cell_type": "code",
   "execution_count": 28,
   "metadata": {},
   "outputs": [
    {
     "data": {
      "text/html": [
       "<div>\n",
       "<style scoped>\n",
       "    .dataframe tbody tr th:only-of-type {\n",
       "        vertical-align: middle;\n",
       "    }\n",
       "\n",
       "    .dataframe tbody tr th {\n",
       "        vertical-align: top;\n",
       "    }\n",
       "\n",
       "    .dataframe thead th {\n",
       "        text-align: right;\n",
       "    }\n",
       "</style>\n",
       "<table border=\"1\" class=\"dataframe\">\n",
       "  <thead>\n",
       "    <tr style=\"text-align: right;\">\n",
       "      <th></th>\n",
       "      <th>fare_amount</th>\n",
       "      <th>pickup_longitude</th>\n",
       "      <th>pickup_latitude</th>\n",
       "      <th>dropoff_longitude</th>\n",
       "      <th>dropoff_latitude</th>\n",
       "      <th>passenger_count</th>\n",
       "    </tr>\n",
       "  </thead>\n",
       "  <tbody>\n",
       "    <tr>\n",
       "      <th>count</th>\n",
       "      <td>16041.000000</td>\n",
       "      <td>16041.000000</td>\n",
       "      <td>16041.000000</td>\n",
       "      <td>16041.000000</td>\n",
       "      <td>16041.000000</td>\n",
       "      <td>16041.000000</td>\n",
       "    </tr>\n",
       "    <tr>\n",
       "      <th>mean</th>\n",
       "      <td>15.015223</td>\n",
       "      <td>-72.469552</td>\n",
       "      <td>39.918441</td>\n",
       "      <td>-72.469112</td>\n",
       "      <td>39.901596</td>\n",
       "      <td>2.619246</td>\n",
       "    </tr>\n",
       "    <tr>\n",
       "      <th>std</th>\n",
       "      <td>430.474362</td>\n",
       "      <td>10.555823</td>\n",
       "      <td>6.817485</td>\n",
       "      <td>10.552491</td>\n",
       "      <td>6.175961</td>\n",
       "      <td>60.787707</td>\n",
       "    </tr>\n",
       "    <tr>\n",
       "      <th>min</th>\n",
       "      <td>-3.000000</td>\n",
       "      <td>-74.438233</td>\n",
       "      <td>-74.006893</td>\n",
       "      <td>-74.429332</td>\n",
       "      <td>-74.006377</td>\n",
       "      <td>0.000000</td>\n",
       "    </tr>\n",
       "    <tr>\n",
       "      <th>25%</th>\n",
       "      <td>6.000000</td>\n",
       "      <td>-73.992157</td>\n",
       "      <td>40.734935</td>\n",
       "      <td>-73.991182</td>\n",
       "      <td>40.734663</td>\n",
       "      <td>1.000000</td>\n",
       "    </tr>\n",
       "    <tr>\n",
       "      <th>50%</th>\n",
       "      <td>8.500000</td>\n",
       "      <td>-73.981704</td>\n",
       "      <td>40.752600</td>\n",
       "      <td>-73.980182</td>\n",
       "      <td>40.753564</td>\n",
       "      <td>1.000000</td>\n",
       "    </tr>\n",
       "    <tr>\n",
       "      <th>75%</th>\n",
       "      <td>12.500000</td>\n",
       "      <td>-73.966842</td>\n",
       "      <td>40.767353</td>\n",
       "      <td>-73.963646</td>\n",
       "      <td>40.768005</td>\n",
       "      <td>2.000000</td>\n",
       "    </tr>\n",
       "    <tr>\n",
       "      <th>max</th>\n",
       "      <td>54343.000000</td>\n",
       "      <td>40.766125</td>\n",
       "      <td>401.083332</td>\n",
       "      <td>40.802437</td>\n",
       "      <td>41.366138</td>\n",
       "      <td>5345.000000</td>\n",
       "    </tr>\n",
       "  </tbody>\n",
       "</table>\n",
       "</div>"
      ],
      "text/plain": [
       "        fare_amount  pickup_longitude  pickup_latitude  dropoff_longitude  \\\n",
       "count  16041.000000      16041.000000     16041.000000       16041.000000   \n",
       "mean      15.015223        -72.469552        39.918441         -72.469112   \n",
       "std      430.474362         10.555823         6.817485          10.552491   \n",
       "min       -3.000000        -74.438233       -74.006893         -74.429332   \n",
       "25%        6.000000        -73.992157        40.734935         -73.991182   \n",
       "50%        8.500000        -73.981704        40.752600         -73.980182   \n",
       "75%       12.500000        -73.966842        40.767353         -73.963646   \n",
       "max    54343.000000         40.766125       401.083332          40.802437   \n",
       "\n",
       "       dropoff_latitude  passenger_count  \n",
       "count      16041.000000     16041.000000  \n",
       "mean          39.901596         2.619246  \n",
       "std            6.175961        60.787707  \n",
       "min          -74.006377         0.000000  \n",
       "25%           40.734663         1.000000  \n",
       "50%           40.753564         1.000000  \n",
       "75%           40.768005         2.000000  \n",
       "max           41.366138      5345.000000  "
      ]
     },
     "execution_count": 28,
     "metadata": {},
     "output_type": "execute_result"
    }
   ],
   "source": [
    "cab_df.describe()"
   ]
  },
  {
   "cell_type": "code",
   "execution_count": 29,
   "metadata": {},
   "outputs": [
    {
     "data": {
      "text/plain": [
       "\"There are few strange values in the data like :\\nminimum fare_amount is -3, fare can never be negative.\\npickup_latitude max value is out of range.\\nminimum passenger_count is 0 which can't be the case.\\nSo to clean these values we detect and remove the outliers from our data.\""
      ]
     },
     "execution_count": 29,
     "metadata": {},
     "output_type": "execute_result"
    }
   ],
   "source": [
    "'''There are few strange values in the data like :\n",
    "minimum fare_amount is -3, fare can never be negative.\n",
    "pickup_latitude max value is out of range.\n",
    "minimum passenger_count is 0 which can't be the case.\n",
    "So to clean these values we detect and remove the outliers from our data.'''"
   ]
  },
  {
   "cell_type": "code",
   "execution_count": 30,
   "metadata": {},
   "outputs": [
    {
     "data": {
      "image/png": "[encoded data removed]",
      "text/plain": [
       "<Figure size 432x288 with 1 Axes>"
      ]
     },
     "metadata": {
      "needs_background": "light"
     },
     "output_type": "display_data"
    },
    {
     "data": {
      "image/png": "[encoded data removed]",
      "text/plain": [
       "<Figure size 432x288 with 1 Axes>"
      ]
     },
     "metadata": {
      "needs_background": "light"
     },
     "output_type": "display_data"
    },
    {
     "data": {
      "image/png": "[encoded data removed]",
      "text/plain": [
       "<Figure size 432x288 with 1 Axes>"
      ]
     },
     "metadata": {
      "needs_background": "light"
     },
     "output_type": "display_data"
    },
    {
     "data": {
      "image/png": "[encoded data removed]",
      "text/plain": [
       "<Figure size 432x288 with 1 Axes>"
      ]
     },
     "metadata": {
      "needs_background": "light"
     },
     "output_type": "display_data"
    },
    {
     "data": {
      "image/png": "[encoded data removed]",
      "text/plain": [
       "<Figure size 432x288 with 1 Axes>"
      ]
     },
     "metadata": {
      "needs_background": "light"
     },
     "output_type": "display_data"
    },
    {
     "data": {
      "image/png": "[encoded data removed]",
      "text/plain": [
       "<Figure size 432x288 with 1 Axes>"
      ]
     },
     "metadata": {
      "needs_background": "light"
     },
     "output_type": "display_data"
    }
   ],
   "source": [
    "num_variables=['fare_amount','pickup_longitude','pickup_latitude','dropoff_longitude','dropoff_latitude','passenger_count']\n",
    "for i in num_variables:\n",
    "    cab_df.boxplot(column=i)\n",
    "    plt.show()"
   ]
  },
  {
   "cell_type": "code",
   "execution_count": 33,
   "metadata": {},
   "outputs": [],
   "source": [
    "for i in num_variables:\n",
    "    q75,q25=np.percentile(cab_df.loc[:,i],[75,25])\n",
    "    iqr=q75-q25\n",
    "    min=q25 -(1.5*iqr)\n",
    "    max=q75 +(1.5*iqr)\n",
    "    \n",
    "    cab_df=cab_df.drop(cab_df[cab_df.loc[:,i]<min].index)\n",
    "    cab_df=cab_df.drop(cab_df[cab_df.loc[:,i]>max].index)"
   ]
  },
  {
   "cell_type": "code",
   "execution_count": 34,
   "metadata": {},
   "outputs": [
    {
     "data": {
      "text/html": [
       "<div>\n",
       "<style scoped>\n",
       "    .dataframe tbody tr th:only-of-type {\n",
       "        vertical-align: middle;\n",
       "    }\n",
       "\n",
       "    .dataframe tbody tr th {\n",
       "        vertical-align: top;\n",
       "    }\n",
       "\n",
       "    .dataframe thead th {\n",
       "        text-align: right;\n",
       "    }\n",
       "</style>\n",
       "<table border=\"1\" class=\"dataframe\">\n",
       "  <thead>\n",
       "    <tr style=\"text-align: right;\">\n",
       "      <th></th>\n",
       "      <th>fare_amount</th>\n",
       "      <th>pickup_longitude</th>\n",
       "      <th>pickup_latitude</th>\n",
       "      <th>dropoff_longitude</th>\n",
       "      <th>dropoff_latitude</th>\n",
       "      <th>passenger_count</th>\n",
       "    </tr>\n",
       "  </thead>\n",
       "  <tbody>\n",
       "    <tr>\n",
       "      <th>count</th>\n",
       "      <td>11858.000000</td>\n",
       "      <td>11858.000000</td>\n",
       "      <td>11858.000000</td>\n",
       "      <td>11858.000000</td>\n",
       "      <td>11858.000000</td>\n",
       "      <td>11858.000000</td>\n",
       "    </tr>\n",
       "    <tr>\n",
       "      <th>mean</th>\n",
       "      <td>8.558147</td>\n",
       "      <td>-73.981889</td>\n",
       "      <td>40.752934</td>\n",
       "      <td>-73.981032</td>\n",
       "      <td>40.753352</td>\n",
       "      <td>1.250414</td>\n",
       "    </tr>\n",
       "    <tr>\n",
       "      <th>std</th>\n",
       "      <td>3.819701</td>\n",
       "      <td>0.016008</td>\n",
       "      <td>0.021033</td>\n",
       "      <td>0.016496</td>\n",
       "      <td>0.021875</td>\n",
       "      <td>0.539359</td>\n",
       "    </tr>\n",
       "    <tr>\n",
       "      <th>min</th>\n",
       "      <td>-2.500000</td>\n",
       "      <td>-74.018108</td>\n",
       "      <td>40.693504</td>\n",
       "      <td>-74.019535</td>\n",
       "      <td>40.694260</td>\n",
       "      <td>0.000000</td>\n",
       "    </tr>\n",
       "    <tr>\n",
       "      <th>25%</th>\n",
       "      <td>5.700000</td>\n",
       "      <td>-73.992844</td>\n",
       "      <td>40.738600</td>\n",
       "      <td>-73.992087</td>\n",
       "      <td>40.738852</td>\n",
       "      <td>1.000000</td>\n",
       "    </tr>\n",
       "    <tr>\n",
       "      <th>50%</th>\n",
       "      <td>7.700000</td>\n",
       "      <td>-73.982749</td>\n",
       "      <td>40.753499</td>\n",
       "      <td>-73.982093</td>\n",
       "      <td>40.754577</td>\n",
       "      <td>1.000000</td>\n",
       "    </tr>\n",
       "    <tr>\n",
       "      <th>75%</th>\n",
       "      <td>10.500000</td>\n",
       "      <td>-73.971549</td>\n",
       "      <td>40.766756</td>\n",
       "      <td>-73.970887</td>\n",
       "      <td>40.767361</td>\n",
       "      <td>1.000000</td>\n",
       "    </tr>\n",
       "    <tr>\n",
       "      <th>max</th>\n",
       "      <td>22.100000</td>\n",
       "      <td>-73.932999</td>\n",
       "      <td>40.810862</td>\n",
       "      <td>-73.935413</td>\n",
       "      <td>40.811382</td>\n",
       "      <td>3.471640</td>\n",
       "    </tr>\n",
       "  </tbody>\n",
       "</table>\n",
       "</div>"
      ],
      "text/plain": [
       "        fare_amount  pickup_longitude  pickup_latitude  dropoff_longitude  \\\n",
       "count  11858.000000      11858.000000     11858.000000       11858.000000   \n",
       "mean       8.558147        -73.981889        40.752934         -73.981032   \n",
       "std        3.819701          0.016008         0.021033           0.016496   \n",
       "min       -2.500000        -74.018108        40.693504         -74.019535   \n",
       "25%        5.700000        -73.992844        40.738600         -73.992087   \n",
       "50%        7.700000        -73.982749        40.753499         -73.982093   \n",
       "75%       10.500000        -73.971549        40.766756         -73.970887   \n",
       "max       22.100000        -73.932999        40.810862         -73.935413   \n",
       "\n",
       "       dropoff_latitude  passenger_count  \n",
       "count      11858.000000     11858.000000  \n",
       "mean          40.753352         1.250414  \n",
       "std            0.021875         0.539359  \n",
       "min           40.694260         0.000000  \n",
       "25%           40.738852         1.000000  \n",
       "50%           40.754577         1.000000  \n",
       "75%           40.767361         1.000000  \n",
       "max           40.811382         3.471640  "
      ]
     },
     "execution_count": 34,
     "metadata": {},
     "output_type": "execute_result"
    }
   ],
   "source": [
    "#Latitude : 40.730610, Longitude : -73.935242\n",
    "cab_df.describe()"
   ]
  },
  {
   "cell_type": "code",
   "execution_count": 35,
   "metadata": {},
   "outputs": [
    {
     "data": {
      "text/html": [
       "<div>\n",
       "<style scoped>\n",
       "    .dataframe tbody tr th:only-of-type {\n",
       "        vertical-align: middle;\n",
       "    }\n",
       "\n",
       "    .dataframe tbody tr th {\n",
       "        vertical-align: top;\n",
       "    }\n",
       "\n",
       "    .dataframe thead th {\n",
       "        text-align: right;\n",
       "    }\n",
       "</style>\n",
       "<table border=\"1\" class=\"dataframe\">\n",
       "  <thead>\n",
       "    <tr style=\"text-align: right;\">\n",
       "      <th></th>\n",
       "      <th>fare_amount</th>\n",
       "      <th>pickup_longitude</th>\n",
       "      <th>pickup_latitude</th>\n",
       "      <th>dropoff_longitude</th>\n",
       "      <th>dropoff_latitude</th>\n",
       "      <th>passenger_count</th>\n",
       "    </tr>\n",
       "  </thead>\n",
       "  <tbody>\n",
       "    <tr>\n",
       "      <th>count</th>\n",
       "      <td>11792.000000</td>\n",
       "      <td>11792.000000</td>\n",
       "      <td>11792.000000</td>\n",
       "      <td>11792.000000</td>\n",
       "      <td>11792.000000</td>\n",
       "      <td>11792.000000</td>\n",
       "    </tr>\n",
       "    <tr>\n",
       "      <th>mean</th>\n",
       "      <td>8.562101</td>\n",
       "      <td>-73.981885</td>\n",
       "      <td>40.752947</td>\n",
       "      <td>-73.981039</td>\n",
       "      <td>40.753360</td>\n",
       "      <td>1.256130</td>\n",
       "    </tr>\n",
       "    <tr>\n",
       "      <th>std</th>\n",
       "      <td>3.818234</td>\n",
       "      <td>0.016012</td>\n",
       "      <td>0.021023</td>\n",
       "      <td>0.016487</td>\n",
       "      <td>0.021879</td>\n",
       "      <td>0.534496</td>\n",
       "    </tr>\n",
       "    <tr>\n",
       "      <th>min</th>\n",
       "      <td>2.500000</td>\n",
       "      <td>-74.018108</td>\n",
       "      <td>40.693504</td>\n",
       "      <td>-74.019535</td>\n",
       "      <td>40.694260</td>\n",
       "      <td>1.000000</td>\n",
       "    </tr>\n",
       "    <tr>\n",
       "      <th>25%</th>\n",
       "      <td>5.700000</td>\n",
       "      <td>-73.992834</td>\n",
       "      <td>40.738610</td>\n",
       "      <td>-73.992078</td>\n",
       "      <td>40.738892</td>\n",
       "      <td>1.000000</td>\n",
       "    </tr>\n",
       "    <tr>\n",
       "      <th>50%</th>\n",
       "      <td>7.700000</td>\n",
       "      <td>-73.982749</td>\n",
       "      <td>40.753507</td>\n",
       "      <td>-73.982093</td>\n",
       "      <td>40.754554</td>\n",
       "      <td>1.000000</td>\n",
       "    </tr>\n",
       "    <tr>\n",
       "      <th>75%</th>\n",
       "      <td>10.500000</td>\n",
       "      <td>-73.971547</td>\n",
       "      <td>40.766758</td>\n",
       "      <td>-73.970896</td>\n",
       "      <td>40.767344</td>\n",
       "      <td>1.000000</td>\n",
       "    </tr>\n",
       "    <tr>\n",
       "      <th>max</th>\n",
       "      <td>22.100000</td>\n",
       "      <td>-73.932999</td>\n",
       "      <td>40.810862</td>\n",
       "      <td>-73.935413</td>\n",
       "      <td>40.811382</td>\n",
       "      <td>3.471640</td>\n",
       "    </tr>\n",
       "  </tbody>\n",
       "</table>\n",
       "</div>"
      ],
      "text/plain": [
       "        fare_amount  pickup_longitude  pickup_latitude  dropoff_longitude  \\\n",
       "count  11792.000000      11792.000000     11792.000000       11792.000000   \n",
       "mean       8.562101        -73.981885        40.752947         -73.981039   \n",
       "std        3.818234          0.016012         0.021023           0.016487   \n",
       "min        2.500000        -74.018108        40.693504         -74.019535   \n",
       "25%        5.700000        -73.992834        40.738610         -73.992078   \n",
       "50%        7.700000        -73.982749        40.753507         -73.982093   \n",
       "75%       10.500000        -73.971547        40.766758         -73.970896   \n",
       "max       22.100000        -73.932999        40.810862         -73.935413   \n",
       "\n",
       "       dropoff_latitude  passenger_count  \n",
       "count      11792.000000     11792.000000  \n",
       "mean          40.753360         1.256130  \n",
       "std            0.021879         0.534496  \n",
       "min           40.694260         1.000000  \n",
       "25%           40.738892         1.000000  \n",
       "50%           40.754554         1.000000  \n",
       "75%           40.767344         1.000000  \n",
       "max           40.811382         3.471640  "
      ]
     },
     "execution_count": 35,
     "metadata": {},
     "output_type": "execute_result"
    }
   ],
   "source": [
    "cab_df = cab_df[(cab_df['passenger_count']>= 1)]\n",
    "cab_df = cab_df[(cab_df['fare_amount']>=1)]\n",
    "cab_df.describe()"
   ]
  },
  {
   "cell_type": "code",
   "execution_count": 36,
   "metadata": {},
   "outputs": [
    {
     "data": {
      "text/html": [
       "<div>\n",
       "<style scoped>\n",
       "    .dataframe tbody tr th:only-of-type {\n",
       "        vertical-align: middle;\n",
       "    }\n",
       "\n",
       "    .dataframe tbody tr th {\n",
       "        vertical-align: top;\n",
       "    }\n",
       "\n",
       "    .dataframe thead th {\n",
       "        text-align: right;\n",
       "    }\n",
       "</style>\n",
       "<table border=\"1\" class=\"dataframe\">\n",
       "  <thead>\n",
       "    <tr style=\"text-align: right;\">\n",
       "      <th></th>\n",
       "      <th>fare_amount</th>\n",
       "      <th>pickup_longitude</th>\n",
       "      <th>pickup_latitude</th>\n",
       "      <th>dropoff_longitude</th>\n",
       "      <th>dropoff_latitude</th>\n",
       "      <th>passenger_count</th>\n",
       "    </tr>\n",
       "  </thead>\n",
       "  <tbody>\n",
       "    <tr>\n",
       "      <th>count</th>\n",
       "      <td>11792.000000</td>\n",
       "      <td>11792.000000</td>\n",
       "      <td>11792.000000</td>\n",
       "      <td>11792.000000</td>\n",
       "      <td>11792.000000</td>\n",
       "      <td>11792.000000</td>\n",
       "    </tr>\n",
       "    <tr>\n",
       "      <th>mean</th>\n",
       "      <td>8.562101</td>\n",
       "      <td>-73.981885</td>\n",
       "      <td>40.752947</td>\n",
       "      <td>-73.981039</td>\n",
       "      <td>40.753360</td>\n",
       "      <td>1.256021</td>\n",
       "    </tr>\n",
       "    <tr>\n",
       "      <th>std</th>\n",
       "      <td>3.818234</td>\n",
       "      <td>0.016012</td>\n",
       "      <td>0.021023</td>\n",
       "      <td>0.016487</td>\n",
       "      <td>0.021879</td>\n",
       "      <td>0.534619</td>\n",
       "    </tr>\n",
       "    <tr>\n",
       "      <th>min</th>\n",
       "      <td>2.500000</td>\n",
       "      <td>-74.018108</td>\n",
       "      <td>40.693504</td>\n",
       "      <td>-74.019535</td>\n",
       "      <td>40.694260</td>\n",
       "      <td>1.000000</td>\n",
       "    </tr>\n",
       "    <tr>\n",
       "      <th>25%</th>\n",
       "      <td>5.700000</td>\n",
       "      <td>-73.992834</td>\n",
       "      <td>40.738610</td>\n",
       "      <td>-73.992078</td>\n",
       "      <td>40.738892</td>\n",
       "      <td>1.000000</td>\n",
       "    </tr>\n",
       "    <tr>\n",
       "      <th>50%</th>\n",
       "      <td>7.700000</td>\n",
       "      <td>-73.982749</td>\n",
       "      <td>40.753507</td>\n",
       "      <td>-73.982093</td>\n",
       "      <td>40.754554</td>\n",
       "      <td>1.000000</td>\n",
       "    </tr>\n",
       "    <tr>\n",
       "      <th>75%</th>\n",
       "      <td>10.500000</td>\n",
       "      <td>-73.971547</td>\n",
       "      <td>40.766758</td>\n",
       "      <td>-73.970896</td>\n",
       "      <td>40.767344</td>\n",
       "      <td>1.000000</td>\n",
       "    </tr>\n",
       "    <tr>\n",
       "      <th>max</th>\n",
       "      <td>22.100000</td>\n",
       "      <td>-73.932999</td>\n",
       "      <td>40.810862</td>\n",
       "      <td>-73.935413</td>\n",
       "      <td>40.811382</td>\n",
       "      <td>3.000000</td>\n",
       "    </tr>\n",
       "  </tbody>\n",
       "</table>\n",
       "</div>"
      ],
      "text/plain": [
       "        fare_amount  pickup_longitude  pickup_latitude  dropoff_longitude  \\\n",
       "count  11792.000000      11792.000000     11792.000000       11792.000000   \n",
       "mean       8.562101        -73.981885        40.752947         -73.981039   \n",
       "std        3.818234          0.016012         0.021023           0.016487   \n",
       "min        2.500000        -74.018108        40.693504         -74.019535   \n",
       "25%        5.700000        -73.992834        40.738610         -73.992078   \n",
       "50%        7.700000        -73.982749        40.753507         -73.982093   \n",
       "75%       10.500000        -73.971547        40.766758         -73.970896   \n",
       "max       22.100000        -73.932999        40.810862         -73.935413   \n",
       "\n",
       "       dropoff_latitude  passenger_count  \n",
       "count      11792.000000     11792.000000  \n",
       "mean          40.753360         1.256021  \n",
       "std            0.021879         0.534619  \n",
       "min           40.694260         1.000000  \n",
       "25%           40.738892         1.000000  \n",
       "50%           40.754554         1.000000  \n",
       "75%           40.767344         1.000000  \n",
       "max           40.811382         3.000000  "
      ]
     },
     "execution_count": 36,
     "metadata": {},
     "output_type": "execute_result"
    }
   ],
   "source": [
    "cab_df['passenger_count'] = round(cab_df['passenger_count'])\n",
    "cab_df.describe()"
   ]
  },
  {
   "cell_type": "code",
   "execution_count": 37,
   "metadata": {},
   "outputs": [
    {
     "data": {
      "text/plain": [
       "<matplotlib.axes._subplots.AxesSubplot at 0x2373ddd0400>"
      ]
     },
     "execution_count": 37,
     "metadata": {},
     "output_type": "execute_result"
    },
    {
     "data": {
      "image/png": "[encoded data removed]",
      "text/plain": [
       "<Figure size 504x360 with 2 Axes>"
      ]
     },
     "metadata": {
      "needs_background": "light"
     },
     "output_type": "display_data"
    }
   ],
   "source": [
    "f, ax=plt.subplots(figsize=(7,5))\n",
    "\n",
    "sns.heatmap(cab_df.corr(),mask=np.zeros_like(cab_df.corr(),dtype=np.bool),\n",
    "           cmap=sns.diverging_palette(220,10,as_cmap=True),ax=ax,annot = True)"
   ]
  },
  {
   "cell_type": "code",
   "execution_count": 38,
   "metadata": {},
   "outputs": [],
   "source": [
    "#Feature Engineering : Now after missing value and outlier analysis, we extract some new features from existing ones, which\n",
    "#can help further in analysis."
   ]
  },
  {
   "cell_type": "code",
   "execution_count": 39,
   "metadata": {},
   "outputs": [],
   "source": [
    "cab_df['year'] = cab_df.pickup_datetime.dt.year\n",
    "cab_df['month'] = cab_df.pickup_datetime.dt.month\n",
    "cab_df['day'] = cab_df.pickup_datetime.dt.day\n",
    "cab_df['weekday'] = cab_df.pickup_datetime.dt.weekday\n",
    "cab_df['hour'] = cab_df.pickup_datetime.dt.hour"
   ]
  },
  {
   "cell_type": "code",
   "execution_count": 40,
   "metadata": {},
   "outputs": [],
   "source": [
    "del cab_df['pickup_datetime']"
   ]
  },
  {
   "cell_type": "code",
   "execution_count": 41,
   "metadata": {},
   "outputs": [],
   "source": [
    "def haversine_distance(lat1, long1, lat2, long2):\n",
    "    data = [cab_df]\n",
    "    for i in data:\n",
    "        R = 6371  #radius of earth in kilometers\n",
    "        #R = 3959 #radius of earth in miles\n",
    "        phi1 = np.radians(i[lat1])\n",
    "        phi2 = np.radians(i[lat2])\n",
    "    \n",
    "        delta_phi = np.radians(i[lat2]-i[lat1])\n",
    "        delta_lambda = np.radians(i[long2]-i[long1])\n",
    "    \n",
    "        #a = sin²((φB - φA)/2) + cos φA . cos φB . sin²((λB - λA)/2)\n",
    "        a = np.sin(delta_phi / 2.0) ** 2 + np.cos(phi1) * np.cos(phi2) * np.sin(delta_lambda / 2.0) ** 2\n",
    "    \n",
    "        #c = 2 * atan2( √a, √(1−a) )\n",
    "        c = 2 * np.arctan2(np.sqrt(a), np.sqrt(1-a))\n",
    "    \n",
    "        #d = R*c\n",
    "        d = (R * c) #in kilometers\n",
    "        i['distance_km'] = d\n",
    "    return d"
   ]
  },
  {
   "cell_type": "code",
   "execution_count": 42,
   "metadata": {},
   "outputs": [
    {
     "data": {
      "text/html": [
       "<div>\n",
       "<style scoped>\n",
       "    .dataframe tbody tr th:only-of-type {\n",
       "        vertical-align: middle;\n",
       "    }\n",
       "\n",
       "    .dataframe tbody tr th {\n",
       "        vertical-align: top;\n",
       "    }\n",
       "\n",
       "    .dataframe thead th {\n",
       "        text-align: right;\n",
       "    }\n",
       "</style>\n",
       "<table border=\"1\" class=\"dataframe\">\n",
       "  <thead>\n",
       "    <tr style=\"text-align: right;\">\n",
       "      <th></th>\n",
       "      <th>fare_amount</th>\n",
       "      <th>pickup_longitude</th>\n",
       "      <th>pickup_latitude</th>\n",
       "      <th>dropoff_longitude</th>\n",
       "      <th>dropoff_latitude</th>\n",
       "      <th>passenger_count</th>\n",
       "      <th>year</th>\n",
       "      <th>month</th>\n",
       "      <th>day</th>\n",
       "      <th>weekday</th>\n",
       "      <th>hour</th>\n",
       "      <th>distance_km</th>\n",
       "    </tr>\n",
       "  </thead>\n",
       "  <tbody>\n",
       "    <tr>\n",
       "      <th>1</th>\n",
       "      <td>16.9</td>\n",
       "      <td>-74.016048</td>\n",
       "      <td>40.711303</td>\n",
       "      <td>-73.979268</td>\n",
       "      <td>40.782004</td>\n",
       "      <td>1.0</td>\n",
       "      <td>2010</td>\n",
       "      <td>1</td>\n",
       "      <td>5</td>\n",
       "      <td>1</td>\n",
       "      <td>16</td>\n",
       "      <td>8.450134</td>\n",
       "    </tr>\n",
       "    <tr>\n",
       "      <th>2</th>\n",
       "      <td>5.7</td>\n",
       "      <td>-73.982738</td>\n",
       "      <td>40.761270</td>\n",
       "      <td>-73.991242</td>\n",
       "      <td>40.750562</td>\n",
       "      <td>2.0</td>\n",
       "      <td>2011</td>\n",
       "      <td>8</td>\n",
       "      <td>18</td>\n",
       "      <td>3</td>\n",
       "      <td>0</td>\n",
       "      <td>1.389525</td>\n",
       "    </tr>\n",
       "    <tr>\n",
       "      <th>3</th>\n",
       "      <td>7.7</td>\n",
       "      <td>-73.987130</td>\n",
       "      <td>40.733143</td>\n",
       "      <td>-73.991567</td>\n",
       "      <td>40.758092</td>\n",
       "      <td>1.0</td>\n",
       "      <td>2012</td>\n",
       "      <td>4</td>\n",
       "      <td>21</td>\n",
       "      <td>5</td>\n",
       "      <td>4</td>\n",
       "      <td>2.799270</td>\n",
       "    </tr>\n",
       "    <tr>\n",
       "      <th>4</th>\n",
       "      <td>5.3</td>\n",
       "      <td>-73.968095</td>\n",
       "      <td>40.768008</td>\n",
       "      <td>-73.956655</td>\n",
       "      <td>40.783762</td>\n",
       "      <td>1.0</td>\n",
       "      <td>2010</td>\n",
       "      <td>3</td>\n",
       "      <td>9</td>\n",
       "      <td>1</td>\n",
       "      <td>7</td>\n",
       "      <td>1.999157</td>\n",
       "    </tr>\n",
       "    <tr>\n",
       "      <th>5</th>\n",
       "      <td>12.1</td>\n",
       "      <td>-74.000964</td>\n",
       "      <td>40.731630</td>\n",
       "      <td>-73.972892</td>\n",
       "      <td>40.758233</td>\n",
       "      <td>1.0</td>\n",
       "      <td>2011</td>\n",
       "      <td>1</td>\n",
       "      <td>6</td>\n",
       "      <td>3</td>\n",
       "      <td>9</td>\n",
       "      <td>3.787239</td>\n",
       "    </tr>\n",
       "  </tbody>\n",
       "</table>\n",
       "</div>"
      ],
      "text/plain": [
       "   fare_amount  pickup_longitude  pickup_latitude  dropoff_longitude  \\\n",
       "1         16.9        -74.016048        40.711303         -73.979268   \n",
       "2          5.7        -73.982738        40.761270         -73.991242   \n",
       "3          7.7        -73.987130        40.733143         -73.991567   \n",
       "4          5.3        -73.968095        40.768008         -73.956655   \n",
       "5         12.1        -74.000964        40.731630         -73.972892   \n",
       "\n",
       "   dropoff_latitude  passenger_count  year  month  day  weekday  hour  \\\n",
       "1         40.782004              1.0  2010      1    5        1    16   \n",
       "2         40.750562              2.0  2011      8   18        3     0   \n",
       "3         40.758092              1.0  2012      4   21        5     4   \n",
       "4         40.783762              1.0  2010      3    9        1     7   \n",
       "5         40.758233              1.0  2011      1    6        3     9   \n",
       "\n",
       "   distance_km  \n",
       "1     8.450134  \n",
       "2     1.389525  \n",
       "3     2.799270  \n",
       "4     1.999157  \n",
       "5     3.787239  "
      ]
     },
     "execution_count": 42,
     "metadata": {},
     "output_type": "execute_result"
    }
   ],
   "source": [
    "cab_df['distance_km'] = haversine_distance('pickup_latitude', 'pickup_longitude', 'dropoff_latitude', 'dropoff_longitude')\n",
    "cab_df.head()"
   ]
  },
  {
   "cell_type": "code",
   "execution_count": 43,
   "metadata": {},
   "outputs": [
    {
     "data": {
      "text/html": [
       "<div>\n",
       "<style scoped>\n",
       "    .dataframe tbody tr th:only-of-type {\n",
       "        vertical-align: middle;\n",
       "    }\n",
       "\n",
       "    .dataframe tbody tr th {\n",
       "        vertical-align: top;\n",
       "    }\n",
       "\n",
       "    .dataframe thead th {\n",
       "        text-align: right;\n",
       "    }\n",
       "</style>\n",
       "<table border=\"1\" class=\"dataframe\">\n",
       "  <thead>\n",
       "    <tr style=\"text-align: right;\">\n",
       "      <th></th>\n",
       "      <th>fare_amount</th>\n",
       "      <th>passenger_count</th>\n",
       "      <th>year</th>\n",
       "      <th>month</th>\n",
       "      <th>day</th>\n",
       "      <th>weekday</th>\n",
       "      <th>hour</th>\n",
       "      <th>distance_km</th>\n",
       "    </tr>\n",
       "  </thead>\n",
       "  <tbody>\n",
       "    <tr>\n",
       "      <th>1</th>\n",
       "      <td>16.9</td>\n",
       "      <td>1.0</td>\n",
       "      <td>2010</td>\n",
       "      <td>1</td>\n",
       "      <td>5</td>\n",
       "      <td>1</td>\n",
       "      <td>16</td>\n",
       "      <td>8.450134</td>\n",
       "    </tr>\n",
       "    <tr>\n",
       "      <th>2</th>\n",
       "      <td>5.7</td>\n",
       "      <td>2.0</td>\n",
       "      <td>2011</td>\n",
       "      <td>8</td>\n",
       "      <td>18</td>\n",
       "      <td>3</td>\n",
       "      <td>0</td>\n",
       "      <td>1.389525</td>\n",
       "    </tr>\n",
       "    <tr>\n",
       "      <th>3</th>\n",
       "      <td>7.7</td>\n",
       "      <td>1.0</td>\n",
       "      <td>2012</td>\n",
       "      <td>4</td>\n",
       "      <td>21</td>\n",
       "      <td>5</td>\n",
       "      <td>4</td>\n",
       "      <td>2.799270</td>\n",
       "    </tr>\n",
       "    <tr>\n",
       "      <th>4</th>\n",
       "      <td>5.3</td>\n",
       "      <td>1.0</td>\n",
       "      <td>2010</td>\n",
       "      <td>3</td>\n",
       "      <td>9</td>\n",
       "      <td>1</td>\n",
       "      <td>7</td>\n",
       "      <td>1.999157</td>\n",
       "    </tr>\n",
       "    <tr>\n",
       "      <th>5</th>\n",
       "      <td>12.1</td>\n",
       "      <td>1.0</td>\n",
       "      <td>2011</td>\n",
       "      <td>1</td>\n",
       "      <td>6</td>\n",
       "      <td>3</td>\n",
       "      <td>9</td>\n",
       "      <td>3.787239</td>\n",
       "    </tr>\n",
       "  </tbody>\n",
       "</table>\n",
       "</div>"
      ],
      "text/plain": [
       "   fare_amount  passenger_count  year  month  day  weekday  hour  distance_km\n",
       "1         16.9              1.0  2010      1    5        1    16     8.450134\n",
       "2          5.7              2.0  2011      8   18        3     0     1.389525\n",
       "3          7.7              1.0  2012      4   21        5     4     2.799270\n",
       "4          5.3              1.0  2010      3    9        1     7     1.999157\n",
       "5         12.1              1.0  2011      1    6        3     9     3.787239"
      ]
     },
     "execution_count": 43,
     "metadata": {},
     "output_type": "execute_result"
    }
   ],
   "source": [
    "del cab_df['pickup_longitude']\n",
    "del cab_df['pickup_latitude']\n",
    "del cab_df['dropoff_longitude']\n",
    "del cab_df['dropoff_latitude']\n",
    "cab_df.head()"
   ]
  },
  {
   "cell_type": "code",
   "execution_count": 44,
   "metadata": {},
   "outputs": [
    {
     "data": {
      "text/plain": [
       "<matplotlib.axes._subplots.AxesSubplot at 0x2373dbb98d0>"
      ]
     },
     "execution_count": 44,
     "metadata": {},
     "output_type": "execute_result"
    },
    {
     "data": {
      "image/png": "[encoded data removed]",
      "text/plain": [
       "<Figure size 504x360 with 2 Axes>"
      ]
     },
     "metadata": {
      "needs_background": "light"
     },
     "output_type": "display_data"
    }
   ],
   "source": [
    "f, ax=plt.subplots(figsize=(7,5))\n",
    "\n",
    "sns.heatmap(cab_df.corr(),mask=np.zeros_like(cab_df.corr(),dtype=np.bool),\n",
    "           cmap=sns.diverging_palette(220,10,as_cmap=True),ax=ax,annot=True)"
   ]
  },
  {
   "cell_type": "code",
   "execution_count": 45,
   "metadata": {},
   "outputs": [],
   "source": [
    "#Exploratory Data Analysis : to understand the data and make some inferences out of it."
   ]
  },
  {
   "cell_type": "code",
   "execution_count": 46,
   "metadata": {},
   "outputs": [
    {
     "data": {
      "image/png": "[encoded data removed]",
      "text/plain": [
       "<Figure size 432x288 with 1 Axes>"
      ]
     },
     "metadata": {
      "needs_background": "light"
     },
     "output_type": "display_data"
    }
   ],
   "source": [
    "#Shows the distribution b/w distance and fare\n",
    "plt.scatter(cab_df['distance_km'], cab_df['fare_amount'], color='red')\n",
    "\n",
    "plt.title('distance vs fare_amount', fontsize=14)\n",
    "\n",
    "plt.xlabel('distance', fontsize=14)\n",
    "\n",
    "plt.ylabel('fare', fontsize=14)\n",
    "\n",
    "plt.grid(True)\n",
    "\n",
    "plt.show()"
   ]
  },
  {
   "cell_type": "code",
   "execution_count": 47,
   "metadata": {},
   "outputs": [
    {
     "data": {
      "text/plain": [
       "Text(0, 0.5, 'Fare')"
      ]
     },
     "execution_count": 47,
     "metadata": {},
     "output_type": "execute_result"
    },
    {
     "data": {
      "image/png": "[encoded data removed]",
      "text/plain": [
       "<Figure size 1080x504 with 1 Axes>"
      ]
     },
     "metadata": {
      "needs_background": "light"
     },
     "output_type": "display_data"
    }
   ],
   "source": [
    "#shows how the different days have different fare amount\n",
    "plt.figure(figsize=(15,7))\n",
    "plt.scatter(x=cab_df['day'], y=cab_df['fare_amount'], s=1.5)\n",
    "plt.title('day vs fare_amount', fontsize=14)\n",
    "plt.xlabel('day')\n",
    "plt.ylabel('Fare')"
   ]
  },
  {
   "cell_type": "code",
   "execution_count": 48,
   "metadata": {},
   "outputs": [
    {
     "data": {
      "text/plain": [
       "Text(0, 0.5, 'Frequency')"
      ]
     },
     "execution_count": 48,
     "metadata": {},
     "output_type": "execute_result"
    },
    {
     "data": {
      "image/png": "[encoded data removed]",
      "text/plain": [
       "<Figure size 1080x504 with 1 Axes>"
      ]
     },
     "metadata": {
      "needs_background": "light"
     },
     "output_type": "display_data"
    }
   ],
   "source": [
    "#shows the frequency of hours, (tells us about the most active hour)\n",
    "plt.figure(figsize=(15,7))\n",
    "plt.hist(cab_df['hour'], bins=100)\n",
    "plt.title('Frequency of hours')\n",
    "plt.xlabel('Hour')\n",
    "plt.ylabel('Frequency')"
   ]
  },
  {
   "cell_type": "code",
   "execution_count": 49,
   "metadata": {},
   "outputs": [
    {
     "data": {
      "text/plain": [
       "Text(0, 0.5, 'Fare')"
      ]
     },
     "execution_count": 49,
     "metadata": {},
     "output_type": "execute_result"
    },
    {
     "data": {
      "image/png": "[encoded data removed]",
      "text/plain": [
       "<Figure size 1080x504 with 1 Axes>"
      ]
     },
     "metadata": {
      "needs_background": "light"
     },
     "output_type": "display_data"
    }
   ],
   "source": [
    "#Hour vs Fare_amount\n",
    "plt.figure(figsize=(15,7))\n",
    "plt.scatter(x=cab_df['hour'], y=cab_df['fare_amount'], s=1.5)\n",
    "plt.xlabel('Hour')\n",
    "plt.ylabel('Fare')"
   ]
  },
  {
   "cell_type": "code",
   "execution_count": 50,
   "metadata": {},
   "outputs": [
    {
     "data": {
      "text/plain": [
       "Text(0, 0.5, 'Frequency')"
      ]
     },
     "execution_count": 50,
     "metadata": {},
     "output_type": "execute_result"
    },
    {
     "data": {
      "image/png": "[encoded data removed]",
      "text/plain": [
       "<Figure size 1080x504 with 1 Axes>"
      ]
     },
     "metadata": {
      "needs_background": "light"
     },
     "output_type": "display_data"
    }
   ],
   "source": [
    "#shows the frequency of number of passengers\n",
    "plt.figure(figsize=(15,7))\n",
    "plt.hist(cab_df['passenger_count'], bins=15)\n",
    "plt.title('Passenger Count')\n",
    "plt.xlabel('No. of Passengers')\n",
    "plt.ylabel('Frequency')"
   ]
  },
  {
   "cell_type": "code",
   "execution_count": 51,
   "metadata": {},
   "outputs": [
    {
     "data": {
      "text/plain": [
       "Text(0, 0.5, 'Fare')"
      ]
     },
     "execution_count": 51,
     "metadata": {},
     "output_type": "execute_result"
    },
    {
     "data": {
      "image/png": "[encoded data removed]",
      "text/plain": [
       "<Figure size 1080x504 with 1 Axes>"
      ]
     },
     "metadata": {
      "needs_background": "light"
     },
     "output_type": "display_data"
    }
   ],
   "source": [
    "#Number of Passengers vs Fare_amount\n",
    "plt.figure(figsize=(15,7))\n",
    "plt.scatter(x=cab_df['passenger_count'], y=cab_df['fare_amount'], s=1.5)\n",
    "plt.xlabel('No. of Passengers')\n",
    "plt.ylabel('Fare')"
   ]
  },
  {
   "cell_type": "code",
   "execution_count": 52,
   "metadata": {},
   "outputs": [
    {
     "data": {
      "image/png": "[encoded data removed]",
      "text/plain": [
       "<Figure size 720x360 with 1 Axes>"
      ]
     },
     "metadata": {
      "needs_background": "light"
     },
     "output_type": "display_data"
    }
   ],
   "source": [
    "#Shows the average fare_amount by Month\n",
    "fare_mn = cab_df.groupby(\"month\")[\"fare_amount\"].mean().reset_index()\n",
    "plt.figure(figsize = (10,5))\n",
    "sns.barplot(\"month\",\"fare_amount\",\n",
    "            data = fare_mn,\n",
    "            linewidth =1)\n",
    "plt.grid(True)\n",
    "plt.title(\"Average fare amount by Month\")\n",
    "plt.show()"
   ]
  },
  {
   "cell_type": "code",
   "execution_count": 53,
   "metadata": {},
   "outputs": [
    {
     "data": {
      "text/plain": [
       "array([2010, 2011, 2012, 2009, 2013, 2014, 2015], dtype=int64)"
      ]
     },
     "execution_count": 53,
     "metadata": {},
     "output_type": "execute_result"
    }
   ],
   "source": [
    "cab_df['year'].unique()"
   ]
  },
  {
   "cell_type": "code",
   "execution_count": 54,
   "metadata": {},
   "outputs": [
    {
     "data": {
      "image/png": "[encoded data removed]",
      "text/plain": [
       "<Figure size 936x1080 with 6 Axes>"
      ]
     },
     "metadata": {
      "needs_background": "light"
     },
     "output_type": "display_data"
    }
   ],
   "source": [
    "#shows the trends of trips every month of all years except for 2015 as it doesn't have data for all months\n",
    "\n",
    "yrs = [i for i in cab_df[\"year\"].unique().tolist() if i not in [2015]]\n",
    "\n",
    "#subset data without year 2015\n",
    "complete_dat = cab_df[cab_df[\"year\"].isin(yrs)]\n",
    "\n",
    "\n",
    "plt.figure(figsize = (13,15))\n",
    "for i,j in itertools.zip_longest(yrs,range(len(yrs))) :\n",
    "    plt.subplot(3,2,j+1)\n",
    "    trip_counts_mn = complete_dat[complete_dat[\"year\"] == i][\"month\"].value_counts()\n",
    "    trip_counts_mn = trip_counts_mn.reset_index()\n",
    "    sns.barplot(trip_counts_mn[\"index\"],trip_counts_mn[\"month\"],\n",
    "                palette = \"rainbow\",linewidth = 1,\n",
    "                edgecolor = \"k\"*complete_dat[\"month\"].nunique() \n",
    "               )\n",
    "    plt.title(i,color = \"b\",fontsize = 12)\n",
    "    plt.grid(True)\n",
    "    plt.xlabel(\"\")\n",
    "    plt.ylabel(\"trips\")"
   ]
  },
  {
   "cell_type": "code",
   "execution_count": 55,
   "metadata": {},
   "outputs": [],
   "source": [
    "#Train_test Splitting : Simple Random Sampling as we are dealing with continuous variables\n",
    "X = cab_df.iloc[:,1:].values\n",
    "Y = cab_df.iloc[:,0].values\n",
    "X_train, X_test, y_train, y_test = train_test_split(X,Y,test_size=0.2,random_state = 0)"
   ]
  },
  {
   "cell_type": "code",
   "execution_count": 56,
   "metadata": {},
   "outputs": [
    {
     "data": {
      "text/html": [
       "<table class=\"simpletable\">\n",
       "<caption>OLS Regression Results</caption>\n",
       "<tr>\n",
       "  <th>Dep. Variable:</th>            <td>y</td>        <th>  R-squared:         </th> <td>   0.943</td> \n",
       "</tr>\n",
       "<tr>\n",
       "  <th>Model:</th>                   <td>OLS</td>       <th>  Adj. R-squared:    </th> <td>   0.943</td> \n",
       "</tr>\n",
       "<tr>\n",
       "  <th>Method:</th>             <td>Least Squares</td>  <th>  F-statistic:       </th> <td>2.235e+04</td>\n",
       "</tr>\n",
       "<tr>\n",
       "  <th>Date:</th>             <td>Thu, 04 Jul 2019</td> <th>  Prob (F-statistic):</th>  <td>  0.00</td>  \n",
       "</tr>\n",
       "<tr>\n",
       "  <th>Time:</th>                 <td>15:52:58</td>     <th>  Log-Likelihood:    </th> <td> -20983.</td> \n",
       "</tr>\n",
       "<tr>\n",
       "  <th>No. Observations:</th>      <td>  9433</td>      <th>  AIC:               </th> <td>4.198e+04</td>\n",
       "</tr>\n",
       "<tr>\n",
       "  <th>Df Residuals:</th>          <td>  9426</td>      <th>  BIC:               </th> <td>4.203e+04</td>\n",
       "</tr>\n",
       "<tr>\n",
       "  <th>Df Model:</th>              <td>     7</td>      <th>                     </th>     <td> </td>    \n",
       "</tr>\n",
       "<tr>\n",
       "  <th>Covariance Type:</th>      <td>nonrobust</td>    <th>                     </th>     <td> </td>    \n",
       "</tr>\n",
       "</table>\n",
       "<table class=\"simpletable\">\n",
       "<tr>\n",
       "   <td></td>     <th>coef</th>     <th>std err</th>      <th>t</th>      <th>P>|t|</th>  <th>[0.025</th>    <th>0.975]</th>  \n",
       "</tr>\n",
       "<tr>\n",
       "  <th>x1</th> <td>    0.0810</td> <td>    0.043</td> <td>    1.886</td> <td> 0.059</td> <td>   -0.003</td> <td>    0.165</td>\n",
       "</tr>\n",
       "<tr>\n",
       "  <th>x2</th> <td>    0.0018</td> <td> 5.35e-05</td> <td>   34.380</td> <td> 0.000</td> <td>    0.002</td> <td>    0.002</td>\n",
       "</tr>\n",
       "<tr>\n",
       "  <th>x3</th> <td>    0.0321</td> <td>    0.007</td> <td>    4.812</td> <td> 0.000</td> <td>    0.019</td> <td>    0.045</td>\n",
       "</tr>\n",
       "<tr>\n",
       "  <th>x4</th> <td>   -0.0044</td> <td>    0.003</td> <td>   -1.672</td> <td> 0.095</td> <td>   -0.010</td> <td>    0.001</td>\n",
       "</tr>\n",
       "<tr>\n",
       "  <th>x5</th> <td>   -0.0307</td> <td>    0.012</td> <td>   -2.585</td> <td> 0.010</td> <td>   -0.054</td> <td>   -0.007</td>\n",
       "</tr>\n",
       "<tr>\n",
       "  <th>x6</th> <td>    0.0117</td> <td>    0.004</td> <td>    3.203</td> <td> 0.001</td> <td>    0.005</td> <td>    0.019</td>\n",
       "</tr>\n",
       "<tr>\n",
       "  <th>x7</th> <td>    1.9740</td> <td>    0.015</td> <td>  134.885</td> <td> 0.000</td> <td>    1.945</td> <td>    2.003</td>\n",
       "</tr>\n",
       "</table>\n",
       "<table class=\"simpletable\">\n",
       "<tr>\n",
       "  <th>Omnibus:</th>       <td>2940.232</td> <th>  Durbin-Watson:     </th> <td>   1.965</td> \n",
       "</tr>\n",
       "<tr>\n",
       "  <th>Prob(Omnibus):</th>  <td> 0.000</td>  <th>  Jarque-Bera (JB):  </th> <td>14475.092</td>\n",
       "</tr>\n",
       "<tr>\n",
       "  <th>Skew:</th>           <td> 1.427</td>  <th>  Prob(JB):          </th> <td>    0.00</td> \n",
       "</tr>\n",
       "<tr>\n",
       "  <th>Kurtosis:</th>       <td> 8.355</td>  <th>  Cond. No.          </th> <td>3.75e+03</td> \n",
       "</tr>\n",
       "</table><br/><br/>Warnings:<br/>[1] Standard Errors assume that the covariance matrix of the errors is correctly specified.<br/>[2] The condition number is large, 3.75e+03. This might indicate that there are<br/>strong multicollinearity or other numerical problems."
      ],
      "text/plain": [
       "<class 'statsmodels.iolib.summary.Summary'>\n",
       "\"\"\"\n",
       "                            OLS Regression Results                            \n",
       "==============================================================================\n",
       "Dep. Variable:                      y   R-squared:                       0.943\n",
       "Model:                            OLS   Adj. R-squared:                  0.943\n",
       "Method:                 Least Squares   F-statistic:                 2.235e+04\n",
       "Date:                Thu, 04 Jul 2019   Prob (F-statistic):               0.00\n",
       "Time:                        15:52:58   Log-Likelihood:                -20983.\n",
       "No. Observations:                9433   AIC:                         4.198e+04\n",
       "Df Residuals:                    9426   BIC:                         4.203e+04\n",
       "Df Model:                           7                                         \n",
       "Covariance Type:            nonrobust                                         \n",
       "==============================================================================\n",
       "                 coef    std err          t      P>|t|      [0.025      0.975]\n",
       "------------------------------------------------------------------------------\n",
       "x1             0.0810      0.043      1.886      0.059      -0.003       0.165\n",
       "x2             0.0018   5.35e-05     34.380      0.000       0.002       0.002\n",
       "x3             0.0321      0.007      4.812      0.000       0.019       0.045\n",
       "x4            -0.0044      0.003     -1.672      0.095      -0.010       0.001\n",
       "x5            -0.0307      0.012     -2.585      0.010      -0.054      -0.007\n",
       "x6             0.0117      0.004      3.203      0.001       0.005       0.019\n",
       "x7             1.9740      0.015    134.885      0.000       1.945       2.003\n",
       "==============================================================================\n",
       "Omnibus:                     2940.232   Durbin-Watson:                   1.965\n",
       "Prob(Omnibus):                  0.000   Jarque-Bera (JB):            14475.092\n",
       "Skew:                           1.427   Prob(JB):                         0.00\n",
       "Kurtosis:                       8.355   Cond. No.                     3.75e+03\n",
       "==============================================================================\n",
       "\n",
       "Warnings:\n",
       "[1] Standard Errors assume that the covariance matrix of the errors is correctly specified.\n",
       "[2] The condition number is large, 3.75e+03. This might indicate that there are\n",
       "strong multicollinearity or other numerical problems.\n",
       "\"\"\""
      ]
     },
     "execution_count": 56,
     "metadata": {},
     "output_type": "execute_result"
    }
   ],
   "source": [
    "#Multiple Linear Regression\n",
    "model = sm.OLS(y_train,X_train).fit()\n",
    "model.summary()"
   ]
  },
  {
   "cell_type": "code",
   "execution_count": 60,
   "metadata": {},
   "outputs": [],
   "source": [
    "predictions_LR = model.predict(X_test)"
   ]
  },
  {
   "cell_type": "code",
   "execution_count": 61,
   "metadata": {},
   "outputs": [
    {
     "name": "stdout",
     "output_type": "stream",
     "text": [
      "RMSE value for Multiple Linear Regression is: 2.161418831852699\n"
     ]
    }
   ],
   "source": [
    "error = sqrt(metrics.mean_squared_error(y_test,predictions_LR)) #calculate rmse\n",
    "print('RMSE value for Multiple Linear Regression is:', error)"
   ]
  },
  {
   "cell_type": "code",
   "execution_count": 62,
   "metadata": {},
   "outputs": [
    {
     "data": {
      "text/plain": [
       "array([ 4.90754573,  7.65791667,  6.87668161, ..., 10.03389831,\n",
       "       11.94214559,  4.90754573])"
      ]
     },
     "execution_count": 62,
     "metadata": {},
     "output_type": "execute_result"
    }
   ],
   "source": [
    "#Decision Tree\n",
    "train,test = train_test_split(cab_df,test_size = 0.2,random_state=0)\n",
    "fit = DecisionTreeRegressor(max_depth=5).fit(train.iloc[:,1:],train.iloc[:,0])\n",
    "predictions_DT = fit.predict(test.iloc[:,1:])\n",
    "predictions_DT"
   ]
  },
  {
   "cell_type": "code",
   "execution_count": 63,
   "metadata": {},
   "outputs": [
    {
     "name": "stdout",
     "output_type": "stream",
     "text": [
      "R square value for Decision Tree is:  0.6965263235742822\n",
      "RMSE value for Decision Tree is: 2.066720962852115\n"
     ]
    }
   ],
   "source": [
    "error = sqrt(metrics.mean_squared_error(y_test,predictions_DT)) #calculate rmse\n",
    "print('R square value for Decision Tree is: ',metrics.r2_score(y_test,predictions_DT))\n",
    "print('RMSE value for Decision Tree is:', error)"
   ]
  },
  {
   "cell_type": "code",
   "execution_count": 64,
   "metadata": {},
   "outputs": [],
   "source": [
    "#Random Forest\n",
    "X = cab_df.iloc[:,1:].values\n",
    "Y = cab_df.iloc[:,0].values\n",
    "X_train, X_test, y_train, y_test = train_test_split(X,Y,test_size=0.2,random_state=0)\n",
    "\n",
    "sc = StandardScaler()  \n",
    "X_train = sc.fit_transform(X_train)  \n",
    "X_test = sc.transform(X_test) "
   ]
  },
  {
   "cell_type": "code",
   "execution_count": 65,
   "metadata": {},
   "outputs": [
    {
     "name": "stdout",
     "output_type": "stream",
     "text": [
      "R square value for Random Forest is:  0.7027788219359306\n",
      "RMSE value for Random Forest is : 2.0453197273408374\n"
     ]
    }
   ],
   "source": [
    "regressor = RandomForestRegressor(n_estimators=200, random_state=0)  \n",
    "regressor.fit(X_train, y_train)  \n",
    "y_pred = regressor.predict(X_test)  \n",
    "y_pred\n",
    "print('R square value for Random Forest is: ',metrics.r2_score(y_test,y_pred))\n",
    "print('RMSE value for Random Forest is :', np.sqrt(metrics.mean_squared_error(y_test, y_pred))) "
   ]
  },
  {
   "cell_type": "code",
   "execution_count": 66,
   "metadata": {},
   "outputs": [],
   "source": [
    "#K Nearest Neighbours\n",
    "train , test = train_test_split(cab_df, test_size = 0.2)\n",
    "\n",
    "x_train = train.drop('fare_amount', axis=1)\n",
    "y_train = train['fare_amount']\n",
    "\n",
    "x_test = test.drop('fare_amount', axis = 1)\n",
    "y_test = test['fare_amount']"
   ]
  },
  {
   "cell_type": "code",
   "execution_count": 67,
   "metadata": {},
   "outputs": [],
   "source": [
    "scaler = MinMaxScaler(feature_range=(0, 1))\n",
    "\n",
    "x_train_scaled = scaler.fit_transform(x_train)\n",
    "x_train = pd.DataFrame(x_train_scaled)\n",
    "\n",
    "x_test_scaled = scaler.fit_transform(x_test)\n",
    "x_test = pd.DataFrame(x_test_scaled)"
   ]
  },
  {
   "cell_type": "code",
   "execution_count": 68,
   "metadata": {},
   "outputs": [
    {
     "data": {
      "text/plain": [
       "<ipykernel.zmqshell.ZMQInteractiveShell at 0x23731771eb8>"
      ]
     },
     "execution_count": 68,
     "metadata": {},
     "output_type": "execute_result"
    }
   ],
   "source": [
    "#import required packages\n",
    "get_ipython()"
   ]
  },
  {
   "cell_type": "code",
   "execution_count": 69,
   "metadata": {},
   "outputs": [
    {
     "name": "stdout",
     "output_type": "stream",
     "text": [
      "R square value for K Nearest Neighbours is:  0.60422658375304\n",
      "RMSE value for K Nearest Neighbours is: 2.431476345415033\n"
     ]
    }
   ],
   "source": [
    "model = neighbors.KNeighborsRegressor(n_neighbors = 10)\n",
    "model.fit(x_train, y_train)  #fit the model\n",
    "pred=model.predict(x_test) #make prediction on test set\n",
    "error = sqrt(mean_squared_error(y_test,pred)) #calculate rmse\n",
    "\n",
    "print('R square value for K Nearest Neighbours is: ',metrics.r2_score(y_test,pred))\n",
    "print('RMSE value for K Nearest Neighbours is:', error)"
   ]
  },
  {
   "cell_type": "code",
   "execution_count": 70,
   "metadata": {},
   "outputs": [
    {
     "name": "stdout",
     "output_type": "stream",
     "text": [
      "Highest accuracy : 94.3 --> Linear Regression, so using this model to predict\n"
     ]
    }
   ],
   "source": [
    "'''\n",
    "Error metric used is Root Mean Square Error as this is a Time Series Forecasting Problem. \n",
    "It represents the sample standard deviation of the differences between predicted values and observed values (called residuals).\n",
    "Lower RMSE mean better model performance.\n",
    "RMSE -->\n",
    "MLR : 2.16\n",
    "DT : 2.06\n",
    "RF : 2.04\n",
    "KNN : 2.43\n",
    "\n",
    "Best Linear Regression as highest r2 = 94.3\n",
    "'''\n",
    "print('Highest accuracy : 94.3 --> Linear Regression, so using this model to predict')"
   ]
  },
  {
   "cell_type": "code",
   "execution_count": 71,
   "metadata": {},
   "outputs": [],
   "source": [
    "#Now that we have chosen the right model, we use it to predict fare_Amount for our test cases.\n",
    "#For that we first preprocess the test dataset and make it appropriate in such a way that it fits the model i.e the \n",
    "#input variables be same as the input variables of the algorithm chosen."
   ]
  },
  {
   "cell_type": "code",
   "execution_count": 72,
   "metadata": {},
   "outputs": [
    {
     "name": "stdout",
     "output_type": "stream",
     "text": [
      "       pickup_longitude  pickup_latitude  dropoff_longitude  dropoff_latitude  \\\n",
      "count       9914.000000      9914.000000        9914.000000       9914.000000   \n",
      "mean         -73.974722        40.751041         -73.973657         40.751743   \n",
      "std            0.042774         0.033541           0.039072          0.035435   \n",
      "min          -74.252193        40.573143         -74.263242         40.568973   \n",
      "25%          -73.992501        40.736125         -73.991247         40.735254   \n",
      "50%          -73.982326        40.753051         -73.980015         40.754065   \n",
      "75%          -73.968013        40.767113         -73.964059         40.768757   \n",
      "max          -72.986532        41.709555         -72.990963         41.696683   \n",
      "\n",
      "       passenger_count  \n",
      "count      9914.000000  \n",
      "mean          1.671273  \n",
      "std           1.278747  \n",
      "min           1.000000  \n",
      "25%           1.000000  \n",
      "50%           1.000000  \n",
      "75%           2.000000  \n",
      "max           6.000000  \n"
     ]
    }
   ],
   "source": [
    "test_df = pd.read_csv('test.csv')\n",
    "print(test_df.describe())"
   ]
  },
  {
   "cell_type": "code",
   "execution_count": 73,
   "metadata": {},
   "outputs": [
    {
     "name": "stdout",
     "output_type": "stream",
     "text": [
      "pickup_datetime      0\n",
      "pickup_longitude     0\n",
      "pickup_latitude      0\n",
      "dropoff_longitude    0\n",
      "dropoff_latitude     0\n",
      "passenger_count      0\n",
      "dtype: int64\n"
     ]
    }
   ],
   "source": [
    "#Check missing value\n",
    "print(test_df.isnull().sum())"
   ]
  },
  {
   "cell_type": "code",
   "execution_count": 74,
   "metadata": {},
   "outputs": [
    {
     "name": "stdout",
     "output_type": "stream",
     "text": [
      "pickup_datetime      datetime64[ns, UTC]\n",
      "pickup_longitude                 float64\n",
      "pickup_latitude                  float64\n",
      "dropoff_longitude                float64\n",
      "dropoff_latitude                 float64\n",
      "passenger_count                    int64\n",
      "dtype: object\n"
     ]
    }
   ],
   "source": [
    "#Data type conversion\n",
    "test_df['pickup_datetime']=pd.to_datetime(test_df['pickup_datetime'])\n",
    "print(test_df.dtypes)"
   ]
  },
  {
   "cell_type": "code",
   "execution_count": 75,
   "metadata": {},
   "outputs": [],
   "source": [
    "#Outlier Analysis\n",
    "num_variables=['pickup_longitude','pickup_latitude','dropoff_longitude','dropoff_latitude','passenger_count']\n",
    "for i in num_variables:\n",
    "    q75,q25=np.percentile(test_df.loc[:,i],[75,25])\n",
    "    iqr=q75-q25\n",
    "    min=q25 -(1.5*iqr)\n",
    "    max=q75 +(1.5*iqr)\n",
    "    \n",
    "    test_df=test_df.drop(test_df[test_df.loc[:,i]<min].index)\n",
    "    test_df=test_df.drop(test_df[test_df.loc[:,i]>max].index)"
   ]
  },
  {
   "cell_type": "code",
   "execution_count": 76,
   "metadata": {},
   "outputs": [
    {
     "data": {
      "text/html": [
       "<div>\n",
       "<style scoped>\n",
       "    .dataframe tbody tr th:only-of-type {\n",
       "        vertical-align: middle;\n",
       "    }\n",
       "\n",
       "    .dataframe tbody tr th {\n",
       "        vertical-align: top;\n",
       "    }\n",
       "\n",
       "    .dataframe thead th {\n",
       "        text-align: right;\n",
       "    }\n",
       "</style>\n",
       "<table border=\"1\" class=\"dataframe\">\n",
       "  <thead>\n",
       "    <tr style=\"text-align: right;\">\n",
       "      <th></th>\n",
       "      <th>pickup_longitude</th>\n",
       "      <th>pickup_latitude</th>\n",
       "      <th>dropoff_longitude</th>\n",
       "      <th>dropoff_latitude</th>\n",
       "      <th>passenger_count</th>\n",
       "    </tr>\n",
       "  </thead>\n",
       "  <tbody>\n",
       "    <tr>\n",
       "      <th>count</th>\n",
       "      <td>7687.000000</td>\n",
       "      <td>7687.000000</td>\n",
       "      <td>7687.000000</td>\n",
       "      <td>7687.000000</td>\n",
       "      <td>7687.000000</td>\n",
       "    </tr>\n",
       "    <tr>\n",
       "      <th>mean</th>\n",
       "      <td>-73.981871</td>\n",
       "      <td>40.752475</td>\n",
       "      <td>-73.980279</td>\n",
       "      <td>40.753094</td>\n",
       "      <td>1.266944</td>\n",
       "    </tr>\n",
       "    <tr>\n",
       "      <th>std</th>\n",
       "      <td>0.016354</td>\n",
       "      <td>0.021372</td>\n",
       "      <td>0.017423</td>\n",
       "      <td>0.023315</td>\n",
       "      <td>0.544916</td>\n",
       "    </tr>\n",
       "    <tr>\n",
       "      <th>min</th>\n",
       "      <td>-74.023050</td>\n",
       "      <td>40.692392</td>\n",
       "      <td>-74.028842</td>\n",
       "      <td>40.688838</td>\n",
       "      <td>1.000000</td>\n",
       "    </tr>\n",
       "    <tr>\n",
       "      <th>25%</th>\n",
       "      <td>-73.993313</td>\n",
       "      <td>40.737385</td>\n",
       "      <td>-73.992014</td>\n",
       "      <td>40.737626</td>\n",
       "      <td>1.000000</td>\n",
       "    </tr>\n",
       "    <tr>\n",
       "      <th>50%</th>\n",
       "      <td>-73.983221</td>\n",
       "      <td>40.753280</td>\n",
       "      <td>-73.981340</td>\n",
       "      <td>40.754463</td>\n",
       "      <td>1.000000</td>\n",
       "    </tr>\n",
       "    <tr>\n",
       "      <th>75%</th>\n",
       "      <td>-73.970814</td>\n",
       "      <td>40.766678</td>\n",
       "      <td>-73.969173</td>\n",
       "      <td>40.768384</td>\n",
       "      <td>1.000000</td>\n",
       "    </tr>\n",
       "    <tr>\n",
       "      <th>max</th>\n",
       "      <td>-73.931783</td>\n",
       "      <td>40.810477</td>\n",
       "      <td>-73.927247</td>\n",
       "      <td>40.816254</td>\n",
       "      <td>3.000000</td>\n",
       "    </tr>\n",
       "  </tbody>\n",
       "</table>\n",
       "</div>"
      ],
      "text/plain": [
       "       pickup_longitude  pickup_latitude  dropoff_longitude  dropoff_latitude  \\\n",
       "count       7687.000000      7687.000000        7687.000000       7687.000000   \n",
       "mean         -73.981871        40.752475         -73.980279         40.753094   \n",
       "std            0.016354         0.021372           0.017423          0.023315   \n",
       "min          -74.023050        40.692392         -74.028842         40.688838   \n",
       "25%          -73.993313        40.737385         -73.992014         40.737626   \n",
       "50%          -73.983221        40.753280         -73.981340         40.754463   \n",
       "75%          -73.970814        40.766678         -73.969173         40.768384   \n",
       "max          -73.931783        40.810477         -73.927247         40.816254   \n",
       "\n",
       "       passenger_count  \n",
       "count      7687.000000  \n",
       "mean          1.266944  \n",
       "std           0.544916  \n",
       "min           1.000000  \n",
       "25%           1.000000  \n",
       "50%           1.000000  \n",
       "75%           1.000000  \n",
       "max           3.000000  "
      ]
     },
     "execution_count": 76,
     "metadata": {},
     "output_type": "execute_result"
    }
   ],
   "source": [
    "test_df.describe()"
   ]
  },
  {
   "cell_type": "code",
   "execution_count": 77,
   "metadata": {},
   "outputs": [],
   "source": [
    "#Feature Engineering\n",
    "test_df['year'] = test_df.pickup_datetime.dt.year\n",
    "test_df['month'] = test_df.pickup_datetime.dt.month\n",
    "test_df['day'] = test_df.pickup_datetime.dt.day\n",
    "test_df['weekday'] = test_df.pickup_datetime.dt.weekday\n",
    "test_df['hour'] = test_df.pickup_datetime.dt.hour\n",
    "del test_df['pickup_datetime']"
   ]
  },
  {
   "cell_type": "code",
   "execution_count": 78,
   "metadata": {},
   "outputs": [],
   "source": [
    "def haversine_distance(lat1, long1, lat2, long2):\n",
    "    data = [test_df]\n",
    "    for i in data:\n",
    "        R = 6371  #radius of earth in kilometers\n",
    "        #R = 3959 #radius of earth in miles\n",
    "        phi1 = np.radians(i[lat1])\n",
    "        phi2 = np.radians(i[lat2])\n",
    "    \n",
    "        delta_phi = np.radians(i[lat2]-i[lat1])\n",
    "        delta_lambda = np.radians(i[long2]-i[long1])\n",
    "    \n",
    "        #a = sin²((φB - φA)/2) + cos φA . cos φB . sin²((λB - λA)/2)\n",
    "        a = np.sin(delta_phi / 2.0) ** 2 + np.cos(phi1) * np.cos(phi2) * np.sin(delta_lambda / 2.0) ** 2\n",
    "    \n",
    "        #c = 2 * atan2( √a, √(1−a) )\n",
    "        c = 2 * np.arctan2(np.sqrt(a), np.sqrt(1-a))\n",
    "    \n",
    "        #d = R*c\n",
    "        d = (R * c) #in kilometers\n",
    "        i['distance_km'] = d\n",
    "    return d"
   ]
  },
  {
   "cell_type": "code",
   "execution_count": 79,
   "metadata": {},
   "outputs": [
    {
     "data": {
      "text/html": [
       "<div>\n",
       "<style scoped>\n",
       "    .dataframe tbody tr th:only-of-type {\n",
       "        vertical-align: middle;\n",
       "    }\n",
       "\n",
       "    .dataframe tbody tr th {\n",
       "        vertical-align: top;\n",
       "    }\n",
       "\n",
       "    .dataframe thead th {\n",
       "        text-align: right;\n",
       "    }\n",
       "</style>\n",
       "<table border=\"1\" class=\"dataframe\">\n",
       "  <thead>\n",
       "    <tr style=\"text-align: right;\">\n",
       "      <th></th>\n",
       "      <th>pickup_longitude</th>\n",
       "      <th>pickup_latitude</th>\n",
       "      <th>dropoff_longitude</th>\n",
       "      <th>dropoff_latitude</th>\n",
       "      <th>passenger_count</th>\n",
       "      <th>year</th>\n",
       "      <th>month</th>\n",
       "      <th>day</th>\n",
       "      <th>weekday</th>\n",
       "      <th>hour</th>\n",
       "      <th>distance_km</th>\n",
       "    </tr>\n",
       "  </thead>\n",
       "  <tbody>\n",
       "    <tr>\n",
       "      <th>0</th>\n",
       "      <td>-73.973320</td>\n",
       "      <td>40.763805</td>\n",
       "      <td>-73.981430</td>\n",
       "      <td>40.743835</td>\n",
       "      <td>1</td>\n",
       "      <td>2015</td>\n",
       "      <td>1</td>\n",
       "      <td>27</td>\n",
       "      <td>1</td>\n",
       "      <td>13</td>\n",
       "      <td>2.323259</td>\n",
       "    </tr>\n",
       "    <tr>\n",
       "      <th>1</th>\n",
       "      <td>-73.986862</td>\n",
       "      <td>40.719383</td>\n",
       "      <td>-73.998886</td>\n",
       "      <td>40.739201</td>\n",
       "      <td>1</td>\n",
       "      <td>2015</td>\n",
       "      <td>1</td>\n",
       "      <td>27</td>\n",
       "      <td>1</td>\n",
       "      <td>13</td>\n",
       "      <td>2.425353</td>\n",
       "    </tr>\n",
       "    <tr>\n",
       "      <th>2</th>\n",
       "      <td>-73.982524</td>\n",
       "      <td>40.751260</td>\n",
       "      <td>-73.979654</td>\n",
       "      <td>40.746139</td>\n",
       "      <td>1</td>\n",
       "      <td>2011</td>\n",
       "      <td>10</td>\n",
       "      <td>8</td>\n",
       "      <td>5</td>\n",
       "      <td>11</td>\n",
       "      <td>0.618628</td>\n",
       "    </tr>\n",
       "    <tr>\n",
       "      <th>3</th>\n",
       "      <td>-73.981160</td>\n",
       "      <td>40.767807</td>\n",
       "      <td>-73.990448</td>\n",
       "      <td>40.751635</td>\n",
       "      <td>1</td>\n",
       "      <td>2012</td>\n",
       "      <td>12</td>\n",
       "      <td>1</td>\n",
       "      <td>5</td>\n",
       "      <td>21</td>\n",
       "      <td>1.961033</td>\n",
       "    </tr>\n",
       "    <tr>\n",
       "      <th>4</th>\n",
       "      <td>-73.966046</td>\n",
       "      <td>40.789775</td>\n",
       "      <td>-73.988565</td>\n",
       "      <td>40.744427</td>\n",
       "      <td>1</td>\n",
       "      <td>2012</td>\n",
       "      <td>12</td>\n",
       "      <td>1</td>\n",
       "      <td>5</td>\n",
       "      <td>21</td>\n",
       "      <td>5.387301</td>\n",
       "    </tr>\n",
       "  </tbody>\n",
       "</table>\n",
       "</div>"
      ],
      "text/plain": [
       "   pickup_longitude  pickup_latitude  dropoff_longitude  dropoff_latitude  \\\n",
       "0        -73.973320        40.763805         -73.981430         40.743835   \n",
       "1        -73.986862        40.719383         -73.998886         40.739201   \n",
       "2        -73.982524        40.751260         -73.979654         40.746139   \n",
       "3        -73.981160        40.767807         -73.990448         40.751635   \n",
       "4        -73.966046        40.789775         -73.988565         40.744427   \n",
       "\n",
       "   passenger_count  year  month  day  weekday  hour  distance_km  \n",
       "0                1  2015      1   27        1    13     2.323259  \n",
       "1                1  2015      1   27        1    13     2.425353  \n",
       "2                1  2011     10    8        5    11     0.618628  \n",
       "3                1  2012     12    1        5    21     1.961033  \n",
       "4                1  2012     12    1        5    21     5.387301  "
      ]
     },
     "execution_count": 79,
     "metadata": {},
     "output_type": "execute_result"
    }
   ],
   "source": [
    "test_df['distance_km'] = haversine_distance('pickup_latitude', 'pickup_longitude', 'dropoff_latitude', 'dropoff_longitude')\n",
    "test_df.head()"
   ]
  },
  {
   "cell_type": "code",
   "execution_count": 80,
   "metadata": {},
   "outputs": [
    {
     "data": {
      "text/html": [
       "<div>\n",
       "<style scoped>\n",
       "    .dataframe tbody tr th:only-of-type {\n",
       "        vertical-align: middle;\n",
       "    }\n",
       "\n",
       "    .dataframe tbody tr th {\n",
       "        vertical-align: top;\n",
       "    }\n",
       "\n",
       "    .dataframe thead th {\n",
       "        text-align: right;\n",
       "    }\n",
       "</style>\n",
       "<table border=\"1\" class=\"dataframe\">\n",
       "  <thead>\n",
       "    <tr style=\"text-align: right;\">\n",
       "      <th></th>\n",
       "      <th>passenger_count</th>\n",
       "      <th>year</th>\n",
       "      <th>month</th>\n",
       "      <th>day</th>\n",
       "      <th>weekday</th>\n",
       "      <th>hour</th>\n",
       "      <th>distance_km</th>\n",
       "    </tr>\n",
       "  </thead>\n",
       "  <tbody>\n",
       "    <tr>\n",
       "      <th>count</th>\n",
       "      <td>7687.000000</td>\n",
       "      <td>7687.000000</td>\n",
       "      <td>7687.000000</td>\n",
       "      <td>7687.000000</td>\n",
       "      <td>7687.000000</td>\n",
       "      <td>7687.000000</td>\n",
       "      <td>7687.000000</td>\n",
       "    </tr>\n",
       "    <tr>\n",
       "      <th>mean</th>\n",
       "      <td>1.266944</td>\n",
       "      <td>2011.809158</td>\n",
       "      <td>6.782100</td>\n",
       "      <td>16.026278</td>\n",
       "      <td>2.852218</td>\n",
       "      <td>13.586965</td>\n",
       "      <td>2.464695</td>\n",
       "    </tr>\n",
       "    <tr>\n",
       "      <th>std</th>\n",
       "      <td>0.544916</td>\n",
       "      <td>1.807156</td>\n",
       "      <td>3.376535</td>\n",
       "      <td>8.860358</td>\n",
       "      <td>1.982952</td>\n",
       "      <td>6.670019</td>\n",
       "      <td>1.731423</td>\n",
       "    </tr>\n",
       "    <tr>\n",
       "      <th>min</th>\n",
       "      <td>1.000000</td>\n",
       "      <td>2009.000000</td>\n",
       "      <td>1.000000</td>\n",
       "      <td>1.000000</td>\n",
       "      <td>0.000000</td>\n",
       "      <td>0.000000</td>\n",
       "      <td>0.000000</td>\n",
       "    </tr>\n",
       "    <tr>\n",
       "      <th>25%</th>\n",
       "      <td>1.000000</td>\n",
       "      <td>2010.000000</td>\n",
       "      <td>4.000000</td>\n",
       "      <td>9.000000</td>\n",
       "      <td>1.000000</td>\n",
       "      <td>8.000000</td>\n",
       "      <td>1.216531</td>\n",
       "    </tr>\n",
       "    <tr>\n",
       "      <th>50%</th>\n",
       "      <td>1.000000</td>\n",
       "      <td>2012.000000</td>\n",
       "      <td>7.000000</td>\n",
       "      <td>16.000000</td>\n",
       "      <td>3.000000</td>\n",
       "      <td>14.000000</td>\n",
       "      <td>1.997451</td>\n",
       "    </tr>\n",
       "    <tr>\n",
       "      <th>75%</th>\n",
       "      <td>1.000000</td>\n",
       "      <td>2013.000000</td>\n",
       "      <td>10.000000</td>\n",
       "      <td>24.000000</td>\n",
       "      <td>5.000000</td>\n",
       "      <td>19.000000</td>\n",
       "      <td>3.240176</td>\n",
       "    </tr>\n",
       "    <tr>\n",
       "      <th>max</th>\n",
       "      <td>3.000000</td>\n",
       "      <td>2015.000000</td>\n",
       "      <td>12.000000</td>\n",
       "      <td>31.000000</td>\n",
       "      <td>6.000000</td>\n",
       "      <td>23.000000</td>\n",
       "      <td>12.150068</td>\n",
       "    </tr>\n",
       "  </tbody>\n",
       "</table>\n",
       "</div>"
      ],
      "text/plain": [
       "       passenger_count         year        month          day      weekday  \\\n",
       "count      7687.000000  7687.000000  7687.000000  7687.000000  7687.000000   \n",
       "mean          1.266944  2011.809158     6.782100    16.026278     2.852218   \n",
       "std           0.544916     1.807156     3.376535     8.860358     1.982952   \n",
       "min           1.000000  2009.000000     1.000000     1.000000     0.000000   \n",
       "25%           1.000000  2010.000000     4.000000     9.000000     1.000000   \n",
       "50%           1.000000  2012.000000     7.000000    16.000000     3.000000   \n",
       "75%           1.000000  2013.000000    10.000000    24.000000     5.000000   \n",
       "max           3.000000  2015.000000    12.000000    31.000000     6.000000   \n",
       "\n",
       "              hour  distance_km  \n",
       "count  7687.000000  7687.000000  \n",
       "mean     13.586965     2.464695  \n",
       "std       6.670019     1.731423  \n",
       "min       0.000000     0.000000  \n",
       "25%       8.000000     1.216531  \n",
       "50%      14.000000     1.997451  \n",
       "75%      19.000000     3.240176  \n",
       "max      23.000000    12.150068  "
      ]
     },
     "execution_count": 80,
     "metadata": {},
     "output_type": "execute_result"
    }
   ],
   "source": [
    "del test_df['pickup_longitude']\n",
    "del test_df['pickup_latitude']\n",
    "del test_df['dropoff_longitude']\n",
    "del test_df['dropoff_latitude']\n",
    "test_df.describe()"
   ]
  },
  {
   "cell_type": "code",
   "execution_count": 81,
   "metadata": {},
   "outputs": [
    {
     "data": {
      "text/plain": [
       "array([ 7.85,  7.85,  4.94, ..., 12.02,  5.39,  8.68])"
      ]
     },
     "execution_count": 81,
     "metadata": {},
     "output_type": "execute_result"
    }
   ],
   "source": [
    "#Feature scaling for all values to lie under 1 range and then predicting\n",
    "y = sc.transform(test_df) \n",
    "predicted_fare = model.predict(y)\n",
    "predicted_fare"
   ]
  },
  {
   "cell_type": "code",
   "execution_count": 82,
   "metadata": {},
   "outputs": [],
   "source": [
    "test_df['predicted_fare'] = predicted_fare"
   ]
  },
  {
   "cell_type": "code",
   "execution_count": 83,
   "metadata": {},
   "outputs": [
    {
     "data": {
      "text/html": [
       "<div>\n",
       "<style scoped>\n",
       "    .dataframe tbody tr th:only-of-type {\n",
       "        vertical-align: middle;\n",
       "    }\n",
       "\n",
       "    .dataframe tbody tr th {\n",
       "        vertical-align: top;\n",
       "    }\n",
       "\n",
       "    .dataframe thead th {\n",
       "        text-align: right;\n",
       "    }\n",
       "</style>\n",
       "<table border=\"1\" class=\"dataframe\">\n",
       "  <thead>\n",
       "    <tr style=\"text-align: right;\">\n",
       "      <th></th>\n",
       "      <th>passenger_count</th>\n",
       "      <th>year</th>\n",
       "      <th>month</th>\n",
       "      <th>day</th>\n",
       "      <th>weekday</th>\n",
       "      <th>hour</th>\n",
       "      <th>distance_km</th>\n",
       "      <th>predicted_fare</th>\n",
       "    </tr>\n",
       "  </thead>\n",
       "  <tbody>\n",
       "    <tr>\n",
       "      <th>0</th>\n",
       "      <td>1</td>\n",
       "      <td>2015</td>\n",
       "      <td>1</td>\n",
       "      <td>27</td>\n",
       "      <td>1</td>\n",
       "      <td>13</td>\n",
       "      <td>2.323259</td>\n",
       "      <td>7.85</td>\n",
       "    </tr>\n",
       "    <tr>\n",
       "      <th>1</th>\n",
       "      <td>1</td>\n",
       "      <td>2015</td>\n",
       "      <td>1</td>\n",
       "      <td>27</td>\n",
       "      <td>1</td>\n",
       "      <td>13</td>\n",
       "      <td>2.425353</td>\n",
       "      <td>7.85</td>\n",
       "    </tr>\n",
       "    <tr>\n",
       "      <th>2</th>\n",
       "      <td>1</td>\n",
       "      <td>2011</td>\n",
       "      <td>10</td>\n",
       "      <td>8</td>\n",
       "      <td>5</td>\n",
       "      <td>11</td>\n",
       "      <td>0.618628</td>\n",
       "      <td>4.94</td>\n",
       "    </tr>\n",
       "    <tr>\n",
       "      <th>3</th>\n",
       "      <td>1</td>\n",
       "      <td>2012</td>\n",
       "      <td>12</td>\n",
       "      <td>1</td>\n",
       "      <td>5</td>\n",
       "      <td>21</td>\n",
       "      <td>1.961033</td>\n",
       "      <td>6.71</td>\n",
       "    </tr>\n",
       "    <tr>\n",
       "      <th>4</th>\n",
       "      <td>1</td>\n",
       "      <td>2012</td>\n",
       "      <td>12</td>\n",
       "      <td>1</td>\n",
       "      <td>5</td>\n",
       "      <td>21</td>\n",
       "      <td>5.387301</td>\n",
       "      <td>16.32</td>\n",
       "    </tr>\n",
       "  </tbody>\n",
       "</table>\n",
       "</div>"
      ],
      "text/plain": [
       "   passenger_count  year  month  day  weekday  hour  distance_km  \\\n",
       "0                1  2015      1   27        1    13     2.323259   \n",
       "1                1  2015      1   27        1    13     2.425353   \n",
       "2                1  2011     10    8        5    11     0.618628   \n",
       "3                1  2012     12    1        5    21     1.961033   \n",
       "4                1  2012     12    1        5    21     5.387301   \n",
       "\n",
       "   predicted_fare  \n",
       "0            7.85  \n",
       "1            7.85  \n",
       "2            4.94  \n",
       "3            6.71  \n",
       "4           16.32  "
      ]
     },
     "execution_count": 83,
     "metadata": {},
     "output_type": "execute_result"
    }
   ],
   "source": [
    "test_df.head()"
   ]
  },
  {
   "cell_type": "code",
   "execution_count": 84,
   "metadata": {},
   "outputs": [
    {
     "data": {
      "text/html": [
       "<div>\n",
       "<style scoped>\n",
       "    .dataframe tbody tr th:only-of-type {\n",
       "        vertical-align: middle;\n",
       "    }\n",
       "\n",
       "    .dataframe tbody tr th {\n",
       "        vertical-align: top;\n",
       "    }\n",
       "\n",
       "    .dataframe thead th {\n",
       "        text-align: right;\n",
       "    }\n",
       "</style>\n",
       "<table border=\"1\" class=\"dataframe\">\n",
       "  <thead>\n",
       "    <tr style=\"text-align: right;\">\n",
       "      <th></th>\n",
       "      <th>passenger_count</th>\n",
       "      <th>year</th>\n",
       "      <th>month</th>\n",
       "      <th>day</th>\n",
       "      <th>weekday</th>\n",
       "      <th>hour</th>\n",
       "      <th>distance_km</th>\n",
       "      <th>predicted_fare</th>\n",
       "    </tr>\n",
       "  </thead>\n",
       "  <tbody>\n",
       "    <tr>\n",
       "      <th>count</th>\n",
       "      <td>6396.000000</td>\n",
       "      <td>6396.000000</td>\n",
       "      <td>6396.00000</td>\n",
       "      <td>6396.000000</td>\n",
       "      <td>6396.000000</td>\n",
       "      <td>6396.000000</td>\n",
       "      <td>6396.000000</td>\n",
       "      <td>6396.000000</td>\n",
       "    </tr>\n",
       "    <tr>\n",
       "      <th>mean</th>\n",
       "      <td>1.267511</td>\n",
       "      <td>2011.811914</td>\n",
       "      <td>6.82192</td>\n",
       "      <td>16.015322</td>\n",
       "      <td>2.854597</td>\n",
       "      <td>13.632739</td>\n",
       "      <td>2.828423</td>\n",
       "      <td>9.086448</td>\n",
       "    </tr>\n",
       "    <tr>\n",
       "      <th>std</th>\n",
       "      <td>0.545260</td>\n",
       "      <td>1.801777</td>\n",
       "      <td>3.36226</td>\n",
       "      <td>8.865113</td>\n",
       "      <td>1.984647</td>\n",
       "      <td>6.723912</td>\n",
       "      <td>1.673641</td>\n",
       "      <td>3.862225</td>\n",
       "    </tr>\n",
       "    <tr>\n",
       "      <th>min</th>\n",
       "      <td>1.000000</td>\n",
       "      <td>2009.000000</td>\n",
       "      <td>1.00000</td>\n",
       "      <td>1.000000</td>\n",
       "      <td>0.000000</td>\n",
       "      <td>0.000000</td>\n",
       "      <td>1.000068</td>\n",
       "      <td>3.940000</td>\n",
       "    </tr>\n",
       "    <tr>\n",
       "      <th>25%</th>\n",
       "      <td>1.000000</td>\n",
       "      <td>2010.000000</td>\n",
       "      <td>4.00000</td>\n",
       "      <td>9.000000</td>\n",
       "      <td>1.000000</td>\n",
       "      <td>8.000000</td>\n",
       "      <td>1.581117</td>\n",
       "      <td>6.260000</td>\n",
       "    </tr>\n",
       "    <tr>\n",
       "      <th>50%</th>\n",
       "      <td>1.000000</td>\n",
       "      <td>2012.000000</td>\n",
       "      <td>7.00000</td>\n",
       "      <td>16.000000</td>\n",
       "      <td>3.000000</td>\n",
       "      <td>15.000000</td>\n",
       "      <td>2.330298</td>\n",
       "      <td>7.550000</td>\n",
       "    </tr>\n",
       "    <tr>\n",
       "      <th>75%</th>\n",
       "      <td>1.000000</td>\n",
       "      <td>2013.000000</td>\n",
       "      <td>10.00000</td>\n",
       "      <td>24.000000</td>\n",
       "      <td>5.000000</td>\n",
       "      <td>19.000000</td>\n",
       "      <td>3.595257</td>\n",
       "      <td>11.000000</td>\n",
       "    </tr>\n",
       "    <tr>\n",
       "      <th>max</th>\n",
       "      <td>3.000000</td>\n",
       "      <td>2015.000000</td>\n",
       "      <td>12.00000</td>\n",
       "      <td>31.000000</td>\n",
       "      <td>6.000000</td>\n",
       "      <td>23.000000</td>\n",
       "      <td>12.150068</td>\n",
       "      <td>20.490000</td>\n",
       "    </tr>\n",
       "  </tbody>\n",
       "</table>\n",
       "</div>"
      ],
      "text/plain": [
       "       passenger_count         year       month          day      weekday  \\\n",
       "count      6396.000000  6396.000000  6396.00000  6396.000000  6396.000000   \n",
       "mean          1.267511  2011.811914     6.82192    16.015322     2.854597   \n",
       "std           0.545260     1.801777     3.36226     8.865113     1.984647   \n",
       "min           1.000000  2009.000000     1.00000     1.000000     0.000000   \n",
       "25%           1.000000  2010.000000     4.00000     9.000000     1.000000   \n",
       "50%           1.000000  2012.000000     7.00000    16.000000     3.000000   \n",
       "75%           1.000000  2013.000000    10.00000    24.000000     5.000000   \n",
       "max           3.000000  2015.000000    12.00000    31.000000     6.000000   \n",
       "\n",
       "              hour  distance_km  predicted_fare  \n",
       "count  6396.000000  6396.000000     6396.000000  \n",
       "mean     13.632739     2.828423        9.086448  \n",
       "std       6.723912     1.673641        3.862225  \n",
       "min       0.000000     1.000068        3.940000  \n",
       "25%       8.000000     1.581117        6.260000  \n",
       "50%      15.000000     2.330298        7.550000  \n",
       "75%      19.000000     3.595257       11.000000  \n",
       "max      23.000000    12.150068       20.490000  "
      ]
     },
     "execution_count": 84,
     "metadata": {},
     "output_type": "execute_result"
    }
   ],
   "source": [
    "test_df = test_df[test_df['distance_km']>=1]\n",
    "test_df.describe()"
   ]
  },
  {
   "cell_type": "code",
   "execution_count": 85,
   "metadata": {},
   "outputs": [
    {
     "data": {
      "image/png": "[encoded data removed]",
      "text/plain": [
       "<Figure size 432x288 with 1 Axes>"
      ]
     },
     "metadata": {
      "needs_background": "light"
     },
     "output_type": "display_data"
    }
   ],
   "source": [
    "plt.scatter(test_df['distance_km'], test_df['predicted_fare'], color='red')\n",
    "\n",
    "plt.title('distance vs fare_amount', fontsize=14)\n",
    "\n",
    "plt.xlabel('distance', fontsize=14)\n",
    "\n",
    "plt.ylabel('fare', fontsize=14)\n",
    "\n",
    "plt.grid(True)\n",
    "\n",
    "plt.show()"
   ]
  },
  {
   "cell_type": "code",
   "execution_count": 86,
   "metadata": {},
   "outputs": [
    {
     "data": {
      "image/png": "[encoded data removed]",
      "text/plain": [
       "<Figure size 432x288 with 1 Axes>"
      ]
     },
     "metadata": {
      "needs_background": "light"
     },
     "output_type": "display_data"
    }
   ],
   "source": [
    "plt.scatter(test_df['hour'],test_df['predicted_fare'], color='red')\n",
    "\n",
    "plt.title('hour vs fare_amount', fontsize=14)\n",
    "\n",
    "plt.xlabel('hour', fontsize=14)\n",
    "\n",
    "plt.ylabel('fare', fontsize=14)\n",
    "\n",
    "plt.grid(True)\n",
    "\n",
    "plt.show()"
   ]
  },
  {
   "cell_type": "code",
   "execution_count": 87,
   "metadata": {},
   "outputs": [
    {
     "data": {
      "image/png": "[encoded data removed]",
      "text/plain": [
       "<Figure size 936x1080 with 6 Axes>"
      ]
     },
     "metadata": {
      "needs_background": "light"
     },
     "output_type": "display_data"
    }
   ],
   "source": [
    "import itertools\n",
    "yrs = [i for i in test_df[\"year\"].unique().tolist() if i not in [2015]]\n",
    "\n",
    "#subset data without year 2015\n",
    "complete_dat = test_df[test_df[\"year\"].isin(yrs)]\n",
    "\n",
    "\n",
    "plt.figure(figsize = (13,15))\n",
    "for i,j in itertools.zip_longest(yrs,range(len(yrs))) :\n",
    "    plt.subplot(3,2,j+1)\n",
    "    trip_counts_mn = complete_dat[complete_dat[\"year\"] == i][\"month\"].value_counts()\n",
    "    trip_counts_mn = trip_counts_mn.reset_index()\n",
    "    sns.barplot(trip_counts_mn[\"index\"],trip_counts_mn[\"month\"],\n",
    "                palette = \"rainbow\",linewidth = 1,\n",
    "                edgecolor = \"k\"*complete_dat[\"month\"].nunique() \n",
    "               )\n",
    "    plt.title(i,color = \"b\",fontsize = 12)\n",
    "    plt.grid(True)\n",
    "    plt.xlabel(\"\")\n",
    "    plt.ylabel(\"trips\")"
   ]
  },
  {
   "cell_type": "code",
   "execution_count": 88,
   "metadata": {},
   "outputs": [
    {
     "data": {
      "image/png": "[encoded data removed]",
      "text/plain": [
       "<Figure size 720x360 with 1 Axes>"
      ]
     },
     "metadata": {
      "needs_background": "light"
     },
     "output_type": "display_data"
    }
   ],
   "source": [
    "fare_mn = test_df.groupby(\"month\")[\"predicted_fare\"].mean().reset_index()\n",
    "\n",
    "\n",
    "plt.figure(figsize = (10,5))\n",
    "sns.barplot(\"month\",\"predicted_fare\",\n",
    "            data = fare_mn,\n",
    "            linewidth =1)\n",
    "plt.grid(True)\n",
    "plt.title(\"Average fare amount by Month\")\n",
    "plt.show()"
   ]
  },
  {
   "cell_type": "code",
   "execution_count": 89,
   "metadata": {},
   "outputs": [],
   "source": [
    "import pickle"
   ]
  },
  {
   "cell_type": "code",
   "execution_count": 90,
   "metadata": {},
   "outputs": [],
   "source": [
    "pickle.dump(model, open(\"predict_fare.pkl\",\"wb\"))"
   ]
  },
  {
   "cell_type": "code",
   "execution_count": null,
   "metadata": {},
   "outputs": [],
   "source": []
  }
 ],
 "metadata": {
  "kernelspec": {
   "display_name": "Python 3",
   "language": "python",
   "name": "python3"
  },
  "language_info": {
   "codemirror_mode": {
    "name": "ipython",
    "version": 3
   },
   "file_extension": ".py",
   "mimetype": "text/x-python",
   "name": "python",
   "nbconvert_exporter": "python",
   "pygments_lexer": "ipython3",
   "version": "3.7.3"
  }
 },
 "nbformat": 4,
 "nbformat_minor": 2
}
