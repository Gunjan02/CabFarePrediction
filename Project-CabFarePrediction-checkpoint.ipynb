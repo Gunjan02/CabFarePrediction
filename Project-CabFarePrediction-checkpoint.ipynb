{
 "cells": [
  {
   "cell_type": "code",
   "execution_count": 1,
   "metadata": {},
   "outputs": [
    {
     "data": {
      "text/plain": [
       "'Problem statement :  Design a system that predicts the fare amount for a cab ride in the city.\\nAccording to CRISP DM Process this problem statement lies in the category of forecasting which deals with\\npredicting continuous value for future(in our case the continuous value is the fare amount of the cab ride.)'"
      ]
     },
     "execution_count": 1,
     "metadata": {},
     "output_type": "execute_result"
    }
   ],
   "source": [
    "'''Problem statement :  Design a system that predicts the fare amount for a cab ride in the city.\n",
    "According to CRISP DM Process this problem statement lies in the category of forecasting which deals with\n",
    "predicting continuous value for future(in our case the continuous value is the fare amount of the cab ride.)'''"
   ]
  },
  {
   "cell_type": "code",
   "execution_count": 2,
   "metadata": {},
   "outputs": [
    {
     "name": "stderr",
     "output_type": "stream",
     "text": [
      "Using TensorFlow backend.\n"
     ]
    }
   ],
   "source": [
    "import pandas as pd\n",
    "import numpy as np\n",
    "import matplotlib.pyplot as plt\n",
    "import seaborn as sns\n",
    "from fancyimpute import KNN\n",
    "import datetime\n",
    "import itertools\n",
    "from sklearn.model_selection import train_test_split\n",
    "from IPython import get_ipython"
   ]
  },
  {
   "cell_type": "code",
   "execution_count": 3,
   "metadata": {},
   "outputs": [
    {
     "data": {
      "text/html": [
       "<div>\n",
       "<style scoped>\n",
       "    .dataframe tbody tr th:only-of-type {\n",
       "        vertical-align: middle;\n",
       "    }\n",
       "\n",
       "    .dataframe tbody tr th {\n",
       "        vertical-align: top;\n",
       "    }\n",
       "\n",
       "    .dataframe thead th {\n",
       "        text-align: right;\n",
       "    }\n",
       "</style>\n",
       "<table border=\"1\" class=\"dataframe\">\n",
       "  <thead>\n",
       "    <tr style=\"text-align: right;\">\n",
       "      <th></th>\n",
       "      <th>fare_amount</th>\n",
       "      <th>pickup_datetime</th>\n",
       "      <th>pickup_longitude</th>\n",
       "      <th>pickup_latitude</th>\n",
       "      <th>dropoff_longitude</th>\n",
       "      <th>dropoff_latitude</th>\n",
       "      <th>passenger_count</th>\n",
       "    </tr>\n",
       "  </thead>\n",
       "  <tbody>\n",
       "    <tr>\n",
       "      <th>0</th>\n",
       "      <td>4.5</td>\n",
       "      <td>2009-06-15 17:26:21 UTC</td>\n",
       "      <td>-73.844311</td>\n",
       "      <td>40.721319</td>\n",
       "      <td>-73.841610</td>\n",
       "      <td>40.712278</td>\n",
       "      <td>1.0</td>\n",
       "    </tr>\n",
       "    <tr>\n",
       "      <th>1</th>\n",
       "      <td>16.9</td>\n",
       "      <td>2010-01-05 16:52:16 UTC</td>\n",
       "      <td>-74.016048</td>\n",
       "      <td>40.711303</td>\n",
       "      <td>-73.979268</td>\n",
       "      <td>40.782004</td>\n",
       "      <td>1.0</td>\n",
       "    </tr>\n",
       "    <tr>\n",
       "      <th>2</th>\n",
       "      <td>5.7</td>\n",
       "      <td>2011-08-18 00:35:00 UTC</td>\n",
       "      <td>-73.982738</td>\n",
       "      <td>40.761270</td>\n",
       "      <td>-73.991242</td>\n",
       "      <td>40.750562</td>\n",
       "      <td>2.0</td>\n",
       "    </tr>\n",
       "    <tr>\n",
       "      <th>3</th>\n",
       "      <td>7.7</td>\n",
       "      <td>2012-04-21 04:30:42 UTC</td>\n",
       "      <td>-73.987130</td>\n",
       "      <td>40.733143</td>\n",
       "      <td>-73.991567</td>\n",
       "      <td>40.758092</td>\n",
       "      <td>1.0</td>\n",
       "    </tr>\n",
       "    <tr>\n",
       "      <th>4</th>\n",
       "      <td>5.3</td>\n",
       "      <td>2010-03-09 07:51:00 UTC</td>\n",
       "      <td>-73.968095</td>\n",
       "      <td>40.768008</td>\n",
       "      <td>-73.956655</td>\n",
       "      <td>40.783762</td>\n",
       "      <td>1.0</td>\n",
       "    </tr>\n",
       "  </tbody>\n",
       "</table>\n",
       "</div>"
      ],
      "text/plain": [
       "  fare_amount          pickup_datetime  pickup_longitude  pickup_latitude  \\\n",
       "0         4.5  2009-06-15 17:26:21 UTC        -73.844311        40.721319   \n",
       "1        16.9  2010-01-05 16:52:16 UTC        -74.016048        40.711303   \n",
       "2         5.7  2011-08-18 00:35:00 UTC        -73.982738        40.761270   \n",
       "3         7.7  2012-04-21 04:30:42 UTC        -73.987130        40.733143   \n",
       "4         5.3  2010-03-09 07:51:00 UTC        -73.968095        40.768008   \n",
       "\n",
       "   dropoff_longitude  dropoff_latitude  passenger_count  \n",
       "0         -73.841610         40.712278              1.0  \n",
       "1         -73.979268         40.782004              1.0  \n",
       "2         -73.991242         40.750562              2.0  \n",
       "3         -73.991567         40.758092              1.0  \n",
       "4         -73.956655         40.783762              1.0  "
      ]
     },
     "execution_count": 3,
     "metadata": {},
     "output_type": "execute_result"
    }
   ],
   "source": [
    "cab_df=pd.read_csv(\"train_cab.csv\")\n",
    "cab_df.head()"
   ]
  },
  {
   "cell_type": "code",
   "execution_count": 4,
   "metadata": {},
   "outputs": [
    {
     "name": "stdout",
     "output_type": "stream",
     "text": [
      "<class 'pandas.core.frame.DataFrame'>\n",
      "RangeIndex: 16067 entries, 0 to 16066\n",
      "Data columns (total 7 columns):\n",
      "fare_amount          16043 non-null object\n",
      "pickup_datetime      16067 non-null object\n",
      "pickup_longitude     16067 non-null float64\n",
      "pickup_latitude      16067 non-null float64\n",
      "dropoff_longitude    16067 non-null float64\n",
      "dropoff_latitude     16067 non-null float64\n",
      "passenger_count      16012 non-null float64\n",
      "dtypes: float64(5), object(2)\n",
      "memory usage: 878.7+ KB\n"
     ]
    }
   ],
   "source": [
    "cab_df.info()"
   ]
  },
  {
   "cell_type": "code",
   "execution_count": 5,
   "metadata": {},
   "outputs": [
    {
     "data": {
      "text/plain": [
       "'Data Type conversion : So that pickup_datetime and fare_amount get converted to proper datatypes.'"
      ]
     },
     "execution_count": 5,
     "metadata": {},
     "output_type": "execute_result"
    }
   ],
   "source": [
    "'''Data Type conversion : So that pickup_datetime and fare_amount get converted to proper datatypes.'''"
   ]
  },
  {
   "cell_type": "code",
   "execution_count": 6,
   "metadata": {},
   "outputs": [],
   "source": [
    "cab_df['fare_amount']=pd.to_numeric(cab_df['fare_amount'],errors='coerce')"
   ]
  },
  {
   "cell_type": "code",
   "execution_count": 7,
   "metadata": {},
   "outputs": [],
   "source": [
    "cab_df['pickup_datetime']=pd.to_datetime(cab_df['pickup_datetime'],errors='coerce')"
   ]
  },
  {
   "cell_type": "code",
   "execution_count": 8,
   "metadata": {},
   "outputs": [
    {
     "data": {
      "text/plain": [
       "fare_amount                      float64\n",
       "pickup_datetime      datetime64[ns, UTC]\n",
       "pickup_longitude                 float64\n",
       "pickup_latitude                  float64\n",
       "dropoff_longitude                float64\n",
       "dropoff_latitude                 float64\n",
       "passenger_count                  float64\n",
       "dtype: object"
      ]
     },
     "execution_count": 8,
     "metadata": {},
     "output_type": "execute_result"
    }
   ],
   "source": [
    "cab_df.dtypes"
   ]
  },
  {
   "cell_type": "code",
   "execution_count": 9,
   "metadata": {},
   "outputs": [
    {
     "data": {
      "text/html": [
       "<div>\n",
       "<style scoped>\n",
       "    .dataframe tbody tr th:only-of-type {\n",
       "        vertical-align: middle;\n",
       "    }\n",
       "\n",
       "    .dataframe tbody tr th {\n",
       "        vertical-align: top;\n",
       "    }\n",
       "\n",
       "    .dataframe thead th {\n",
       "        text-align: right;\n",
       "    }\n",
       "</style>\n",
       "<table border=\"1\" class=\"dataframe\">\n",
       "  <thead>\n",
       "    <tr style=\"text-align: right;\">\n",
       "      <th></th>\n",
       "      <th>fare_amount</th>\n",
       "      <th>pickup_datetime</th>\n",
       "      <th>pickup_longitude</th>\n",
       "      <th>pickup_latitude</th>\n",
       "      <th>dropoff_longitude</th>\n",
       "      <th>dropoff_latitude</th>\n",
       "      <th>passenger_count</th>\n",
       "    </tr>\n",
       "  </thead>\n",
       "  <tbody>\n",
       "    <tr>\n",
       "      <th>1327</th>\n",
       "      <td>11.5</td>\n",
       "      <td>NaT</td>\n",
       "      <td>-73.981947</td>\n",
       "      <td>40.7282</td>\n",
       "      <td>-73.988582</td>\n",
       "      <td>40.759202</td>\n",
       "      <td>1.0</td>\n",
       "    </tr>\n",
       "  </tbody>\n",
       "</table>\n",
       "</div>"
      ],
      "text/plain": [
       "      fare_amount pickup_datetime  pickup_longitude  pickup_latitude  \\\n",
       "1327         11.5             NaT        -73.981947          40.7282   \n",
       "\n",
       "      dropoff_longitude  dropoff_latitude  passenger_count  \n",
       "1327         -73.988582         40.759202              1.0  "
      ]
     },
     "execution_count": 9,
     "metadata": {},
     "output_type": "execute_result"
    }
   ],
   "source": [
    "cab_df[(cab_df['pickup_datetime'].isna()==True)]"
   ]
  },
  {
   "cell_type": "code",
   "execution_count": 10,
   "metadata": {},
   "outputs": [],
   "source": [
    "#As there is only 1 inappropriate format of datetime so deleting it\n",
    "cab_df = cab_df[cab_df.pickup_datetime.notnull()] "
   ]
  },
  {
   "cell_type": "code",
   "execution_count": 11,
   "metadata": {},
   "outputs": [
    {
     "data": {
      "text/html": [
       "<div>\n",
       "<style scoped>\n",
       "    .dataframe tbody tr th:only-of-type {\n",
       "        vertical-align: middle;\n",
       "    }\n",
       "\n",
       "    .dataframe tbody tr th {\n",
       "        vertical-align: top;\n",
       "    }\n",
       "\n",
       "    .dataframe thead th {\n",
       "        text-align: right;\n",
       "    }\n",
       "</style>\n",
       "<table border=\"1\" class=\"dataframe\">\n",
       "  <thead>\n",
       "    <tr style=\"text-align: right;\">\n",
       "      <th></th>\n",
       "      <th>index</th>\n",
       "      <th>0</th>\n",
       "    </tr>\n",
       "  </thead>\n",
       "  <tbody>\n",
       "    <tr>\n",
       "      <th>0</th>\n",
       "      <td>fare_amount</td>\n",
       "      <td>25</td>\n",
       "    </tr>\n",
       "    <tr>\n",
       "      <th>1</th>\n",
       "      <td>pickup_datetime</td>\n",
       "      <td>0</td>\n",
       "    </tr>\n",
       "    <tr>\n",
       "      <th>2</th>\n",
       "      <td>pickup_longitude</td>\n",
       "      <td>0</td>\n",
       "    </tr>\n",
       "    <tr>\n",
       "      <th>3</th>\n",
       "      <td>pickup_latitude</td>\n",
       "      <td>0</td>\n",
       "    </tr>\n",
       "    <tr>\n",
       "      <th>4</th>\n",
       "      <td>dropoff_longitude</td>\n",
       "      <td>0</td>\n",
       "    </tr>\n",
       "    <tr>\n",
       "      <th>5</th>\n",
       "      <td>dropoff_latitude</td>\n",
       "      <td>0</td>\n",
       "    </tr>\n",
       "    <tr>\n",
       "      <th>6</th>\n",
       "      <td>passenger_count</td>\n",
       "      <td>55</td>\n",
       "    </tr>\n",
       "  </tbody>\n",
       "</table>\n",
       "</div>"
      ],
      "text/plain": [
       "               index   0\n",
       "0        fare_amount  25\n",
       "1    pickup_datetime   0\n",
       "2   pickup_longitude   0\n",
       "3    pickup_latitude   0\n",
       "4  dropoff_longitude   0\n",
       "5   dropoff_latitude   0\n",
       "6    passenger_count  55"
      ]
     },
     "execution_count": 11,
     "metadata": {},
     "output_type": "execute_result"
    }
   ],
   "source": [
    "missing_val=pd.DataFrame(cab_df.isnull().sum())\n",
    "missing_val=missing_val.reset_index()\n",
    "missing_val"
   ]
  },
  {
   "cell_type": "code",
   "execution_count": 12,
   "metadata": {},
   "outputs": [
    {
     "data": {
      "text/html": [
       "<div>\n",
       "<style scoped>\n",
       "    .dataframe tbody tr th:only-of-type {\n",
       "        vertical-align: middle;\n",
       "    }\n",
       "\n",
       "    .dataframe tbody tr th {\n",
       "        vertical-align: top;\n",
       "    }\n",
       "\n",
       "    .dataframe thead th {\n",
       "        text-align: right;\n",
       "    }\n",
       "</style>\n",
       "<table border=\"1\" class=\"dataframe\">\n",
       "  <thead>\n",
       "    <tr style=\"text-align: right;\">\n",
       "      <th></th>\n",
       "      <th>variables</th>\n",
       "      <th>missing_percentage</th>\n",
       "    </tr>\n",
       "  </thead>\n",
       "  <tbody>\n",
       "    <tr>\n",
       "      <th>0</th>\n",
       "      <td>passenger_count</td>\n",
       "      <td>0.342338</td>\n",
       "    </tr>\n",
       "    <tr>\n",
       "      <th>1</th>\n",
       "      <td>fare_amount</td>\n",
       "      <td>0.155608</td>\n",
       "    </tr>\n",
       "    <tr>\n",
       "      <th>2</th>\n",
       "      <td>pickup_datetime</td>\n",
       "      <td>0.000000</td>\n",
       "    </tr>\n",
       "    <tr>\n",
       "      <th>3</th>\n",
       "      <td>pickup_longitude</td>\n",
       "      <td>0.000000</td>\n",
       "    </tr>\n",
       "    <tr>\n",
       "      <th>4</th>\n",
       "      <td>pickup_latitude</td>\n",
       "      <td>0.000000</td>\n",
       "    </tr>\n",
       "    <tr>\n",
       "      <th>5</th>\n",
       "      <td>dropoff_longitude</td>\n",
       "      <td>0.000000</td>\n",
       "    </tr>\n",
       "    <tr>\n",
       "      <th>6</th>\n",
       "      <td>dropoff_latitude</td>\n",
       "      <td>0.000000</td>\n",
       "    </tr>\n",
       "  </tbody>\n",
       "</table>\n",
       "</div>"
      ],
      "text/plain": [
       "           variables  missing_percentage\n",
       "0    passenger_count            0.342338\n",
       "1        fare_amount            0.155608\n",
       "2    pickup_datetime            0.000000\n",
       "3   pickup_longitude            0.000000\n",
       "4    pickup_latitude            0.000000\n",
       "5  dropoff_longitude            0.000000\n",
       "6   dropoff_latitude            0.000000"
      ]
     },
     "execution_count": 12,
     "metadata": {},
     "output_type": "execute_result"
    }
   ],
   "source": [
    "missing_val=missing_val.rename(columns={'index':'variables',0:'missing_percentage'})\n",
    "missing_val['missing_percentage']=(missing_val['missing_percentage']/len(cab_df))*100\n",
    "missing_val=missing_val.sort_values(by='missing_percentage',ascending=False).reset_index(drop=True)\n",
    "missing_val"
   ]
  },
  {
   "cell_type": "code",
   "execution_count": 13,
   "metadata": {},
   "outputs": [],
   "source": [
    "#Converting pickup_datetime back to numeric as for knn imputation all variables must be of numeric type\n",
    "cab_df['pickup_datetime']=pd.to_numeric(cab_df['pickup_datetime'])"
   ]
  },
  {
   "cell_type": "code",
   "execution_count": 14,
   "metadata": {},
   "outputs": [
    {
     "name": "stderr",
     "output_type": "stream",
     "text": [
      "C:\\Users\\admin\\Anaconda3.7\\lib\\site-packages\\pandas\\core\\indexing.py:190: SettingWithCopyWarning: \n",
      "A value is trying to be set on a copy of a slice from a DataFrame\n",
      "\n",
      "See the caveats in the documentation: http://pandas.pydata.org/pandas-docs/stable/indexing.html#indexing-view-versus-copy\n",
      "  self._setitem_with_indexer(indexer, value)\n"
     ]
    }
   ],
   "source": [
    "'''Both passenger_count and fare_amount have missing values< 30% so they need to be imputed.\n",
    "Actual Value of 70th fare_amount: 6.9\n",
    "mean value: 15.01\n",
    "median value: 8.5\n",
    "KNN: 17.15\n",
    "Freeze median for fare_amount''' \n",
    "cab_df['fare_amount'].loc[70]=np.nan"
   ]
  },
  {
   "cell_type": "code",
   "execution_count": 15,
   "metadata": {},
   "outputs": [
    {
     "data": {
      "text/html": [
       "<div>\n",
       "<style scoped>\n",
       "    .dataframe tbody tr th:only-of-type {\n",
       "        vertical-align: middle;\n",
       "    }\n",
       "\n",
       "    .dataframe tbody tr th {\n",
       "        vertical-align: top;\n",
       "    }\n",
       "\n",
       "    .dataframe thead th {\n",
       "        text-align: right;\n",
       "    }\n",
       "</style>\n",
       "<table border=\"1\" class=\"dataframe\">\n",
       "  <thead>\n",
       "    <tr style=\"text-align: right;\">\n",
       "      <th></th>\n",
       "      <th>fare_amount</th>\n",
       "      <th>pickup_datetime</th>\n",
       "      <th>pickup_longitude</th>\n",
       "      <th>pickup_latitude</th>\n",
       "      <th>dropoff_longitude</th>\n",
       "      <th>dropoff_latitude</th>\n",
       "      <th>passenger_count</th>\n",
       "    </tr>\n",
       "  </thead>\n",
       "  <tbody>\n",
       "    <tr>\n",
       "      <th>65</th>\n",
       "      <td>7.5</td>\n",
       "      <td>1349632748000000000</td>\n",
       "      <td>-74.004736</td>\n",
       "      <td>40.715882</td>\n",
       "      <td>-74.017723</td>\n",
       "      <td>40.705141</td>\n",
       "      <td>1.0</td>\n",
       "    </tr>\n",
       "    <tr>\n",
       "      <th>66</th>\n",
       "      <td>8.5</td>\n",
       "      <td>1389949380000000000</td>\n",
       "      <td>-73.991467</td>\n",
       "      <td>40.750575</td>\n",
       "      <td>-73.985750</td>\n",
       "      <td>40.741547</td>\n",
       "      <td>4.0</td>\n",
       "    </tr>\n",
       "    <tr>\n",
       "      <th>67</th>\n",
       "      <td>16.5</td>\n",
       "      <td>1398796080000000000</td>\n",
       "      <td>-73.970323</td>\n",
       "      <td>40.750840</td>\n",
       "      <td>-73.998392</td>\n",
       "      <td>40.724862</td>\n",
       "      <td>6.0</td>\n",
       "    </tr>\n",
       "    <tr>\n",
       "      <th>68</th>\n",
       "      <td>11.5</td>\n",
       "      <td>1428833945000000000</td>\n",
       "      <td>-73.979279</td>\n",
       "      <td>40.723438</td>\n",
       "      <td>-74.004608</td>\n",
       "      <td>40.746948</td>\n",
       "      <td>6.0</td>\n",
       "    </tr>\n",
       "    <tr>\n",
       "      <th>69</th>\n",
       "      <td>NaN</td>\n",
       "      <td>1431474702000000000</td>\n",
       "      <td>-73.954796</td>\n",
       "      <td>40.779335</td>\n",
       "      <td>-73.944931</td>\n",
       "      <td>40.780087</td>\n",
       "      <td>1.0</td>\n",
       "    </tr>\n",
       "    <tr>\n",
       "      <th>70</th>\n",
       "      <td>NaN</td>\n",
       "      <td>1249180451000000000</td>\n",
       "      <td>-73.995781</td>\n",
       "      <td>40.723411</td>\n",
       "      <td>-74.005004</td>\n",
       "      <td>40.718950</td>\n",
       "      <td>2.0</td>\n",
       "    </tr>\n",
       "    <tr>\n",
       "      <th>71</th>\n",
       "      <td>3.7</td>\n",
       "      <td>1264935180000000000</td>\n",
       "      <td>-74.001630</td>\n",
       "      <td>40.730767</td>\n",
       "      <td>-73.997112</td>\n",
       "      <td>40.737533</td>\n",
       "      <td>1.0</td>\n",
       "    </tr>\n",
       "    <tr>\n",
       "      <th>72</th>\n",
       "      <td>6.9</td>\n",
       "      <td>1273824540000000000</td>\n",
       "      <td>-73.955118</td>\n",
       "      <td>40.768942</td>\n",
       "      <td>-73.963495</td>\n",
       "      <td>40.761887</td>\n",
       "      <td>2.0</td>\n",
       "    </tr>\n",
       "    <tr>\n",
       "      <th>73</th>\n",
       "      <td>10.1</td>\n",
       "      <td>1337613600000000000</td>\n",
       "      <td>-73.977788</td>\n",
       "      <td>40.771838</td>\n",
       "      <td>-73.966200</td>\n",
       "      <td>40.778113</td>\n",
       "      <td>2.0</td>\n",
       "    </tr>\n",
       "    <tr>\n",
       "      <th>74</th>\n",
       "      <td>16.5</td>\n",
       "      <td>1418054401000000000</td>\n",
       "      <td>-73.982800</td>\n",
       "      <td>40.745287</td>\n",
       "      <td>-74.014250</td>\n",
       "      <td>40.702935</td>\n",
       "      <td>1.0</td>\n",
       "    </tr>\n",
       "  </tbody>\n",
       "</table>\n",
       "</div>"
      ],
      "text/plain": [
       "    fare_amount      pickup_datetime  pickup_longitude  pickup_latitude  \\\n",
       "65          7.5  1349632748000000000        -74.004736        40.715882   \n",
       "66          8.5  1389949380000000000        -73.991467        40.750575   \n",
       "67         16.5  1398796080000000000        -73.970323        40.750840   \n",
       "68         11.5  1428833945000000000        -73.979279        40.723438   \n",
       "69          NaN  1431474702000000000        -73.954796        40.779335   \n",
       "70          NaN  1249180451000000000        -73.995781        40.723411   \n",
       "71          3.7  1264935180000000000        -74.001630        40.730767   \n",
       "72          6.9  1273824540000000000        -73.955118        40.768942   \n",
       "73         10.1  1337613600000000000        -73.977788        40.771838   \n",
       "74         16.5  1418054401000000000        -73.982800        40.745287   \n",
       "\n",
       "    dropoff_longitude  dropoff_latitude  passenger_count  \n",
       "65         -74.017723         40.705141              1.0  \n",
       "66         -73.985750         40.741547              4.0  \n",
       "67         -73.998392         40.724862              6.0  \n",
       "68         -74.004608         40.746948              6.0  \n",
       "69         -73.944931         40.780087              1.0  \n",
       "70         -74.005004         40.718950              2.0  \n",
       "71         -73.997112         40.737533              1.0  \n",
       "72         -73.963495         40.761887              2.0  \n",
       "73         -73.966200         40.778113              2.0  \n",
       "74         -74.014250         40.702935              1.0  "
      ]
     },
     "execution_count": 15,
     "metadata": {},
     "output_type": "execute_result"
    }
   ],
   "source": [
    "cab_df.iloc[65:75,:]"
   ]
  },
  {
   "cell_type": "code",
   "execution_count": 16,
   "metadata": {},
   "outputs": [],
   "source": [
    "#cab_df['fare_amount']= cab_df['fare_amount'].fillna(cab_df['fare_amount'].mean())\n",
    "#cab_df['fare_amount'].loc[70]"
   ]
  },
  {
   "cell_type": "code",
   "execution_count": 17,
   "metadata": {},
   "outputs": [],
   "source": [
    "#cab_df['fare_amount']= cab_df['fare_amount'].fillna(cab_df['fare_amount'].median())\n",
    "#cab_df['fare_amount'].loc[70]"
   ]
  },
  {
   "cell_type": "code",
   "execution_count": 18,
   "metadata": {},
   "outputs": [],
   "source": [
    "#cab_df=pd.DataFrame(KNN(k=3).fit_transform(cab_df),columns=cab_df.columns)\n",
    "#cab_df['fare_amount'].loc[70]"
   ]
  },
  {
   "cell_type": "code",
   "execution_count": 19,
   "metadata": {},
   "outputs": [],
   "source": [
    "'''As median gives the closest value so we fill all missing values with median'''\n",
    "cab_df['fare_amount']= cab_df['fare_amount'].fillna(cab_df['fare_amount'].median())"
   ]
  },
  {
   "cell_type": "code",
   "execution_count": 20,
   "metadata": {},
   "outputs": [
    {
     "data": {
      "text/plain": [
       "fare_amount           0\n",
       "pickup_datetime       0\n",
       "pickup_longitude      0\n",
       "pickup_latitude       0\n",
       "dropoff_longitude     0\n",
       "dropoff_latitude      0\n",
       "passenger_count      55\n",
       "dtype: int64"
      ]
     },
     "execution_count": 20,
     "metadata": {},
     "output_type": "execute_result"
    }
   ],
   "source": [
    "cab_df.isnull().sum()"
   ]
  },
  {
   "cell_type": "code",
   "execution_count": 21,
   "metadata": {},
   "outputs": [],
   "source": [
    "'''actual passenger_count at position 70: 2.0\n",
    "mean: 2.62\n",
    "median: 1.0\n",
    "knn: 0.99\n",
    "Freeze mean'''\n",
    "cab_df['passenger_count'].iloc[70]=np.nan"
   ]
  },
  {
   "cell_type": "code",
   "execution_count": 22,
   "metadata": {},
   "outputs": [],
   "source": [
    "#cab_df['passenger_count']=cab_df['passenger_count'].fillna(cab_df['passenger_count'].mean())"
   ]
  },
  {
   "cell_type": "code",
   "execution_count": 23,
   "metadata": {},
   "outputs": [],
   "source": [
    "#cab_df['passenger_count'].loc[70]"
   ]
  },
  {
   "cell_type": "code",
   "execution_count": 24,
   "metadata": {},
   "outputs": [],
   "source": [
    "#cab_df['passenger_count']=cab_df['passenger_count'].fillna(cab_df['passenger_count'].median())\n",
    "#cab_df['passenger_count'].loc[70]"
   ]
  },
  {
   "cell_type": "code",
   "execution_count": 25,
   "metadata": {},
   "outputs": [],
   "source": [
    "#cab_df=pd.DataFrame(KNN(k=3).fit_transform(cab_df),columns=cab_df.columns)\n",
    "#cab_df['passenger_count'].loc[70]"
   ]
  },
  {
   "cell_type": "code",
   "execution_count": 26,
   "metadata": {},
   "outputs": [],
   "source": [
    "cab_df['passenger_count']= cab_df['passenger_count'].fillna(cab_df['passenger_count'].mean())"
   ]
  },
  {
   "cell_type": "code",
   "execution_count": 27,
   "metadata": {},
   "outputs": [],
   "source": [
    "cab_df['passenger_count']=round(cab_df['passenger_count'])"
   ]
  },
  {
   "cell_type": "code",
   "execution_count": 28,
   "metadata": {},
   "outputs": [],
   "source": [
    "#Converting datetime back to its original datatype\n",
    "cab_df['pickup_datetime']=pd.to_datetime( pd.to_numeric( pd.to_datetime( cab_df['pickup_datetime'], origin = '1970-01-01' ) ), \n",
    "                                     origin = '1970-01-01')"
   ]
  },
  {
   "cell_type": "code",
   "execution_count": 29,
   "metadata": {},
   "outputs": [
    {
     "data": {
      "text/html": [
       "<div>\n",
       "<style scoped>\n",
       "    .dataframe tbody tr th:only-of-type {\n",
       "        vertical-align: middle;\n",
       "    }\n",
       "\n",
       "    .dataframe tbody tr th {\n",
       "        vertical-align: top;\n",
       "    }\n",
       "\n",
       "    .dataframe thead th {\n",
       "        text-align: right;\n",
       "    }\n",
       "</style>\n",
       "<table border=\"1\" class=\"dataframe\">\n",
       "  <thead>\n",
       "    <tr style=\"text-align: right;\">\n",
       "      <th></th>\n",
       "      <th>fare_amount</th>\n",
       "      <th>pickup_datetime</th>\n",
       "      <th>pickup_longitude</th>\n",
       "      <th>pickup_latitude</th>\n",
       "      <th>dropoff_longitude</th>\n",
       "      <th>dropoff_latitude</th>\n",
       "      <th>passenger_count</th>\n",
       "    </tr>\n",
       "  </thead>\n",
       "  <tbody>\n",
       "    <tr>\n",
       "      <th>0</th>\n",
       "      <td>4.5</td>\n",
       "      <td>2009-06-15 17:26:21</td>\n",
       "      <td>-73.844311</td>\n",
       "      <td>40.721319</td>\n",
       "      <td>-73.841610</td>\n",
       "      <td>40.712278</td>\n",
       "      <td>1.0</td>\n",
       "    </tr>\n",
       "    <tr>\n",
       "      <th>1</th>\n",
       "      <td>16.9</td>\n",
       "      <td>2010-01-05 16:52:16</td>\n",
       "      <td>-74.016048</td>\n",
       "      <td>40.711303</td>\n",
       "      <td>-73.979268</td>\n",
       "      <td>40.782004</td>\n",
       "      <td>1.0</td>\n",
       "    </tr>\n",
       "    <tr>\n",
       "      <th>2</th>\n",
       "      <td>5.7</td>\n",
       "      <td>2011-08-18 00:35:00</td>\n",
       "      <td>-73.982738</td>\n",
       "      <td>40.761270</td>\n",
       "      <td>-73.991242</td>\n",
       "      <td>40.750562</td>\n",
       "      <td>2.0</td>\n",
       "    </tr>\n",
       "    <tr>\n",
       "      <th>3</th>\n",
       "      <td>7.7</td>\n",
       "      <td>2012-04-21 04:30:42</td>\n",
       "      <td>-73.987130</td>\n",
       "      <td>40.733143</td>\n",
       "      <td>-73.991567</td>\n",
       "      <td>40.758092</td>\n",
       "      <td>1.0</td>\n",
       "    </tr>\n",
       "    <tr>\n",
       "      <th>4</th>\n",
       "      <td>5.3</td>\n",
       "      <td>2010-03-09 07:51:00</td>\n",
       "      <td>-73.968095</td>\n",
       "      <td>40.768008</td>\n",
       "      <td>-73.956655</td>\n",
       "      <td>40.783762</td>\n",
       "      <td>1.0</td>\n",
       "    </tr>\n",
       "  </tbody>\n",
       "</table>\n",
       "</div>"
      ],
      "text/plain": [
       "   fare_amount     pickup_datetime  pickup_longitude  pickup_latitude  \\\n",
       "0          4.5 2009-06-15 17:26:21        -73.844311        40.721319   \n",
       "1         16.9 2010-01-05 16:52:16        -74.016048        40.711303   \n",
       "2          5.7 2011-08-18 00:35:00        -73.982738        40.761270   \n",
       "3          7.7 2012-04-21 04:30:42        -73.987130        40.733143   \n",
       "4          5.3 2010-03-09 07:51:00        -73.968095        40.768008   \n",
       "\n",
       "   dropoff_longitude  dropoff_latitude  passenger_count  \n",
       "0         -73.841610         40.712278              1.0  \n",
       "1         -73.979268         40.782004              1.0  \n",
       "2         -73.991242         40.750562              2.0  \n",
       "3         -73.991567         40.758092              1.0  \n",
       "4         -73.956655         40.783762              1.0  "
      ]
     },
     "execution_count": 29,
     "metadata": {},
     "output_type": "execute_result"
    }
   ],
   "source": [
    "cab_df.head()"
   ]
  },
  {
   "cell_type": "code",
   "execution_count": 30,
   "metadata": {},
   "outputs": [
    {
     "data": {
      "text/plain": [
       "<matplotlib.axes._subplots.AxesSubplot at 0x27e43152668>"
      ]
     },
     "execution_count": 30,
     "metadata": {},
     "output_type": "execute_result"
    },
    {
     "data": {
      "image/png": "[encoded data removed]",
      "text/plain": [
       "<Figure size 432x288 with 1 Axes>"
      ]
     },
     "metadata": {
      "needs_background": "light"
     },
     "output_type": "display_data"
    }
   ],
   "source": [
    "sns.distplot(cab_df['pickup_longitude'],kde=True)"
   ]
  },
  {
   "cell_type": "code",
   "execution_count": 31,
   "metadata": {},
   "outputs": [
    {
     "data": {
      "text/plain": [
       "<matplotlib.axes._subplots.AxesSubplot at 0x27e43599da0>"
      ]
     },
     "execution_count": 31,
     "metadata": {},
     "output_type": "execute_result"
    },
    {
     "data": {
      "image/png": "[encoded data removed]",
      "text/plain": [
       "<Figure size 432x288 with 1 Axes>"
      ]
     },
     "metadata": {
      "needs_background": "light"
     },
     "output_type": "display_data"
    }
   ],
   "source": [
    "sns.distplot(cab_df['pickup_latitude'],kde=True)"
   ]
  },
  {
   "cell_type": "code",
   "execution_count": 32,
   "metadata": {},
   "outputs": [
    {
     "data": {
      "text/html": [
       "<div>\n",
       "<style scoped>\n",
       "    .dataframe tbody tr th:only-of-type {\n",
       "        vertical-align: middle;\n",
       "    }\n",
       "\n",
       "    .dataframe tbody tr th {\n",
       "        vertical-align: top;\n",
       "    }\n",
       "\n",
       "    .dataframe thead th {\n",
       "        text-align: right;\n",
       "    }\n",
       "</style>\n",
       "<table border=\"1\" class=\"dataframe\">\n",
       "  <thead>\n",
       "    <tr style=\"text-align: right;\">\n",
       "      <th></th>\n",
       "      <th>fare_amount</th>\n",
       "      <th>pickup_longitude</th>\n",
       "      <th>pickup_latitude</th>\n",
       "      <th>dropoff_longitude</th>\n",
       "      <th>dropoff_latitude</th>\n",
       "      <th>passenger_count</th>\n",
       "    </tr>\n",
       "  </thead>\n",
       "  <tbody>\n",
       "    <tr>\n",
       "      <th>count</th>\n",
       "      <td>16066.000000</td>\n",
       "      <td>16066.000000</td>\n",
       "      <td>16066.000000</td>\n",
       "      <td>16066.000000</td>\n",
       "      <td>16066.000000</td>\n",
       "      <td>16066.000000</td>\n",
       "    </tr>\n",
       "    <tr>\n",
       "      <th>mean</th>\n",
       "      <td>15.005185</td>\n",
       "      <td>-72.462693</td>\n",
       "      <td>39.914675</td>\n",
       "      <td>-72.462233</td>\n",
       "      <td>39.897852</td>\n",
       "      <td>2.626478</td>\n",
       "    </tr>\n",
       "    <tr>\n",
       "      <th>std</th>\n",
       "      <td>430.139359</td>\n",
       "      <td>10.578707</td>\n",
       "      <td>6.826797</td>\n",
       "      <td>10.575384</td>\n",
       "      <td>6.187276</td>\n",
       "      <td>60.741672</td>\n",
       "    </tr>\n",
       "    <tr>\n",
       "      <th>min</th>\n",
       "      <td>-3.000000</td>\n",
       "      <td>-74.438233</td>\n",
       "      <td>-74.006893</td>\n",
       "      <td>-74.429332</td>\n",
       "      <td>-74.006377</td>\n",
       "      <td>0.000000</td>\n",
       "    </tr>\n",
       "    <tr>\n",
       "      <th>25%</th>\n",
       "      <td>6.000000</td>\n",
       "      <td>-73.992156</td>\n",
       "      <td>40.734935</td>\n",
       "      <td>-73.991182</td>\n",
       "      <td>40.734647</td>\n",
       "      <td>1.000000</td>\n",
       "    </tr>\n",
       "    <tr>\n",
       "      <th>50%</th>\n",
       "      <td>8.500000</td>\n",
       "      <td>-73.981697</td>\n",
       "      <td>40.752605</td>\n",
       "      <td>-73.980170</td>\n",
       "      <td>40.753566</td>\n",
       "      <td>1.000000</td>\n",
       "    </tr>\n",
       "    <tr>\n",
       "      <th>75%</th>\n",
       "      <td>12.500000</td>\n",
       "      <td>-73.966837</td>\n",
       "      <td>40.767381</td>\n",
       "      <td>-73.963642</td>\n",
       "      <td>40.768015</td>\n",
       "      <td>2.000000</td>\n",
       "    </tr>\n",
       "    <tr>\n",
       "      <th>max</th>\n",
       "      <td>54343.000000</td>\n",
       "      <td>40.766125</td>\n",
       "      <td>401.083332</td>\n",
       "      <td>40.802437</td>\n",
       "      <td>41.366138</td>\n",
       "      <td>5345.000000</td>\n",
       "    </tr>\n",
       "  </tbody>\n",
       "</table>\n",
       "</div>"
      ],
      "text/plain": [
       "        fare_amount  pickup_longitude  pickup_latitude  dropoff_longitude  \\\n",
       "count  16066.000000      16066.000000     16066.000000       16066.000000   \n",
       "mean      15.005185        -72.462693        39.914675         -72.462233   \n",
       "std      430.139359         10.578707         6.826797          10.575384   \n",
       "min       -3.000000        -74.438233       -74.006893         -74.429332   \n",
       "25%        6.000000        -73.992156        40.734935         -73.991182   \n",
       "50%        8.500000        -73.981697        40.752605         -73.980170   \n",
       "75%       12.500000        -73.966837        40.767381         -73.963642   \n",
       "max    54343.000000         40.766125       401.083332          40.802437   \n",
       "\n",
       "       dropoff_latitude  passenger_count  \n",
       "count      16066.000000     16066.000000  \n",
       "mean          39.897852         2.626478  \n",
       "std            6.187276        60.741672  \n",
       "min          -74.006377         0.000000  \n",
       "25%           40.734647         1.000000  \n",
       "50%           40.753566         1.000000  \n",
       "75%           40.768015         2.000000  \n",
       "max           41.366138      5345.000000  "
      ]
     },
     "execution_count": 32,
     "metadata": {},
     "output_type": "execute_result"
    }
   ],
   "source": [
    "cab_df.describe()"
   ]
  },
  {
   "cell_type": "code",
   "execution_count": 33,
   "metadata": {},
   "outputs": [
    {
     "data": {
      "text/plain": [
       "\"There are few strange values in the data like :\\nminimum fare_amount is -3, fare can never be negative.\\npickup_latitude max value is out of range.\\nminimum passenger_count is 0 which can't be the case.\\nSo to clean these values we detect and remove the outliers from our data.\""
      ]
     },
     "execution_count": 33,
     "metadata": {},
     "output_type": "execute_result"
    }
   ],
   "source": [
    "'''There are few strange values in the data like :\n",
    "minimum fare_amount is -3, fare can never be negative.\n",
    "pickup_latitude max value is out of range.\n",
    "minimum passenger_count is 0 which can't be the case.\n",
    "So to clean these values we detect and remove the outliers from our data.'''"
   ]
  },
  {
   "cell_type": "code",
   "execution_count": 34,
   "metadata": {},
   "outputs": [
    {
     "data": {
      "image/png": "[encoded data removed]",
      "text/plain": [
       "<Figure size 432x288 with 1 Axes>"
      ]
     },
     "metadata": {
      "needs_background": "light"
     },
     "output_type": "display_data"
    },
    {
     "data": {
      "image/png": "[encoded data removed]",
      "text/plain": [
       "<Figure size 432x288 with 1 Axes>"
      ]
     },
     "metadata": {
      "needs_background": "light"
     },
     "output_type": "display_data"
    },
    {
     "data": {
      "image/png": "[encoded data removed]",
      "text/plain": [
       "<Figure size 432x288 with 1 Axes>"
      ]
     },
     "metadata": {
      "needs_background": "light"
     },
     "output_type": "display_data"
    },
    {
     "data": {
      "image/png": "[encoded data removed]",
      "text/plain": [
       "<Figure size 432x288 with 1 Axes>"
      ]
     },
     "metadata": {
      "needs_background": "light"
     },
     "output_type": "display_data"
    },
    {
     "data": {
      "image/png": "[encoded data removed]",
      "text/plain": [
       "<Figure size 432x288 with 1 Axes>"
      ]
     },
     "metadata": {
      "needs_background": "light"
     },
     "output_type": "display_data"
    },
    {
     "data": {
      "image/png": "[encoded data removed]",
      "text/plain": [
       "<Figure size 432x288 with 1 Axes>"
      ]
     },
     "metadata": {
      "needs_background": "light"
     },
     "output_type": "display_data"
    }
   ],
   "source": [
    "num_variables=['fare_amount','pickup_longitude','pickup_latitude','dropoff_longitude','dropoff_latitude','passenger_count']\n",
    "for i in num_variables:\n",
    "    cab_df.boxplot(column=i)\n",
    "    plt.show()"
   ]
  },
  {
   "cell_type": "code",
   "execution_count": 35,
   "metadata": {},
   "outputs": [
    {
     "data": {
      "image/png": "[encoded data removed]",
      "text/plain": [
       "<Figure size 432x288 with 1 Axes>"
      ]
     },
     "metadata": {
      "needs_background": "light"
     },
     "output_type": "display_data"
    }
   ],
   "source": [
    "cab_df['passenger_count'].value_counts().plot.bar(color = 'b', edgecolor = 'k');\n",
    "plt.title('Histogram of passenger counts'); \n",
    "plt.xlabel('Passenger counts'); \n",
    "plt.ylabel('Count');"
   ]
  },
  {
   "cell_type": "code",
   "execution_count": 36,
   "metadata": {},
   "outputs": [
    {
     "data": {
      "text/plain": [
       "passenger_count\n",
       "0.0          58\n",
       "1.0       11259\n",
       "2.0        2321\n",
       "3.0         732\n",
       "4.0         329\n",
       "5.0        1045\n",
       "6.0         302\n",
       "35.0          1\n",
       "43.0          2\n",
       "53.0          2\n",
       "55.0          1\n",
       "58.0          1\n",
       "87.0          1\n",
       "236.0         1\n",
       "345.0         1\n",
       "354.0         1\n",
       "456.0         1\n",
       "531.0         1\n",
       "535.0         1\n",
       "536.0         1\n",
       "537.0         1\n",
       "554.0         1\n",
       "557.0         1\n",
       "5334.0        1\n",
       "5345.0        1\n",
       "dtype: int64"
      ]
     },
     "execution_count": 36,
     "metadata": {},
     "output_type": "execute_result"
    }
   ],
   "source": [
    "cab_df.groupby('passenger_count').size()"
   ]
  },
  {
   "cell_type": "code",
   "execution_count": 37,
   "metadata": {},
   "outputs": [],
   "source": [
    "for i in num_variables:\n",
    "    q75,q25=np.percentile(cab_df.loc[:,i],[75,25])\n",
    "    iqr=q75-q25\n",
    "    min=q25 -(1.5*iqr)\n",
    "    max=q75 +(1.5*iqr)\n",
    "    \n",
    "    cab_df=cab_df.drop(cab_df[cab_df.loc[:,i]<min].index)\n",
    "    cab_df=cab_df.drop(cab_df[cab_df.loc[:,i]>max].index)"
   ]
  },
  {
   "cell_type": "code",
   "execution_count": 38,
   "metadata": {},
   "outputs": [
    {
     "data": {
      "text/html": [
       "<div>\n",
       "<style scoped>\n",
       "    .dataframe tbody tr th:only-of-type {\n",
       "        vertical-align: middle;\n",
       "    }\n",
       "\n",
       "    .dataframe tbody tr th {\n",
       "        vertical-align: top;\n",
       "    }\n",
       "\n",
       "    .dataframe thead th {\n",
       "        text-align: right;\n",
       "    }\n",
       "</style>\n",
       "<table border=\"1\" class=\"dataframe\">\n",
       "  <thead>\n",
       "    <tr style=\"text-align: right;\">\n",
       "      <th></th>\n",
       "      <th>fare_amount</th>\n",
       "      <th>pickup_longitude</th>\n",
       "      <th>pickup_latitude</th>\n",
       "      <th>dropoff_longitude</th>\n",
       "      <th>dropoff_latitude</th>\n",
       "      <th>passenger_count</th>\n",
       "    </tr>\n",
       "  </thead>\n",
       "  <tbody>\n",
       "    <tr>\n",
       "      <th>count</th>\n",
       "      <td>11878.000000</td>\n",
       "      <td>11878.000000</td>\n",
       "      <td>11878.000000</td>\n",
       "      <td>11878.000000</td>\n",
       "      <td>11878.000000</td>\n",
       "      <td>11878.000000</td>\n",
       "    </tr>\n",
       "    <tr>\n",
       "      <th>mean</th>\n",
       "      <td>8.559716</td>\n",
       "      <td>-73.981887</td>\n",
       "      <td>40.752943</td>\n",
       "      <td>-73.981029</td>\n",
       "      <td>40.753361</td>\n",
       "      <td>1.256946</td>\n",
       "    </tr>\n",
       "    <tr>\n",
       "      <th>std</th>\n",
       "      <td>3.818790</td>\n",
       "      <td>0.016013</td>\n",
       "      <td>0.021040</td>\n",
       "      <td>0.016509</td>\n",
       "      <td>0.021890</td>\n",
       "      <td>0.549311</td>\n",
       "    </tr>\n",
       "    <tr>\n",
       "      <th>min</th>\n",
       "      <td>-2.500000</td>\n",
       "      <td>-74.018108</td>\n",
       "      <td>40.693504</td>\n",
       "      <td>-74.019535</td>\n",
       "      <td>40.694260</td>\n",
       "      <td>0.000000</td>\n",
       "    </tr>\n",
       "    <tr>\n",
       "      <th>25%</th>\n",
       "      <td>5.700000</td>\n",
       "      <td>-73.992845</td>\n",
       "      <td>40.738600</td>\n",
       "      <td>-73.992089</td>\n",
       "      <td>40.738838</td>\n",
       "      <td>1.000000</td>\n",
       "    </tr>\n",
       "    <tr>\n",
       "      <th>50%</th>\n",
       "      <td>7.700000</td>\n",
       "      <td>-73.982744</td>\n",
       "      <td>40.753507</td>\n",
       "      <td>-73.982090</td>\n",
       "      <td>40.754584</td>\n",
       "      <td>1.000000</td>\n",
       "    </tr>\n",
       "    <tr>\n",
       "      <th>75%</th>\n",
       "      <td>10.500000</td>\n",
       "      <td>-73.971549</td>\n",
       "      <td>40.766775</td>\n",
       "      <td>-73.970871</td>\n",
       "      <td>40.767365</td>\n",
       "      <td>1.000000</td>\n",
       "    </tr>\n",
       "    <tr>\n",
       "      <th>max</th>\n",
       "      <td>22.100000</td>\n",
       "      <td>-73.932999</td>\n",
       "      <td>40.810862</td>\n",
       "      <td>-73.935237</td>\n",
       "      <td>40.811445</td>\n",
       "      <td>3.000000</td>\n",
       "    </tr>\n",
       "  </tbody>\n",
       "</table>\n",
       "</div>"
      ],
      "text/plain": [
       "        fare_amount  pickup_longitude  pickup_latitude  dropoff_longitude  \\\n",
       "count  11878.000000      11878.000000     11878.000000       11878.000000   \n",
       "mean       8.559716        -73.981887        40.752943         -73.981029   \n",
       "std        3.818790          0.016013         0.021040           0.016509   \n",
       "min       -2.500000        -74.018108        40.693504         -74.019535   \n",
       "25%        5.700000        -73.992845        40.738600         -73.992089   \n",
       "50%        7.700000        -73.982744        40.753507         -73.982090   \n",
       "75%       10.500000        -73.971549        40.766775         -73.970871   \n",
       "max       22.100000        -73.932999        40.810862         -73.935237   \n",
       "\n",
       "       dropoff_latitude  passenger_count  \n",
       "count      11878.000000     11878.000000  \n",
       "mean          40.753361         1.256946  \n",
       "std            0.021890         0.549311  \n",
       "min           40.694260         0.000000  \n",
       "25%           40.738838         1.000000  \n",
       "50%           40.754584         1.000000  \n",
       "75%           40.767365         1.000000  \n",
       "max           40.811445         3.000000  "
      ]
     },
     "execution_count": 38,
     "metadata": {},
     "output_type": "execute_result"
    }
   ],
   "source": [
    "#Latitude : 40.730610, Longitude : -73.935242\n",
    "cab_df.describe()"
   ]
  },
  {
   "cell_type": "code",
   "execution_count": 39,
   "metadata": {},
   "outputs": [
    {
     "data": {
      "text/html": [
       "<div>\n",
       "<style scoped>\n",
       "    .dataframe tbody tr th:only-of-type {\n",
       "        vertical-align: middle;\n",
       "    }\n",
       "\n",
       "    .dataframe tbody tr th {\n",
       "        vertical-align: top;\n",
       "    }\n",
       "\n",
       "    .dataframe thead th {\n",
       "        text-align: right;\n",
       "    }\n",
       "</style>\n",
       "<table border=\"1\" class=\"dataframe\">\n",
       "  <thead>\n",
       "    <tr style=\"text-align: right;\">\n",
       "      <th></th>\n",
       "      <th>fare_amount</th>\n",
       "      <th>pickup_longitude</th>\n",
       "      <th>pickup_latitude</th>\n",
       "      <th>dropoff_longitude</th>\n",
       "      <th>dropoff_latitude</th>\n",
       "      <th>passenger_count</th>\n",
       "    </tr>\n",
       "  </thead>\n",
       "  <tbody>\n",
       "    <tr>\n",
       "      <th>count</th>\n",
       "      <td>11824.000000</td>\n",
       "      <td>11824.000000</td>\n",
       "      <td>11824.000000</td>\n",
       "      <td>11824.000000</td>\n",
       "      <td>11824.000000</td>\n",
       "      <td>11824.000000</td>\n",
       "    </tr>\n",
       "    <tr>\n",
       "      <th>mean</th>\n",
       "      <td>8.563625</td>\n",
       "      <td>-73.981886</td>\n",
       "      <td>40.752954</td>\n",
       "      <td>-73.981039</td>\n",
       "      <td>40.753368</td>\n",
       "      <td>1.262432</td>\n",
       "    </tr>\n",
       "    <tr>\n",
       "      <th>std</th>\n",
       "      <td>3.816751</td>\n",
       "      <td>0.016014</td>\n",
       "      <td>0.021029</td>\n",
       "      <td>0.016500</td>\n",
       "      <td>0.021894</td>\n",
       "      <td>0.544297</td>\n",
       "    </tr>\n",
       "    <tr>\n",
       "      <th>min</th>\n",
       "      <td>2.500000</td>\n",
       "      <td>-74.018108</td>\n",
       "      <td>40.693504</td>\n",
       "      <td>-74.019535</td>\n",
       "      <td>40.694260</td>\n",
       "      <td>1.000000</td>\n",
       "    </tr>\n",
       "    <tr>\n",
       "      <th>25%</th>\n",
       "      <td>5.700000</td>\n",
       "      <td>-73.992841</td>\n",
       "      <td>40.738610</td>\n",
       "      <td>-73.992088</td>\n",
       "      <td>40.738855</td>\n",
       "      <td>1.000000</td>\n",
       "    </tr>\n",
       "    <tr>\n",
       "      <th>50%</th>\n",
       "      <td>7.700000</td>\n",
       "      <td>-73.982749</td>\n",
       "      <td>40.753510</td>\n",
       "      <td>-73.982093</td>\n",
       "      <td>40.754582</td>\n",
       "      <td>1.000000</td>\n",
       "    </tr>\n",
       "    <tr>\n",
       "      <th>75%</th>\n",
       "      <td>10.500000</td>\n",
       "      <td>-73.971549</td>\n",
       "      <td>40.766776</td>\n",
       "      <td>-73.970891</td>\n",
       "      <td>40.767358</td>\n",
       "      <td>1.000000</td>\n",
       "    </tr>\n",
       "    <tr>\n",
       "      <th>max</th>\n",
       "      <td>22.100000</td>\n",
       "      <td>-73.932999</td>\n",
       "      <td>40.810862</td>\n",
       "      <td>-73.935237</td>\n",
       "      <td>40.811445</td>\n",
       "      <td>3.000000</td>\n",
       "    </tr>\n",
       "  </tbody>\n",
       "</table>\n",
       "</div>"
      ],
      "text/plain": [
       "        fare_amount  pickup_longitude  pickup_latitude  dropoff_longitude  \\\n",
       "count  11824.000000      11824.000000     11824.000000       11824.000000   \n",
       "mean       8.563625        -73.981886        40.752954         -73.981039   \n",
       "std        3.816751          0.016014         0.021029           0.016500   \n",
       "min        2.500000        -74.018108        40.693504         -74.019535   \n",
       "25%        5.700000        -73.992841        40.738610         -73.992088   \n",
       "50%        7.700000        -73.982749        40.753510         -73.982093   \n",
       "75%       10.500000        -73.971549        40.766776         -73.970891   \n",
       "max       22.100000        -73.932999        40.810862         -73.935237   \n",
       "\n",
       "       dropoff_latitude  passenger_count  \n",
       "count      11824.000000     11824.000000  \n",
       "mean          40.753368         1.262432  \n",
       "std            0.021894         0.544297  \n",
       "min           40.694260         1.000000  \n",
       "25%           40.738855         1.000000  \n",
       "50%           40.754582         1.000000  \n",
       "75%           40.767358         1.000000  \n",
       "max           40.811445         3.000000  "
      ]
     },
     "execution_count": 39,
     "metadata": {},
     "output_type": "execute_result"
    }
   ],
   "source": [
    "cab_df = cab_df[(cab_df['passenger_count']>= 1)]\n",
    "cab_df = cab_df[(cab_df['fare_amount']>=1)]\n",
    "cab_df.describe()"
   ]
  },
  {
   "cell_type": "code",
   "execution_count": 40,
   "metadata": {},
   "outputs": [
    {
     "data": {
      "text/plain": [
       "<matplotlib.axes._subplots.AxesSubplot at 0x27e439bb438>"
      ]
     },
     "execution_count": 40,
     "metadata": {},
     "output_type": "execute_result"
    },
    {
     "data": {
      "image/png": "[encoded data removed]",
      "text/plain": [
       "<Figure size 504x360 with 2 Axes>"
      ]
     },
     "metadata": {
      "needs_background": "light"
     },
     "output_type": "display_data"
    }
   ],
   "source": [
    "f, ax=plt.subplots(figsize=(7,5))\n",
    "\n",
    "sns.heatmap(cab_df.corr(),mask=np.zeros_like(cab_df.corr(),dtype=np.bool),\n",
    "           cmap=sns.diverging_palette(220,10,as_cmap=True),ax=ax,annot = True)"
   ]
  },
  {
   "cell_type": "code",
   "execution_count": 41,
   "metadata": {},
   "outputs": [],
   "source": [
    "#Feature Engineering : Now after missing value and outlier analysis, we extract some new features from existing ones, which\n",
    "#can help further in analysis."
   ]
  },
  {
   "cell_type": "code",
   "execution_count": 42,
   "metadata": {},
   "outputs": [],
   "source": [
    "cab_df['year'] = cab_df.pickup_datetime.dt.year\n",
    "cab_df['month'] = cab_df.pickup_datetime.dt.month\n",
    "cab_df['day'] = cab_df.pickup_datetime.dt.day\n",
    "cab_df['weekday'] = cab_df.pickup_datetime.dt.weekday\n",
    "cab_df['hour'] = cab_df.pickup_datetime.dt.hour"
   ]
  },
  {
   "cell_type": "code",
   "execution_count": 43,
   "metadata": {},
   "outputs": [],
   "source": [
    "del cab_df['pickup_datetime']"
   ]
  },
  {
   "cell_type": "code",
   "execution_count": 44,
   "metadata": {},
   "outputs": [],
   "source": [
    "def haversine_distance(lat1, long1, lat2, long2):\n",
    "    data = [cab_df]\n",
    "    for i in data:\n",
    "        R = 6371  #radius of earth in kilometers\n",
    "        #R = 3959 #radius of earth in miles\n",
    "        phi1 = np.radians(i[lat1])\n",
    "        phi2 = np.radians(i[lat2])\n",
    "    \n",
    "        delta_phi = np.radians(i[lat2]-i[lat1])\n",
    "        delta_lambda = np.radians(i[long2]-i[long1])\n",
    "    \n",
    "        #a = sin²((φB - φA)/2) + cos φA . cos φB . sin²((λB - λA)/2)\n",
    "        a = np.sin(delta_phi / 2.0) ** 2 + np.cos(phi1) * np.cos(phi2) * np.sin(delta_lambda / 2.0) ** 2\n",
    "    \n",
    "        #c = 2 * atan2( √a, √(1−a) )\n",
    "        c = 2 * np.arctan2(np.sqrt(a), np.sqrt(1-a))\n",
    "    \n",
    "        #d = R*c\n",
    "        d = (R * c) #in kilometers\n",
    "        i['distance_km'] = d\n",
    "    return d"
   ]
  },
  {
   "cell_type": "code",
   "execution_count": 45,
   "metadata": {},
   "outputs": [
    {
     "data": {
      "text/html": [
       "<div>\n",
       "<style scoped>\n",
       "    .dataframe tbody tr th:only-of-type {\n",
       "        vertical-align: middle;\n",
       "    }\n",
       "\n",
       "    .dataframe tbody tr th {\n",
       "        vertical-align: top;\n",
       "    }\n",
       "\n",
       "    .dataframe thead th {\n",
       "        text-align: right;\n",
       "    }\n",
       "</style>\n",
       "<table border=\"1\" class=\"dataframe\">\n",
       "  <thead>\n",
       "    <tr style=\"text-align: right;\">\n",
       "      <th></th>\n",
       "      <th>fare_amount</th>\n",
       "      <th>pickup_longitude</th>\n",
       "      <th>pickup_latitude</th>\n",
       "      <th>dropoff_longitude</th>\n",
       "      <th>dropoff_latitude</th>\n",
       "      <th>passenger_count</th>\n",
       "      <th>year</th>\n",
       "      <th>month</th>\n",
       "      <th>day</th>\n",
       "      <th>weekday</th>\n",
       "      <th>hour</th>\n",
       "      <th>distance_km</th>\n",
       "    </tr>\n",
       "  </thead>\n",
       "  <tbody>\n",
       "    <tr>\n",
       "      <th>1</th>\n",
       "      <td>16.9</td>\n",
       "      <td>-74.016048</td>\n",
       "      <td>40.711303</td>\n",
       "      <td>-73.979268</td>\n",
       "      <td>40.782004</td>\n",
       "      <td>1.0</td>\n",
       "      <td>2010</td>\n",
       "      <td>1</td>\n",
       "      <td>5</td>\n",
       "      <td>1</td>\n",
       "      <td>16</td>\n",
       "      <td>8.450134</td>\n",
       "    </tr>\n",
       "    <tr>\n",
       "      <th>2</th>\n",
       "      <td>5.7</td>\n",
       "      <td>-73.982738</td>\n",
       "      <td>40.761270</td>\n",
       "      <td>-73.991242</td>\n",
       "      <td>40.750562</td>\n",
       "      <td>2.0</td>\n",
       "      <td>2011</td>\n",
       "      <td>8</td>\n",
       "      <td>18</td>\n",
       "      <td>3</td>\n",
       "      <td>0</td>\n",
       "      <td>1.389525</td>\n",
       "    </tr>\n",
       "    <tr>\n",
       "      <th>3</th>\n",
       "      <td>7.7</td>\n",
       "      <td>-73.987130</td>\n",
       "      <td>40.733143</td>\n",
       "      <td>-73.991567</td>\n",
       "      <td>40.758092</td>\n",
       "      <td>1.0</td>\n",
       "      <td>2012</td>\n",
       "      <td>4</td>\n",
       "      <td>21</td>\n",
       "      <td>5</td>\n",
       "      <td>4</td>\n",
       "      <td>2.799270</td>\n",
       "    </tr>\n",
       "    <tr>\n",
       "      <th>4</th>\n",
       "      <td>5.3</td>\n",
       "      <td>-73.968095</td>\n",
       "      <td>40.768008</td>\n",
       "      <td>-73.956655</td>\n",
       "      <td>40.783762</td>\n",
       "      <td>1.0</td>\n",
       "      <td>2010</td>\n",
       "      <td>3</td>\n",
       "      <td>9</td>\n",
       "      <td>1</td>\n",
       "      <td>7</td>\n",
       "      <td>1.999157</td>\n",
       "    </tr>\n",
       "    <tr>\n",
       "      <th>5</th>\n",
       "      <td>12.1</td>\n",
       "      <td>-74.000964</td>\n",
       "      <td>40.731630</td>\n",
       "      <td>-73.972892</td>\n",
       "      <td>40.758233</td>\n",
       "      <td>1.0</td>\n",
       "      <td>2011</td>\n",
       "      <td>1</td>\n",
       "      <td>6</td>\n",
       "      <td>3</td>\n",
       "      <td>9</td>\n",
       "      <td>3.787239</td>\n",
       "    </tr>\n",
       "  </tbody>\n",
       "</table>\n",
       "</div>"
      ],
      "text/plain": [
       "   fare_amount  pickup_longitude  pickup_latitude  dropoff_longitude  \\\n",
       "1         16.9        -74.016048        40.711303         -73.979268   \n",
       "2          5.7        -73.982738        40.761270         -73.991242   \n",
       "3          7.7        -73.987130        40.733143         -73.991567   \n",
       "4          5.3        -73.968095        40.768008         -73.956655   \n",
       "5         12.1        -74.000964        40.731630         -73.972892   \n",
       "\n",
       "   dropoff_latitude  passenger_count  year  month  day  weekday  hour  \\\n",
       "1         40.782004              1.0  2010      1    5        1    16   \n",
       "2         40.750562              2.0  2011      8   18        3     0   \n",
       "3         40.758092              1.0  2012      4   21        5     4   \n",
       "4         40.783762              1.0  2010      3    9        1     7   \n",
       "5         40.758233              1.0  2011      1    6        3     9   \n",
       "\n",
       "   distance_km  \n",
       "1     8.450134  \n",
       "2     1.389525  \n",
       "3     2.799270  \n",
       "4     1.999157  \n",
       "5     3.787239  "
      ]
     },
     "execution_count": 45,
     "metadata": {},
     "output_type": "execute_result"
    }
   ],
   "source": [
    "cab_df['distance_km'] = haversine_distance('pickup_latitude', 'pickup_longitude', 'dropoff_latitude', 'dropoff_longitude')\n",
    "cab_df.head()"
   ]
  },
  {
   "cell_type": "code",
   "execution_count": 46,
   "metadata": {},
   "outputs": [
    {
     "data": {
      "text/plain": [
       "<matplotlib.axes._subplots.AxesSubplot at 0x27e43936048>"
      ]
     },
     "execution_count": 46,
     "metadata": {},
     "output_type": "execute_result"
    },
    {
     "data": {
      "image/png": "[encoded data removed]",
      "text/plain": [
       "<Figure size 504x360 with 2 Axes>"
      ]
     },
     "metadata": {
      "needs_background": "light"
     },
     "output_type": "display_data"
    }
   ],
   "source": [
    "f, ax=plt.subplots(figsize=(7,5))\n",
    "\n",
    "sns.heatmap(cab_df.corr(),mask=np.zeros_like(cab_df.corr(),dtype=np.bool),\n",
    "           cmap=sns.diverging_palette(220,10,as_cmap=True),ax=ax)"
   ]
  },
  {
   "cell_type": "code",
   "execution_count": 47,
   "metadata": {},
   "outputs": [],
   "source": [
    "#Exploratory Data Analysis : to understand the data and make some inferences out of it."
   ]
  },
  {
   "cell_type": "code",
   "execution_count": 48,
   "metadata": {},
   "outputs": [
    {
     "data": {
      "image/png": "[encoded data removed]",
      "text/plain": [
       "<Figure size 432x288 with 1 Axes>"
      ]
     },
     "metadata": {
      "needs_background": "light"
     },
     "output_type": "display_data"
    }
   ],
   "source": [
    "#Shows the distribution b/w distance and fare\n",
    "plt.scatter(cab_df['distance_km'], cab_df['fare_amount'], color='red')\n",
    "\n",
    "plt.title('distance vs fare_amount', fontsize=14)\n",
    "\n",
    "plt.xlabel('distance', fontsize=14)\n",
    "\n",
    "plt.ylabel('fare', fontsize=14)\n",
    "\n",
    "plt.grid(True)\n",
    "\n",
    "plt.show()"
   ]
  },
  {
   "cell_type": "code",
   "execution_count": 49,
   "metadata": {},
   "outputs": [
    {
     "data": {
      "text/plain": [
       "Text(0, 0.5, 'Fare')"
      ]
     },
     "execution_count": 49,
     "metadata": {},
     "output_type": "execute_result"
    },
    {
     "data": {
      "image/png": "[encoded data removed]",
      "text/plain": [
       "<Figure size 1080x504 with 1 Axes>"
      ]
     },
     "metadata": {
      "needs_background": "light"
     },
     "output_type": "display_data"
    }
   ],
   "source": [
    "#shows how the different days have different fare amount\n",
    "plt.figure(figsize=(15,7))\n",
    "plt.scatter(x=cab_df['day'], y=cab_df['fare_amount'], s=1.5)\n",
    "plt.title('day vs fare_amount', fontsize=14)\n",
    "plt.xlabel('day')\n",
    "plt.ylabel('Fare')"
   ]
  },
  {
   "cell_type": "code",
   "execution_count": 50,
   "metadata": {},
   "outputs": [
    {
     "data": {
      "text/plain": [
       "Text(0, 0.5, 'Frequency')"
      ]
     },
     "execution_count": 50,
     "metadata": {},
     "output_type": "execute_result"
    },
    {
     "data": {
      "image/png": "[encoded data removed]",
      "text/plain": [
       "<Figure size 1080x504 with 1 Axes>"
      ]
     },
     "metadata": {
      "needs_background": "light"
     },
     "output_type": "display_data"
    }
   ],
   "source": [
    "#shows the frequency of hours, (tells us about the most active hour)\n",
    "plt.figure(figsize=(15,7))\n",
    "plt.hist(cab_df['hour'], bins=100)\n",
    "plt.title('Frequency of hours')\n",
    "plt.xlabel('Hour')\n",
    "plt.ylabel('Frequency')"
   ]
  },
  {
   "cell_type": "code",
   "execution_count": 51,
   "metadata": {},
   "outputs": [
    {
     "data": {
      "text/plain": [
       "Text(0, 0.5, 'Fare')"
      ]
     },
     "execution_count": 51,
     "metadata": {},
     "output_type": "execute_result"
    },
    {
     "data": {
      "image/png": "[encoded data removed]",
      "text/plain": [
       "<Figure size 1080x504 with 1 Axes>"
      ]
     },
     "metadata": {
      "needs_background": "light"
     },
     "output_type": "display_data"
    }
   ],
   "source": [
    "#Hour vs Fare_amount\n",
    "plt.figure(figsize=(15,7))\n",
    "plt.scatter(x=cab_df['hour'], y=cab_df['fare_amount'], s=1.5)\n",
    "plt.xlabel('Hour')\n",
    "plt.ylabel('Fare')"
   ]
  },
  {
   "cell_type": "code",
   "execution_count": 52,
   "metadata": {},
   "outputs": [
    {
     "data": {
      "text/plain": [
       "Text(0, 0.5, 'Frequency')"
      ]
     },
     "execution_count": 52,
     "metadata": {},
     "output_type": "execute_result"
    },
    {
     "data": {
      "image/png": "[encoded data removed]",
      "text/plain": [
       "<Figure size 1080x504 with 1 Axes>"
      ]
     },
     "metadata": {
      "needs_background": "light"
     },
     "output_type": "display_data"
    }
   ],
   "source": [
    "#shows the frequency of number of passengers\n",
    "plt.figure(figsize=(15,7))\n",
    "plt.hist(cab_df['passenger_count'], bins=15)\n",
    "plt.title('Passenger Count')\n",
    "plt.xlabel('No. of Passengers')\n",
    "plt.ylabel('Frequency')"
   ]
  },
  {
   "cell_type": "code",
   "execution_count": 53,
   "metadata": {},
   "outputs": [
    {
     "data": {
      "text/plain": [
       "Text(0, 0.5, 'Fare')"
      ]
     },
     "execution_count": 53,
     "metadata": {},
     "output_type": "execute_result"
    },
    {
     "data": {
      "image/png": "[encoded data removed]",
      "text/plain": [
       "<Figure size 1080x504 with 1 Axes>"
      ]
     },
     "metadata": {
      "needs_background": "light"
     },
     "output_type": "display_data"
    }
   ],
   "source": [
    "#Number of Passengers vs Fare_amount\n",
    "plt.figure(figsize=(15,7))\n",
    "plt.scatter(x=cab_df['passenger_count'], y=cab_df['fare_amount'], s=1.5)\n",
    "plt.xlabel('No. of Passengers')\n",
    "plt.ylabel('Fare')"
   ]
  },
  {
   "cell_type": "code",
   "execution_count": 54,
   "metadata": {},
   "outputs": [
    {
     "data": {
      "image/png": "[encoded data removed]",
      "text/plain": [
       "<Figure size 720x360 with 1 Axes>"
      ]
     },
     "metadata": {
      "needs_background": "light"
     },
     "output_type": "display_data"
    }
   ],
   "source": [
    "#Shows the average fare_amount by Month\n",
    "fare_mn = cab_df.groupby(\"month\")[\"fare_amount\"].mean().reset_index()\n",
    "plt.figure(figsize = (10,5))\n",
    "sns.barplot(\"month\",\"fare_amount\",\n",
    "            data = fare_mn,\n",
    "            linewidth =1)\n",
    "plt.grid(True)\n",
    "plt.title(\"Average fare amount by Month\")\n",
    "plt.show()"
   ]
  },
  {
   "cell_type": "code",
   "execution_count": 55,
   "metadata": {},
   "outputs": [
    {
     "data": {
      "text/plain": [
       "array([2010, 2011, 2012, 2009, 2013, 2014, 2015], dtype=int64)"
      ]
     },
     "execution_count": 55,
     "metadata": {},
     "output_type": "execute_result"
    }
   ],
   "source": [
    "cab_df['year'].unique()"
   ]
  },
  {
   "cell_type": "code",
   "execution_count": 56,
   "metadata": {},
   "outputs": [
    {
     "data": {
      "image/png": "[encoded data removed]",
      "text/plain": [
       "<Figure size 936x1080 with 6 Axes>"
      ]
     },
     "metadata": {
      "needs_background": "light"
     },
     "output_type": "display_data"
    }
   ],
   "source": [
    "#shows the trends of trips every month of all years except for 2015 as it doesn't have data for all months\n",
    "\n",
    "yrs = [i for i in cab_df[\"year\"].unique().tolist() if i not in [2015]]\n",
    "\n",
    "#subset data without year 2015\n",
    "complete_dat = cab_df[cab_df[\"year\"].isin(yrs)]\n",
    "\n",
    "\n",
    "plt.figure(figsize = (13,15))\n",
    "for i,j in itertools.zip_longest(yrs,range(len(yrs))) :\n",
    "    plt.subplot(3,2,j+1)\n",
    "    trip_counts_mn = complete_dat[complete_dat[\"year\"] == i][\"month\"].value_counts()\n",
    "    trip_counts_mn = trip_counts_mn.reset_index()\n",
    "    sns.barplot(trip_counts_mn[\"index\"],trip_counts_mn[\"month\"],\n",
    "                palette = \"rainbow\",linewidth = 1,\n",
    "                edgecolor = \"k\"*complete_dat[\"month\"].nunique() \n",
    "               )\n",
    "    plt.title(i,color = \"b\",fontsize = 12)\n",
    "    plt.grid(True)\n",
    "    plt.xlabel(\"\")\n",
    "    plt.ylabel(\"trips\")"
   ]
  },
  {
   "cell_type": "code",
   "execution_count": 57,
   "metadata": {},
   "outputs": [],
   "source": [
    "#Train_test Splitting : Simple Random Sampling as we are dealing with continuous variables\n",
    "X = cab_df.iloc[:,1:].values\n",
    "Y = cab_df.iloc[:,0].values\n",
    "X_train, X_test, y_train, y_test = train_test_split(X,Y,test_size=0.2,random_state=0)"
   ]
  },
  {
   "cell_type": "code",
   "execution_count": 58,
   "metadata": {},
   "outputs": [],
   "source": [
    "#Model Building: trying out different regression models and finally accepting the one with least RMSE value."
   ]
  },
  {
   "cell_type": "code",
   "execution_count": 59,
   "metadata": {},
   "outputs": [
    {
     "data": {
      "text/html": [
       "<table class=\"simpletable\">\n",
       "<caption>OLS Regression Results</caption>\n",
       "<tr>\n",
       "  <th>Dep. Variable:</th>            <td>y</td>        <th>  R-squared:         </th> <td>   0.950</td> \n",
       "</tr>\n",
       "<tr>\n",
       "  <th>Model:</th>                   <td>OLS</td>       <th>  Adj. R-squared:    </th> <td>   0.950</td> \n",
       "</tr>\n",
       "<tr>\n",
       "  <th>Method:</th>             <td>Least Squares</td>  <th>  F-statistic:       </th> <td>1.620e+04</td>\n",
       "</tr>\n",
       "<tr>\n",
       "  <th>Date:</th>             <td>Fri, 21 Jun 2019</td> <th>  Prob (F-statistic):</th>  <td>  0.00</td>  \n",
       "</tr>\n",
       "<tr>\n",
       "  <th>Time:</th>                 <td>22:02:34</td>     <th>  Log-Likelihood:    </th> <td> -20488.</td> \n",
       "</tr>\n",
       "<tr>\n",
       "  <th>No. Observations:</th>      <td>  9459</td>      <th>  AIC:               </th> <td>4.100e+04</td>\n",
       "</tr>\n",
       "<tr>\n",
       "  <th>Df Residuals:</th>          <td>  9448</td>      <th>  BIC:               </th> <td>4.108e+04</td>\n",
       "</tr>\n",
       "<tr>\n",
       "  <th>Df Model:</th>              <td>    11</td>      <th>                     </th>     <td> </td>    \n",
       "</tr>\n",
       "<tr>\n",
       "  <th>Covariance Type:</th>      <td>nonrobust</td>    <th>                     </th>     <td> </td>    \n",
       "</tr>\n",
       "</table>\n",
       "<table class=\"simpletable\">\n",
       "<tr>\n",
       "   <td></td>      <th>coef</th>     <th>std err</th>      <th>t</th>      <th>P>|t|</th>  <th>[0.025</th>    <th>0.975]</th>  \n",
       "</tr>\n",
       "<tr>\n",
       "  <th>x1</th>  <td>    1.2818</td> <td>    1.584</td> <td>    0.809</td> <td> 0.418</td> <td>   -1.823</td> <td>    4.387</td>\n",
       "</tr>\n",
       "<tr>\n",
       "  <th>x2</th>  <td>    1.8589</td> <td>    1.376</td> <td>    1.351</td> <td> 0.177</td> <td>   -0.839</td> <td>    4.557</td>\n",
       "</tr>\n",
       "<tr>\n",
       "  <th>x3</th>  <td>    2.9466</td> <td>    1.589</td> <td>    1.854</td> <td> 0.064</td> <td>   -0.168</td> <td>    6.061</td>\n",
       "</tr>\n",
       "<tr>\n",
       "  <th>x4</th>  <td>  -12.3826</td> <td>    1.342</td> <td>   -9.226</td> <td> 0.000</td> <td>  -15.013</td> <td>   -9.752</td>\n",
       "</tr>\n",
       "<tr>\n",
       "  <th>x5</th>  <td>    0.1099</td> <td>    0.040</td> <td>    2.771</td> <td> 0.006</td> <td>    0.032</td> <td>    0.188</td>\n",
       "</tr>\n",
       "<tr>\n",
       "  <th>x6</th>  <td>    0.3704</td> <td>    0.012</td> <td>   31.920</td> <td> 0.000</td> <td>    0.348</td> <td>    0.393</td>\n",
       "</tr>\n",
       "<tr>\n",
       "  <th>x7</th>  <td>    0.0543</td> <td>    0.006</td> <td>    8.550</td> <td> 0.000</td> <td>    0.042</td> <td>    0.067</td>\n",
       "</tr>\n",
       "<tr>\n",
       "  <th>x8</th>  <td>   -0.0016</td> <td>    0.003</td> <td>   -0.658</td> <td> 0.510</td> <td>   -0.007</td> <td>    0.003</td>\n",
       "</tr>\n",
       "<tr>\n",
       "  <th>x9</th>  <td>   -0.0485</td> <td>    0.011</td> <td>   -4.344</td> <td> 0.000</td> <td>   -0.070</td> <td>   -0.027</td>\n",
       "</tr>\n",
       "<tr>\n",
       "  <th>x10</th> <td>    0.0131</td> <td>    0.003</td> <td>    3.792</td> <td> 0.000</td> <td>    0.006</td> <td>    0.020</td>\n",
       "</tr>\n",
       "<tr>\n",
       "  <th>x11</th> <td>    1.9693</td> <td>    0.014</td> <td>  143.254</td> <td> 0.000</td> <td>    1.942</td> <td>    1.996</td>\n",
       "</tr>\n",
       "</table>\n",
       "<table class=\"simpletable\">\n",
       "<tr>\n",
       "  <th>Omnibus:</th>       <td>2992.348</td> <th>  Durbin-Watson:     </th> <td>   2.027</td> \n",
       "</tr>\n",
       "<tr>\n",
       "  <th>Prob(Omnibus):</th>  <td> 0.000</td>  <th>  Jarque-Bera (JB):  </th> <td>15211.784</td>\n",
       "</tr>\n",
       "<tr>\n",
       "  <th>Skew:</th>           <td> 1.440</td>  <th>  Prob(JB):          </th> <td>    0.00</td> \n",
       "</tr>\n",
       "<tr>\n",
       "  <th>Kurtosis:</th>       <td> 8.505</td>  <th>  Cond. No.          </th> <td>2.40e+05</td> \n",
       "</tr>\n",
       "</table><br/><br/>Warnings:<br/>[1] Standard Errors assume that the covariance matrix of the errors is correctly specified.<br/>[2] The condition number is large, 2.4e+05. This might indicate that there are<br/>strong multicollinearity or other numerical problems."
      ],
      "text/plain": [
       "<class 'statsmodels.iolib.summary.Summary'>\n",
       "\"\"\"\n",
       "                            OLS Regression Results                            \n",
       "==============================================================================\n",
       "Dep. Variable:                      y   R-squared:                       0.950\n",
       "Model:                            OLS   Adj. R-squared:                  0.950\n",
       "Method:                 Least Squares   F-statistic:                 1.620e+04\n",
       "Date:                Fri, 21 Jun 2019   Prob (F-statistic):               0.00\n",
       "Time:                        22:02:34   Log-Likelihood:                -20488.\n",
       "No. Observations:                9459   AIC:                         4.100e+04\n",
       "Df Residuals:                    9448   BIC:                         4.108e+04\n",
       "Df Model:                          11                                         \n",
       "Covariance Type:            nonrobust                                         \n",
       "==============================================================================\n",
       "                 coef    std err          t      P>|t|      [0.025      0.975]\n",
       "------------------------------------------------------------------------------\n",
       "x1             1.2818      1.584      0.809      0.418      -1.823       4.387\n",
       "x2             1.8589      1.376      1.351      0.177      -0.839       4.557\n",
       "x3             2.9466      1.589      1.854      0.064      -0.168       6.061\n",
       "x4           -12.3826      1.342     -9.226      0.000     -15.013      -9.752\n",
       "x5             0.1099      0.040      2.771      0.006       0.032       0.188\n",
       "x6             0.3704      0.012     31.920      0.000       0.348       0.393\n",
       "x7             0.0543      0.006      8.550      0.000       0.042       0.067\n",
       "x8            -0.0016      0.003     -0.658      0.510      -0.007       0.003\n",
       "x9            -0.0485      0.011     -4.344      0.000      -0.070      -0.027\n",
       "x10            0.0131      0.003      3.792      0.000       0.006       0.020\n",
       "x11            1.9693      0.014    143.254      0.000       1.942       1.996\n",
       "==============================================================================\n",
       "Omnibus:                     2992.348   Durbin-Watson:                   2.027\n",
       "Prob(Omnibus):                  0.000   Jarque-Bera (JB):            15211.784\n",
       "Skew:                           1.440   Prob(JB):                         0.00\n",
       "Kurtosis:                       8.505   Cond. No.                     2.40e+05\n",
       "==============================================================================\n",
       "\n",
       "Warnings:\n",
       "[1] Standard Errors assume that the covariance matrix of the errors is correctly specified.\n",
       "[2] The condition number is large, 2.4e+05. This might indicate that there are\n",
       "strong multicollinearity or other numerical problems.\n",
       "\"\"\""
      ]
     },
     "execution_count": 59,
     "metadata": {},
     "output_type": "execute_result"
    }
   ],
   "source": [
    "#Multiple Linear Regression\n",
    "model = sm.OLS(y_train,X_train).fit()\n",
    "model.summary()"
   ]
  },
  {
   "cell_type": "code",
   "execution_count": 60,
   "metadata": {},
   "outputs": [],
   "source": [
    "predictions_LR = model.predict(X_test)"
   ]
  },
  {
   "cell_type": "code",
   "execution_count": 61,
   "metadata": {},
   "outputs": [
    {
     "name": "stdout",
     "output_type": "stream",
     "text": [
      "RMSE value for Multiple Linear Regression is: 2.1319202747033184\n"
     ]
    }
   ],
   "source": [
    "from sklearn import metrics\n",
    "from math import sqrt\n",
    "error = sqrt(metrics.mean_squared_error(y_test,predictions_LR)) #calculate rmse\n",
    "print('RMSE value for Multiple Linear Regression is:', error)"
   ]
  },
  {
   "cell_type": "code",
   "execution_count": 64,
   "metadata": {},
   "outputs": [
    {
     "data": {
      "text/plain": [
       "array([15.31818182,  5.00978751,  9.99260976, ..., 15.69714286,\n",
       "       10.76779661,  5.00978751])"
      ]
     },
     "execution_count": 64,
     "metadata": {},
     "output_type": "execute_result"
    }
   ],
   "source": [
    "#Decision Tree\n",
    "from sklearn.tree import DecisionTreeRegressor\n",
    "train,test = train_test_split(cab_df,test_size = 0.2,random_state=0)\n",
    "fit = DecisionTreeRegressor(max_depth=5).fit(train.iloc[:,1:],train.iloc[:,0])\n",
    "predictions_DT = fit.predict(test.iloc[:,1:])\n",
    "predictions_DT"
   ]
  },
  {
   "cell_type": "code",
   "execution_count": 65,
   "metadata": {},
   "outputs": [
    {
     "name": "stdout",
     "output_type": "stream",
     "text": [
      "R square value for Decision Tree is:  0.6790662606031614\n",
      "RMSE value for Decision Tree is: 2.109178257268659\n"
     ]
    }
   ],
   "source": [
    "error = sqrt(metrics.mean_squared_error(y_test,predictions_DT)) #calculate rmse\n",
    "print('R square value for Decision Tree is: ',metrics.r2_score(y_test,predictions_DT))\n",
    "print('RMSE value for Decision Tree is:', error)"
   ]
  },
  {
   "cell_type": "code",
   "execution_count": 66,
   "metadata": {},
   "outputs": [],
   "source": [
    "#Random Forest\n",
    "X = cab_df.iloc[:,1:].values\n",
    "Y = cab_df.iloc[:,0].values\n",
    "X_train, X_test, y_train, y_test = train_test_split(X,Y,test_size=0.2,random_state=0)\n",
    "from sklearn.preprocessing import StandardScaler\n",
    "\n",
    "sc = StandardScaler()  \n",
    "X_train = sc.fit_transform(X_train)  \n",
    "X_test = sc.transform(X_test) "
   ]
  },
  {
   "cell_type": "code",
   "execution_count": 67,
   "metadata": {},
   "outputs": [
    {
     "name": "stdout",
     "output_type": "stream",
     "text": [
      "R square value for Random Forest is:  0.7127850099199918\n",
      "RMSE value for Random Forest is : 1.9953043471990368\n"
     ]
    }
   ],
   "source": [
    "from sklearn.ensemble import RandomForestRegressor\n",
    "\n",
    "regressor = RandomForestRegressor(n_estimators=200, random_state=0)  \n",
    "regressor.fit(X_train, y_train)  \n",
    "y_pred = regressor.predict(X_test)  \n",
    "y_pred\n",
    "print('R square value for Random Forest is: ',metrics.r2_score(y_test,y_pred))\n",
    "print('RMSE value for Random Forest is :', np.sqrt(metrics.mean_squared_error(y_test, y_pred))) "
   ]
  },
  {
   "cell_type": "code",
   "execution_count": 68,
   "metadata": {},
   "outputs": [],
   "source": [
    "#K Nearest Neighbours\n",
    "from sklearn.model_selection import train_test_split\n",
    "train , test = train_test_split(cab_df, test_size = 0.2)\n",
    "\n",
    "x_train = train.drop('fare_amount', axis=1)\n",
    "y_train = train['fare_amount']\n",
    "\n",
    "x_test = test.drop('fare_amount', axis = 1)\n",
    "y_test = test['fare_amount']"
   ]
  },
  {
   "cell_type": "code",
   "execution_count": 69,
   "metadata": {},
   "outputs": [
    {
     "name": "stderr",
     "output_type": "stream",
     "text": [
      "C:\\Users\\admin\\Anaconda3.7\\lib\\site-packages\\sklearn\\preprocessing\\data.py:334: DataConversionWarning: Data with input dtype int64, float64 were all converted to float64 by MinMaxScaler.\n",
      "  return self.partial_fit(X, y)\n",
      "C:\\Users\\admin\\Anaconda3.7\\lib\\site-packages\\sklearn\\preprocessing\\data.py:334: DataConversionWarning: Data with input dtype int64, float64 were all converted to float64 by MinMaxScaler.\n",
      "  return self.partial_fit(X, y)\n"
     ]
    }
   ],
   "source": [
    "from sklearn.preprocessing import MinMaxScaler\n",
    "scaler = MinMaxScaler(feature_range=(0, 1))\n",
    "\n",
    "x_train_scaled = scaler.fit_transform(x_train)\n",
    "x_train = pd.DataFrame(x_train_scaled)\n",
    "\n",
    "x_test_scaled = scaler.fit_transform(x_test)\n",
    "x_test = pd.DataFrame(x_test_scaled)"
   ]
  },
  {
   "cell_type": "code",
   "execution_count": 70,
   "metadata": {},
   "outputs": [
    {
     "data": {
      "text/plain": [
       "<ipykernel.zmqshell.ZMQInteractiveShell at 0x27e365ad2e8>"
      ]
     },
     "execution_count": 70,
     "metadata": {},
     "output_type": "execute_result"
    }
   ],
   "source": [
    "#import required packages\n",
    "from sklearn import neighbors\n",
    "from sklearn.metrics import mean_squared_error \n",
    "from math import sqrt\n",
    "get_ipython()"
   ]
  },
  {
   "cell_type": "code",
   "execution_count": 71,
   "metadata": {},
   "outputs": [
    {
     "name": "stdout",
     "output_type": "stream",
     "text": [
      "R square value for K Nearest Neighbours is:  0.5746280892583187\n",
      "RMSE value for K Nearest Neighbours is: 2.4864484534427627\n"
     ]
    }
   ],
   "source": [
    "model = neighbors.KNeighborsRegressor(n_neighbors = 10)\n",
    "model.fit(x_train, y_train)  #fit the model\n",
    "pred=model.predict(x_test) #make prediction on test set\n",
    "error = sqrt(mean_squared_error(y_test,pred)) #calculate rmse\n",
    "\n",
    "print('R square value for K Nearest Neighbours is: ',metrics.r2_score(y_test,pred))\n",
    "print('RMSE value for K Nearest Neighbours is:', error)"
   ]
  },
  {
   "cell_type": "code",
   "execution_count": 72,
   "metadata": {},
   "outputs": [
    {
     "name": "stdout",
     "output_type": "stream",
     "text": [
      "Lowest RMSE : 1.99 --> Random Forest, so using this model to predict\n"
     ]
    }
   ],
   "source": [
    "'''\n",
    "Error metric used is Root Mean Square Error as this is a Time Series Forecasting Problem. \n",
    "It represents the sample standard deviation of the differences between predicted values and observed values (called residuals).\n",
    "Lower RMSE mean better model performance.\n",
    "RMSE -->\n",
    "MLR : 2.13\n",
    "DT : 2.10\n",
    "RF : 1.99\n",
    "KNN : 2.49\n",
    "\n",
    "Best RF\n",
    "'''\n",
    "print('Lowest RMSE : 1.99 --> Random Forest, so using this model to predict')"
   ]
  },
  {
   "cell_type": "code",
   "execution_count": 73,
   "metadata": {},
   "outputs": [],
   "source": [
    "#Now that we have chosen the right model, we use it to predict fare_Amount for our test cases.\n",
    "#For that we first preprocess the test dataset and make it appropriate in such a way that it fits the model i.e the \n",
    "#input variables be same as the input variables of the algorithm chosen."
   ]
  },
  {
   "cell_type": "code",
   "execution_count": 74,
   "metadata": {},
   "outputs": [
    {
     "name": "stdout",
     "output_type": "stream",
     "text": [
      "       pickup_longitude  pickup_latitude  dropoff_longitude  dropoff_latitude  \\\n",
      "count       9914.000000      9914.000000        9914.000000       9914.000000   \n",
      "mean         -73.974722        40.751041         -73.973657         40.751743   \n",
      "std            0.042774         0.033541           0.039072          0.035435   \n",
      "min          -74.252193        40.573143         -74.263242         40.568973   \n",
      "25%          -73.992501        40.736125         -73.991247         40.735254   \n",
      "50%          -73.982326        40.753051         -73.980015         40.754065   \n",
      "75%          -73.968013        40.767113         -73.964059         40.768757   \n",
      "max          -72.986532        41.709555         -72.990963         41.696683   \n",
      "\n",
      "       passenger_count  \n",
      "count      9914.000000  \n",
      "mean          1.671273  \n",
      "std           1.278747  \n",
      "min           1.000000  \n",
      "25%           1.000000  \n",
      "50%           1.000000  \n",
      "75%           2.000000  \n",
      "max           6.000000  \n"
     ]
    }
   ],
   "source": [
    "test_df = pd.read_csv('test.csv')\n",
    "print(test_df.describe())"
   ]
  },
  {
   "cell_type": "code",
   "execution_count": 75,
   "metadata": {},
   "outputs": [
    {
     "name": "stdout",
     "output_type": "stream",
     "text": [
      "pickup_datetime      0\n",
      "pickup_longitude     0\n",
      "pickup_latitude      0\n",
      "dropoff_longitude    0\n",
      "dropoff_latitude     0\n",
      "passenger_count      0\n",
      "dtype: int64\n"
     ]
    }
   ],
   "source": [
    "#Check missing value\n",
    "print(test_df.isnull().sum())"
   ]
  },
  {
   "cell_type": "code",
   "execution_count": 76,
   "metadata": {},
   "outputs": [
    {
     "name": "stdout",
     "output_type": "stream",
     "text": [
      "pickup_datetime      datetime64[ns, UTC]\n",
      "pickup_longitude                 float64\n",
      "pickup_latitude                  float64\n",
      "dropoff_longitude                float64\n",
      "dropoff_latitude                 float64\n",
      "passenger_count                    int64\n",
      "dtype: object\n"
     ]
    }
   ],
   "source": [
    "#Data type conversion\n",
    "test_df['pickup_datetime']=pd.to_datetime(test_df['pickup_datetime'])\n",
    "print(test_df.dtypes)"
   ]
  },
  {
   "cell_type": "code",
   "execution_count": 77,
   "metadata": {},
   "outputs": [],
   "source": [
    "#Outlier Analysis\n",
    "num_variables=['pickup_longitude','pickup_latitude','dropoff_longitude','dropoff_latitude','passenger_count']\n",
    "for i in num_variables:\n",
    "    q75,q25=np.percentile(test_df.loc[:,i],[75,25])\n",
    "    iqr=q75-q25\n",
    "    min=q25 -(1.5*iqr)\n",
    "    max=q75 +(1.5*iqr)\n",
    "    \n",
    "    test_df=test_df.drop(test_df[test_df.loc[:,i]<min].index)\n",
    "    test_df=test_df.drop(test_df[test_df.loc[:,i]>max].index)"
   ]
  },
  {
   "cell_type": "code",
   "execution_count": 78,
   "metadata": {},
   "outputs": [
    {
     "name": "stdout",
     "output_type": "stream",
     "text": [
      "       pickup_longitude  pickup_latitude  dropoff_longitude  dropoff_latitude  \\\n",
      "count       7687.000000      7687.000000        7687.000000       7687.000000   \n",
      "mean         -73.981871        40.752475         -73.980279         40.753094   \n",
      "std            0.016354         0.021372           0.017423          0.023315   \n",
      "min          -74.023050        40.692392         -74.028842         40.688838   \n",
      "25%          -73.993313        40.737385         -73.992014         40.737626   \n",
      "50%          -73.983221        40.753280         -73.981340         40.754463   \n",
      "75%          -73.970814        40.766678         -73.969173         40.768384   \n",
      "max          -73.931783        40.810477         -73.927247         40.816254   \n",
      "\n",
      "       passenger_count  \n",
      "count      7687.000000  \n",
      "mean          1.266944  \n",
      "std           0.544916  \n",
      "min           1.000000  \n",
      "25%           1.000000  \n",
      "50%           1.000000  \n",
      "75%           1.000000  \n",
      "max           3.000000  \n"
     ]
    }
   ],
   "source": [
    "print(test_df.describe())"
   ]
  },
  {
   "cell_type": "code",
   "execution_count": 79,
   "metadata": {},
   "outputs": [],
   "source": [
    "#Feature Engineering\n",
    "test_df['year'] = test_df.pickup_datetime.dt.year\n",
    "test_df['month'] = test_df.pickup_datetime.dt.month\n",
    "test_df['day'] = test_df.pickup_datetime.dt.day\n",
    "test_df['weekday'] = test_df.pickup_datetime.dt.weekday\n",
    "test_df['hour'] = test_df.pickup_datetime.dt.hour\n",
    "del test_df['pickup_datetime']"
   ]
  },
  {
   "cell_type": "code",
   "execution_count": 80,
   "metadata": {},
   "outputs": [],
   "source": [
    "def haversine_distance(lat1, long1, lat2, long2):\n",
    "    data = [test_df]\n",
    "    for i in data:\n",
    "        R = 6371  #radius of earth in kilometers\n",
    "        #R = 3959 #radius of earth in miles\n",
    "        phi1 = np.radians(i[lat1])\n",
    "        phi2 = np.radians(i[lat2])\n",
    "    \n",
    "        delta_phi = np.radians(i[lat2]-i[lat1])\n",
    "        delta_lambda = np.radians(i[long2]-i[long1])\n",
    "    \n",
    "        #a = sin²((φB - φA)/2) + cos φA . cos φB . sin²((λB - λA)/2)\n",
    "        a = np.sin(delta_phi / 2.0) ** 2 + np.cos(phi1) * np.cos(phi2) * np.sin(delta_lambda / 2.0) ** 2\n",
    "    \n",
    "        #c = 2 * atan2( √a, √(1−a) )\n",
    "        c = 2 * np.arctan2(np.sqrt(a), np.sqrt(1-a))\n",
    "    \n",
    "        #d = R*c\n",
    "        d = (R * c) #in kilometers\n",
    "        i['distance_km'] = d\n",
    "    return d"
   ]
  },
  {
   "cell_type": "code",
   "execution_count": 81,
   "metadata": {},
   "outputs": [
    {
     "name": "stdout",
     "output_type": "stream",
     "text": [
      "   pickup_longitude  pickup_latitude  dropoff_longitude  dropoff_latitude  \\\n",
      "0        -73.973320        40.763805         -73.981430         40.743835   \n",
      "1        -73.986862        40.719383         -73.998886         40.739201   \n",
      "2        -73.982524        40.751260         -73.979654         40.746139   \n",
      "3        -73.981160        40.767807         -73.990448         40.751635   \n",
      "4        -73.966046        40.789775         -73.988565         40.744427   \n",
      "\n",
      "   passenger_count  year  month  day  weekday  hour  distance_km  \n",
      "0                1  2015      1   27        1    13     2.323259  \n",
      "1                1  2015      1   27        1    13     2.425353  \n",
      "2                1  2011     10    8        5    11     0.618628  \n",
      "3                1  2012     12    1        5    21     1.961033  \n",
      "4                1  2012     12    1        5    21     5.387301  \n"
     ]
    }
   ],
   "source": [
    "\n",
    "test_df['distance_km'] = haversine_distance('pickup_latitude', 'pickup_longitude', 'dropoff_latitude', 'dropoff_longitude')\n",
    "print(test_df.head())"
   ]
  },
  {
   "cell_type": "code",
   "execution_count": 82,
   "metadata": {},
   "outputs": [
    {
     "name": "stderr",
     "output_type": "stream",
     "text": [
      "C:\\Users\\admin\\Anaconda3.7\\lib\\site-packages\\ipykernel_launcher.py:2: DataConversionWarning: Data with input dtype int64, float64 were all converted to float64 by StandardScaler.\n",
      "  \n"
     ]
    },
    {
     "data": {
      "text/plain": [
       "array([ 9.6515, 11.3255,  4.3655, ..., 17.3095,  5.415 ,  7.625 ])"
      ]
     },
     "execution_count": 82,
     "metadata": {},
     "output_type": "execute_result"
    }
   ],
   "source": [
    "#Feature scaling for all values to lie under 1 range and then predicting\n",
    "y = sc.transform(test_df) \n",
    "predicted_fare = regressor.predict(y)\n",
    "predicted_fare"
   ]
  },
  {
   "cell_type": "code",
   "execution_count": 83,
   "metadata": {},
   "outputs": [],
   "source": [
    "test_df['predicted_fare'] = predicted_fare"
   ]
  },
  {
   "cell_type": "code",
   "execution_count": 84,
   "metadata": {},
   "outputs": [
    {
     "data": {
      "text/html": [
       "<div>\n",
       "<style scoped>\n",
       "    .dataframe tbody tr th:only-of-type {\n",
       "        vertical-align: middle;\n",
       "    }\n",
       "\n",
       "    .dataframe tbody tr th {\n",
       "        vertical-align: top;\n",
       "    }\n",
       "\n",
       "    .dataframe thead th {\n",
       "        text-align: right;\n",
       "    }\n",
       "</style>\n",
       "<table border=\"1\" class=\"dataframe\">\n",
       "  <thead>\n",
       "    <tr style=\"text-align: right;\">\n",
       "      <th></th>\n",
       "      <th>pickup_longitude</th>\n",
       "      <th>pickup_latitude</th>\n",
       "      <th>dropoff_longitude</th>\n",
       "      <th>dropoff_latitude</th>\n",
       "      <th>passenger_count</th>\n",
       "      <th>year</th>\n",
       "      <th>month</th>\n",
       "      <th>day</th>\n",
       "      <th>weekday</th>\n",
       "      <th>hour</th>\n",
       "      <th>distance_km</th>\n",
       "      <th>predicted_fare</th>\n",
       "    </tr>\n",
       "  </thead>\n",
       "  <tbody>\n",
       "    <tr>\n",
       "      <th>0</th>\n",
       "      <td>-73.973320</td>\n",
       "      <td>40.763805</td>\n",
       "      <td>-73.981430</td>\n",
       "      <td>40.743835</td>\n",
       "      <td>1</td>\n",
       "      <td>2015</td>\n",
       "      <td>1</td>\n",
       "      <td>27</td>\n",
       "      <td>1</td>\n",
       "      <td>13</td>\n",
       "      <td>2.323259</td>\n",
       "      <td>9.6515</td>\n",
       "    </tr>\n",
       "    <tr>\n",
       "      <th>1</th>\n",
       "      <td>-73.986862</td>\n",
       "      <td>40.719383</td>\n",
       "      <td>-73.998886</td>\n",
       "      <td>40.739201</td>\n",
       "      <td>1</td>\n",
       "      <td>2015</td>\n",
       "      <td>1</td>\n",
       "      <td>27</td>\n",
       "      <td>1</td>\n",
       "      <td>13</td>\n",
       "      <td>2.425353</td>\n",
       "      <td>11.3255</td>\n",
       "    </tr>\n",
       "    <tr>\n",
       "      <th>2</th>\n",
       "      <td>-73.982524</td>\n",
       "      <td>40.751260</td>\n",
       "      <td>-73.979654</td>\n",
       "      <td>40.746139</td>\n",
       "      <td>1</td>\n",
       "      <td>2011</td>\n",
       "      <td>10</td>\n",
       "      <td>8</td>\n",
       "      <td>5</td>\n",
       "      <td>11</td>\n",
       "      <td>0.618628</td>\n",
       "      <td>4.3655</td>\n",
       "    </tr>\n",
       "    <tr>\n",
       "      <th>3</th>\n",
       "      <td>-73.981160</td>\n",
       "      <td>40.767807</td>\n",
       "      <td>-73.990448</td>\n",
       "      <td>40.751635</td>\n",
       "      <td>1</td>\n",
       "      <td>2012</td>\n",
       "      <td>12</td>\n",
       "      <td>1</td>\n",
       "      <td>5</td>\n",
       "      <td>21</td>\n",
       "      <td>1.961033</td>\n",
       "      <td>9.3030</td>\n",
       "    </tr>\n",
       "    <tr>\n",
       "      <th>4</th>\n",
       "      <td>-73.966046</td>\n",
       "      <td>40.789775</td>\n",
       "      <td>-73.988565</td>\n",
       "      <td>40.744427</td>\n",
       "      <td>1</td>\n",
       "      <td>2012</td>\n",
       "      <td>12</td>\n",
       "      <td>1</td>\n",
       "      <td>5</td>\n",
       "      <td>21</td>\n",
       "      <td>5.387301</td>\n",
       "      <td>14.2520</td>\n",
       "    </tr>\n",
       "  </tbody>\n",
       "</table>\n",
       "</div>"
      ],
      "text/plain": [
       "   pickup_longitude  pickup_latitude  dropoff_longitude  dropoff_latitude  \\\n",
       "0        -73.973320        40.763805         -73.981430         40.743835   \n",
       "1        -73.986862        40.719383         -73.998886         40.739201   \n",
       "2        -73.982524        40.751260         -73.979654         40.746139   \n",
       "3        -73.981160        40.767807         -73.990448         40.751635   \n",
       "4        -73.966046        40.789775         -73.988565         40.744427   \n",
       "\n",
       "   passenger_count  year  month  day  weekday  hour  distance_km  \\\n",
       "0                1  2015      1   27        1    13     2.323259   \n",
       "1                1  2015      1   27        1    13     2.425353   \n",
       "2                1  2011     10    8        5    11     0.618628   \n",
       "3                1  2012     12    1        5    21     1.961033   \n",
       "4                1  2012     12    1        5    21     5.387301   \n",
       "\n",
       "   predicted_fare  \n",
       "0          9.6515  \n",
       "1         11.3255  \n",
       "2          4.3655  \n",
       "3          9.3030  \n",
       "4         14.2520  "
      ]
     },
     "execution_count": 84,
     "metadata": {},
     "output_type": "execute_result"
    }
   ],
   "source": [
    "test_df.head()"
   ]
  },
  {
   "cell_type": "code",
   "execution_count": 85,
   "metadata": {},
   "outputs": [
    {
     "data": {
      "text/html": [
       "<div>\n",
       "<style scoped>\n",
       "    .dataframe tbody tr th:only-of-type {\n",
       "        vertical-align: middle;\n",
       "    }\n",
       "\n",
       "    .dataframe tbody tr th {\n",
       "        vertical-align: top;\n",
       "    }\n",
       "\n",
       "    .dataframe thead th {\n",
       "        text-align: right;\n",
       "    }\n",
       "</style>\n",
       "<table border=\"1\" class=\"dataframe\">\n",
       "  <thead>\n",
       "    <tr style=\"text-align: right;\">\n",
       "      <th></th>\n",
       "      <th>pickup_longitude</th>\n",
       "      <th>pickup_latitude</th>\n",
       "      <th>dropoff_longitude</th>\n",
       "      <th>dropoff_latitude</th>\n",
       "      <th>passenger_count</th>\n",
       "      <th>year</th>\n",
       "      <th>month</th>\n",
       "      <th>day</th>\n",
       "      <th>weekday</th>\n",
       "      <th>hour</th>\n",
       "      <th>distance_km</th>\n",
       "      <th>predicted_fare</th>\n",
       "    </tr>\n",
       "  </thead>\n",
       "  <tbody>\n",
       "    <tr>\n",
       "      <th>count</th>\n",
       "      <td>6396.000000</td>\n",
       "      <td>6396.000000</td>\n",
       "      <td>6396.000000</td>\n",
       "      <td>6396.000000</td>\n",
       "      <td>6396.000000</td>\n",
       "      <td>6396.000000</td>\n",
       "      <td>6396.00000</td>\n",
       "      <td>6396.000000</td>\n",
       "      <td>6396.000000</td>\n",
       "      <td>6396.000000</td>\n",
       "      <td>6396.000000</td>\n",
       "      <td>6396.000000</td>\n",
       "    </tr>\n",
       "    <tr>\n",
       "      <th>mean</th>\n",
       "      <td>-73.982125</td>\n",
       "      <td>40.752205</td>\n",
       "      <td>-73.980278</td>\n",
       "      <td>40.752983</td>\n",
       "      <td>1.267511</td>\n",
       "      <td>2011.811914</td>\n",
       "      <td>6.82192</td>\n",
       "      <td>16.015322</td>\n",
       "      <td>2.854597</td>\n",
       "      <td>13.632739</td>\n",
       "      <td>2.828423</td>\n",
       "      <td>9.640867</td>\n",
       "    </tr>\n",
       "    <tr>\n",
       "      <th>std</th>\n",
       "      <td>0.016389</td>\n",
       "      <td>0.021498</td>\n",
       "      <td>0.017675</td>\n",
       "      <td>0.023799</td>\n",
       "      <td>0.545260</td>\n",
       "      <td>1.801777</td>\n",
       "      <td>3.36226</td>\n",
       "      <td>8.865113</td>\n",
       "      <td>1.984647</td>\n",
       "      <td>6.723912</td>\n",
       "      <td>1.673641</td>\n",
       "      <td>3.301483</td>\n",
       "    </tr>\n",
       "    <tr>\n",
       "      <th>min</th>\n",
       "      <td>-74.017495</td>\n",
       "      <td>40.692407</td>\n",
       "      <td>-74.028842</td>\n",
       "      <td>40.688838</td>\n",
       "      <td>1.000000</td>\n",
       "      <td>2009.000000</td>\n",
       "      <td>1.00000</td>\n",
       "      <td>1.000000</td>\n",
       "      <td>0.000000</td>\n",
       "      <td>0.000000</td>\n",
       "      <td>1.000068</td>\n",
       "      <td>4.575000</td>\n",
       "    </tr>\n",
       "    <tr>\n",
       "      <th>25%</th>\n",
       "      <td>-73.993632</td>\n",
       "      <td>40.736736</td>\n",
       "      <td>-73.992089</td>\n",
       "      <td>40.737153</td>\n",
       "      <td>1.000000</td>\n",
       "      <td>2010.000000</td>\n",
       "      <td>4.00000</td>\n",
       "      <td>9.000000</td>\n",
       "      <td>1.000000</td>\n",
       "      <td>8.000000</td>\n",
       "      <td>1.581117</td>\n",
       "      <td>7.080750</td>\n",
       "    </tr>\n",
       "    <tr>\n",
       "      <th>50%</th>\n",
       "      <td>-73.983436</td>\n",
       "      <td>40.752818</td>\n",
       "      <td>-73.981344</td>\n",
       "      <td>40.754381</td>\n",
       "      <td>1.000000</td>\n",
       "      <td>2012.000000</td>\n",
       "      <td>7.00000</td>\n",
       "      <td>16.000000</td>\n",
       "      <td>3.000000</td>\n",
       "      <td>15.000000</td>\n",
       "      <td>2.330298</td>\n",
       "      <td>8.852000</td>\n",
       "    </tr>\n",
       "    <tr>\n",
       "      <th>75%</th>\n",
       "      <td>-73.971017</td>\n",
       "      <td>40.766528</td>\n",
       "      <td>-73.969141</td>\n",
       "      <td>40.768600</td>\n",
       "      <td>1.000000</td>\n",
       "      <td>2013.000000</td>\n",
       "      <td>10.00000</td>\n",
       "      <td>24.000000</td>\n",
       "      <td>5.000000</td>\n",
       "      <td>19.000000</td>\n",
       "      <td>3.595257</td>\n",
       "      <td>11.481250</td>\n",
       "    </tr>\n",
       "    <tr>\n",
       "      <th>max</th>\n",
       "      <td>-73.932477</td>\n",
       "      <td>40.810477</td>\n",
       "      <td>-73.927247</td>\n",
       "      <td>40.816254</td>\n",
       "      <td>3.000000</td>\n",
       "      <td>2015.000000</td>\n",
       "      <td>12.00000</td>\n",
       "      <td>31.000000</td>\n",
       "      <td>6.000000</td>\n",
       "      <td>23.000000</td>\n",
       "      <td>12.150068</td>\n",
       "      <td>20.494500</td>\n",
       "    </tr>\n",
       "  </tbody>\n",
       "</table>\n",
       "</div>"
      ],
      "text/plain": [
       "       pickup_longitude  pickup_latitude  dropoff_longitude  dropoff_latitude  \\\n",
       "count       6396.000000      6396.000000        6396.000000       6396.000000   \n",
       "mean         -73.982125        40.752205         -73.980278         40.752983   \n",
       "std            0.016389         0.021498           0.017675          0.023799   \n",
       "min          -74.017495        40.692407         -74.028842         40.688838   \n",
       "25%          -73.993632        40.736736         -73.992089         40.737153   \n",
       "50%          -73.983436        40.752818         -73.981344         40.754381   \n",
       "75%          -73.971017        40.766528         -73.969141         40.768600   \n",
       "max          -73.932477        40.810477         -73.927247         40.816254   \n",
       "\n",
       "       passenger_count         year       month          day      weekday  \\\n",
       "count      6396.000000  6396.000000  6396.00000  6396.000000  6396.000000   \n",
       "mean          1.267511  2011.811914     6.82192    16.015322     2.854597   \n",
       "std           0.545260     1.801777     3.36226     8.865113     1.984647   \n",
       "min           1.000000  2009.000000     1.00000     1.000000     0.000000   \n",
       "25%           1.000000  2010.000000     4.00000     9.000000     1.000000   \n",
       "50%           1.000000  2012.000000     7.00000    16.000000     3.000000   \n",
       "75%           1.000000  2013.000000    10.00000    24.000000     5.000000   \n",
       "max           3.000000  2015.000000    12.00000    31.000000     6.000000   \n",
       "\n",
       "              hour  distance_km  predicted_fare  \n",
       "count  6396.000000  6396.000000     6396.000000  \n",
       "mean     13.632739     2.828423        9.640867  \n",
       "std       6.723912     1.673641        3.301483  \n",
       "min       0.000000     1.000068        4.575000  \n",
       "25%       8.000000     1.581117        7.080750  \n",
       "50%      15.000000     2.330298        8.852000  \n",
       "75%      19.000000     3.595257       11.481250  \n",
       "max      23.000000    12.150068       20.494500  "
      ]
     },
     "execution_count": 85,
     "metadata": {},
     "output_type": "execute_result"
    }
   ],
   "source": [
    "test_df = test_df[test_df['distance_km']>=1]\n",
    "test_df.describe()"
   ]
  },
  {
   "cell_type": "code",
   "execution_count": 86,
   "metadata": {},
   "outputs": [
    {
     "data": {
      "image/png": "[encoded data removed]",
      "text/plain": [
       "<Figure size 432x288 with 1 Axes>"
      ]
     },
     "metadata": {
      "needs_background": "light"
     },
     "output_type": "display_data"
    }
   ],
   "source": [
    "plt.scatter(test_df['distance_km'], test_df['predicted_fare'], color='red')\n",
    "\n",
    "plt.title('distance vs fare_amount', fontsize=14)\n",
    "\n",
    "plt.xlabel('distance', fontsize=14)\n",
    "\n",
    "plt.ylabel('fare', fontsize=14)\n",
    "\n",
    "plt.grid(True)\n",
    "\n",
    "plt.show()"
   ]
  },
  {
   "cell_type": "code",
   "execution_count": 87,
   "metadata": {},
   "outputs": [
    {
     "data": {
      "image/png": "[encoded data removed]",
      "text/plain": [
       "<Figure size 432x288 with 1 Axes>"
      ]
     },
     "metadata": {
      "needs_background": "light"
     },
     "output_type": "display_data"
    }
   ],
   "source": [
    "plt.scatter(test_df['hour'],test_df['predicted_fare'], color='red')\n",
    "\n",
    "plt.title('hour vs fare_amount', fontsize=14)\n",
    "\n",
    "plt.xlabel('hour', fontsize=14)\n",
    "\n",
    "plt.ylabel('fare', fontsize=14)\n",
    "\n",
    "plt.grid(True)\n",
    "\n",
    "plt.show()"
   ]
  },
  {
   "cell_type": "code",
   "execution_count": 88,
   "metadata": {},
   "outputs": [
    {
     "data": {
      "image/png": "[encoded data removed]",
      "text/plain": [
       "<Figure size 936x1080 with 6 Axes>"
      ]
     },
     "metadata": {
      "needs_background": "light"
     },
     "output_type": "display_data"
    }
   ],
   "source": [
    "import itertools\n",
    "yrs = [i for i in test_df[\"year\"].unique().tolist() if i not in [2015]]\n",
    "\n",
    "#subset data without year 2015\n",
    "complete_dat = test_df[test_df[\"year\"].isin(yrs)]\n",
    "\n",
    "\n",
    "plt.figure(figsize = (13,15))\n",
    "for i,j in itertools.zip_longest(yrs,range(len(yrs))) :\n",
    "    plt.subplot(3,2,j+1)\n",
    "    trip_counts_mn = complete_dat[complete_dat[\"year\"] == i][\"month\"].value_counts()\n",
    "    trip_counts_mn = trip_counts_mn.reset_index()\n",
    "    sns.barplot(trip_counts_mn[\"index\"],trip_counts_mn[\"month\"],\n",
    "                palette = \"rainbow\",linewidth = 1,\n",
    "                edgecolor = \"k\"*complete_dat[\"month\"].nunique() \n",
    "               )\n",
    "    plt.title(i,color = \"b\",fontsize = 12)\n",
    "    plt.grid(True)\n",
    "    plt.xlabel(\"\")\n",
    "    plt.ylabel(\"trips\")"
   ]
  },
  {
   "cell_type": "code",
   "execution_count": 89,
   "metadata": {},
   "outputs": [
    {
     "data": {
      "image/png": "[encoded data removed]",
      "text/plain": [
       "<Figure size 720x360 with 1 Axes>"
      ]
     },
     "metadata": {
      "needs_background": "light"
     },
     "output_type": "display_data"
    }
   ],
   "source": [
    "fare_mn = test_df.groupby(\"month\")[\"predicted_fare\"].mean().reset_index()\n",
    "\n",
    "\n",
    "plt.figure(figsize = (10,5))\n",
    "sns.barplot(\"month\",\"predicted_fare\",\n",
    "            data = fare_mn,\n",
    "            linewidth =1)\n",
    "plt.grid(True)\n",
    "plt.title(\"Average fare amount by Month\")\n",
    "plt.show()"
   ]
  },
  {
   "cell_type": "code",
   "execution_count": 90,
   "metadata": {},
   "outputs": [],
   "source": [
    "import pickle"
   ]
  },
  {
   "cell_type": "code",
   "execution_count": 93,
   "metadata": {},
   "outputs": [],
   "source": [
    "pickle.dump(regressor, open(\"predict_fare.pkl\",\"wb\"))"
   ]
  },
  {
   "cell_type": "code",
   "execution_count": null,
   "metadata": {},
   "outputs": [],
   "source": []
  }
 ],
 "metadata": {
  "kernelspec": {
   "display_name": "Python 3",
   "language": "python",
   "name": "python3"
  },
  "language_info": {
   "codemirror_mode": {
    "name": "ipython",
    "version": 3
   },
   "file_extension": ".py",
   "mimetype": "text/x-python",
   "name": "python",
   "nbconvert_exporter": "python",
   "pygments_lexer": "ipython3",
   "version": "3.7.3"
  }
 },
 "nbformat": 4,
 "nbformat_minor": 2
}
